{
 "cells": [
  {
   "cell_type": "markdown",
   "id": "c83d06e8",
   "metadata": {},
   "source": [
    "#### Next Steps - Chicago Census Tract Wise Hotspot Analysis / SHAP-Based Parameter Importance Model Using Climatic Variables"
   ]
  },
  {
   "cell_type": "code",
   "execution_count": 2,
   "id": "2368305d",
   "metadata": {},
   "outputs": [
    {
     "name": "stderr",
     "output_type": "stream",
     "text": [
      "c:\\Users\\ITO\\AppData\\Local\\Programs\\Python\\Python312\\Lib\\site-packages\\tqdm\\auto.py:21: TqdmWarning: IProgress not found. Please update jupyter and ipywidgets. See https://ipywidgets.readthedocs.io/en/stable/user_install.html\n",
      "  from .autonotebook import tqdm as notebook_tqdm\n"
     ]
    }
   ],
   "source": [
    "import pandas as pd\n",
    "import numpy as np\n",
    "import shap\n",
    "from sklearn.ensemble import RandomForestRegressor\n",
    "from sklearn.model_selection import train_test_split\n",
    "import matplotlib.pyplot as plt\n",
    "import os"
   ]
  },
  {
   "cell_type": "markdown",
   "id": "eec51ada",
   "metadata": {},
   "source": [
    "Note: script from earlier that generated the zip files was changed to exclude any entries outside of the Chicago boundary (multipolygon).  "
   ]
  },
  {
   "cell_type": "code",
   "execution_count": 3,
   "id": "a8d943ca",
   "metadata": {},
   "outputs": [
    {
     "name": "stdout",
     "output_type": "stream",
     "text": [
      "(801, 42)\n",
      "Index(['TRACTCE10', 'GEOID10', 'NAME10', 'NAMELSAD10', 'Long', 'Lat',\n",
      "       'GEOID_Matc', 'State', 'County', 'Community', 'Communit_1', '15_JUN',\n",
      "       '16_JUN', '17_JUN', '18_JUN', '19_JUN', '20_JUN', '21_JUN', '22_JUN',\n",
      "       '23_JUN', '24_JUN', '25_JUN', '26_JUN', '27_JUN', '28_JUN', '29_JUN',\n",
      "       '30_JUN', '01_JLY', '02_JLY', '03_JLY', '04_JLY', '05_JLY', '06_JLY',\n",
      "       '07_JLY', '08_JLY', '09_JLY', '10_JLY', '11_JLY', '12_JLY', '13_JLY',\n",
      "       '14_JLY', '15_JLY'],\n",
      "      dtype='object')\n"
     ]
    }
   ],
   "source": [
    "df = pd.read_csv(\"Chicago_CT_Point.csv\")\n",
    "print(df.shape)\n",
    "print(df.columns)"
   ]
  },
  {
   "cell_type": "markdown",
   "id": "0a772c25",
   "metadata": {},
   "source": [
    "Now: \n",
    "- SHAP Based parameter importance assesssment model \n",
    "- to predict mean hotspot result using climate variables (from the meteo api) for that day.\n",
    "- plot the importance of the parameters.\n",
    "- ex. \"06_JLY\" is the target variable"
   ]
  },
  {
   "cell_type": "markdown",
   "id": "40696a36",
   "metadata": {},
   "source": [
    "Now for the merging:"
   ]
  },
  {
   "cell_type": "code",
   "execution_count": null,
   "id": "49892f12",
   "metadata": {},
   "outputs": [],
   "source": [
    "## merge my existing weather data for each day from june 15th to july 15th:\n",
    "# get csv here -> https://drive.google.com/file/d/1_cwNNzQkhpV4pdPdvt5ezxpoOW8PoEdw/view?usp=drive_link\n",
    "df_weather = pd.read_csv(\"per-census-agg-weather-data.csv\")\n",
    "df_weather"
   ]
  },
  {
   "cell_type": "code",
   "execution_count": 5,
   "id": "663a5418",
   "metadata": {},
   "outputs": [
    {
     "data": {
      "text/plain": [
       "TRACTCE10     float64\n",
       "GEOID10       float64\n",
       "NAME10        float64\n",
       "NAMELSAD10     object\n",
       "Long          float64\n",
       "Lat           float64\n",
       "GEOID_Matc    float64\n",
       "State          object\n",
       "County         object\n",
       "Community     float64\n",
       "Communit_1     object\n",
       "15_JUN        float64\n",
       "16_JUN        float64\n",
       "17_JUN        float64\n",
       "18_JUN        float64\n",
       "19_JUN        float64\n",
       "20_JUN        float64\n",
       "21_JUN        float64\n",
       "22_JUN        float64\n",
       "23_JUN        float64\n",
       "24_JUN        float64\n",
       "25_JUN        float64\n",
       "26_JUN        float64\n",
       "27_JUN        float64\n",
       "28_JUN        float64\n",
       "29_JUN        float64\n",
       "30_JUN        float64\n",
       "01_JLY        float64\n",
       "02_JLY        float64\n",
       "03_JLY        float64\n",
       "04_JLY        float64\n",
       "05_JLY        float64\n",
       "06_JLY        float64\n",
       "07_JLY        float64\n",
       "08_JLY        float64\n",
       "09_JLY        float64\n",
       "10_JLY        float64\n",
       "11_JLY        float64\n",
       "12_JLY        float64\n",
       "13_JLY        float64\n",
       "14_JLY        float64\n",
       "15_JLY        float64\n",
       "dtype: object"
      ]
     },
     "execution_count": 5,
     "metadata": {},
     "output_type": "execute_result"
    }
   ],
   "source": [
    "## finding the column I can use as the identifier to merge: \n",
    "df.dtypes"
   ]
  },
  {
   "cell_type": "code",
   "execution_count": 6,
   "id": "5f17ac6b",
   "metadata": {},
   "outputs": [
    {
     "data": {
      "text/html": [
       "<div>\n",
       "<style scoped>\n",
       "    .dataframe tbody tr th:only-of-type {\n",
       "        vertical-align: middle;\n",
       "    }\n",
       "\n",
       "    .dataframe tbody tr th {\n",
       "        vertical-align: top;\n",
       "    }\n",
       "\n",
       "    .dataframe thead th {\n",
       "        text-align: right;\n",
       "    }\n",
       "</style>\n",
       "<table border=\"1\" class=\"dataframe\">\n",
       "  <thead>\n",
       "    <tr style=\"text-align: right;\">\n",
       "      <th></th>\n",
       "      <th>TRACTCE10</th>\n",
       "      <th>GEOID10</th>\n",
       "      <th>NAME10</th>\n",
       "      <th>NAMELSAD10</th>\n",
       "      <th>Long</th>\n",
       "      <th>Lat</th>\n",
       "      <th>GEOID_Matc</th>\n",
       "      <th>State</th>\n",
       "      <th>County</th>\n",
       "      <th>Community</th>\n",
       "      <th>...</th>\n",
       "      <th>06_JLY</th>\n",
       "      <th>07_JLY</th>\n",
       "      <th>08_JLY</th>\n",
       "      <th>09_JLY</th>\n",
       "      <th>10_JLY</th>\n",
       "      <th>11_JLY</th>\n",
       "      <th>12_JLY</th>\n",
       "      <th>13_JLY</th>\n",
       "      <th>14_JLY</th>\n",
       "      <th>15_JLY</th>\n",
       "    </tr>\n",
       "  </thead>\n",
       "  <tbody>\n",
       "    <tr>\n",
       "      <th>0</th>\n",
       "      <td>10100.0</td>\n",
       "      <td>1.703101e+10</td>\n",
       "      <td>101.00</td>\n",
       "      <td>Census Tract 101</td>\n",
       "      <td>-87.669844</td>\n",
       "      <td>42.021262</td>\n",
       "      <td>1.703101e+10</td>\n",
       "      <td>ILLINOIS</td>\n",
       "      <td>Cook</td>\n",
       "      <td>1.0</td>\n",
       "      <td>...</td>\n",
       "      <td>2.08279</td>\n",
       "      <td>0.030678</td>\n",
       "      <td>0.733111</td>\n",
       "      <td>0.196165</td>\n",
       "      <td>1.005510</td>\n",
       "      <td>1.92015</td>\n",
       "      <td>0.852281</td>\n",
       "      <td>1.44613</td>\n",
       "      <td>-1.62697</td>\n",
       "      <td>0.957384</td>\n",
       "    </tr>\n",
       "    <tr>\n",
       "      <th>1</th>\n",
       "      <td>10201.0</td>\n",
       "      <td>1.703101e+10</td>\n",
       "      <td>102.01</td>\n",
       "      <td>Census Tract 102.01</td>\n",
       "      <td>-87.680149</td>\n",
       "      <td>42.016008</td>\n",
       "      <td>1.703101e+10</td>\n",
       "      <td>ILLINOIS</td>\n",
       "      <td>Cook</td>\n",
       "      <td>1.0</td>\n",
       "      <td>...</td>\n",
       "      <td>2.12943</td>\n",
       "      <td>-0.356848</td>\n",
       "      <td>0.721191</td>\n",
       "      <td>0.187405</td>\n",
       "      <td>0.796464</td>\n",
       "      <td>1.91168</td>\n",
       "      <td>0.840111</td>\n",
       "      <td>1.46105</td>\n",
       "      <td>-1.61553</td>\n",
       "      <td>0.985709</td>\n",
       "    </tr>\n",
       "    <tr>\n",
       "      <th>2</th>\n",
       "      <td>10202.0</td>\n",
       "      <td>1.703101e+10</td>\n",
       "      <td>102.02</td>\n",
       "      <td>Census Tract 102.02</td>\n",
       "      <td>-87.673322</td>\n",
       "      <td>42.016050</td>\n",
       "      <td>1.703101e+10</td>\n",
       "      <td>ILLINOIS</td>\n",
       "      <td>Cook</td>\n",
       "      <td>1.0</td>\n",
       "      <td>...</td>\n",
       "      <td>2.21761</td>\n",
       "      <td>-0.069992</td>\n",
       "      <td>0.735649</td>\n",
       "      <td>0.214665</td>\n",
       "      <td>0.905013</td>\n",
       "      <td>1.90990</td>\n",
       "      <td>0.848700</td>\n",
       "      <td>1.47602</td>\n",
       "      <td>-1.55933</td>\n",
       "      <td>0.959192</td>\n",
       "    </tr>\n",
       "    <tr>\n",
       "      <th>3</th>\n",
       "      <td>10300.0</td>\n",
       "      <td>1.703101e+10</td>\n",
       "      <td>103.00</td>\n",
       "      <td>Census Tract 103</td>\n",
       "      <td>-87.666535</td>\n",
       "      <td>42.015941</td>\n",
       "      <td>1.703101e+10</td>\n",
       "      <td>ILLINOIS</td>\n",
       "      <td>Cook</td>\n",
       "      <td>1.0</td>\n",
       "      <td>...</td>\n",
       "      <td>2.20066</td>\n",
       "      <td>0.142566</td>\n",
       "      <td>0.746841</td>\n",
       "      <td>0.244895</td>\n",
       "      <td>0.855881</td>\n",
       "      <td>1.91138</td>\n",
       "      <td>0.857554</td>\n",
       "      <td>1.46493</td>\n",
       "      <td>-1.64321</td>\n",
       "      <td>0.938424</td>\n",
       "    </tr>\n",
       "    <tr>\n",
       "      <th>4</th>\n",
       "      <td>10400.0</td>\n",
       "      <td>1.703101e+10</td>\n",
       "      <td>104.00</td>\n",
       "      <td>Census Tract 104</td>\n",
       "      <td>-87.657167</td>\n",
       "      <td>42.005440</td>\n",
       "      <td>1.703101e+10</td>\n",
       "      <td>ILLINOIS</td>\n",
       "      <td>Cook</td>\n",
       "      <td>1.0</td>\n",
       "      <td>...</td>\n",
       "      <td>2.19104</td>\n",
       "      <td>0.586577</td>\n",
       "      <td>0.805455</td>\n",
       "      <td>0.269934</td>\n",
       "      <td>0.491964</td>\n",
       "      <td>1.89636</td>\n",
       "      <td>0.879911</td>\n",
       "      <td>1.49512</td>\n",
       "      <td>-1.77987</td>\n",
       "      <td>0.899077</td>\n",
       "    </tr>\n",
       "  </tbody>\n",
       "</table>\n",
       "<p>5 rows × 42 columns</p>\n",
       "</div>"
      ],
      "text/plain": [
       "   TRACTCE10       GEOID10  NAME10           NAMELSAD10       Long        Lat  \\\n",
       "0    10100.0  1.703101e+10  101.00     Census Tract 101 -87.669844  42.021262   \n",
       "1    10201.0  1.703101e+10  102.01  Census Tract 102.01 -87.680149  42.016008   \n",
       "2    10202.0  1.703101e+10  102.02  Census Tract 102.02 -87.673322  42.016050   \n",
       "3    10300.0  1.703101e+10  103.00     Census Tract 103 -87.666535  42.015941   \n",
       "4    10400.0  1.703101e+10  104.00     Census Tract 104 -87.657167  42.005440   \n",
       "\n",
       "     GEOID_Matc     State County  Community  ...   06_JLY    07_JLY    08_JLY  \\\n",
       "0  1.703101e+10  ILLINOIS   Cook        1.0  ...  2.08279  0.030678  0.733111   \n",
       "1  1.703101e+10  ILLINOIS   Cook        1.0  ...  2.12943 -0.356848  0.721191   \n",
       "2  1.703101e+10  ILLINOIS   Cook        1.0  ...  2.21761 -0.069992  0.735649   \n",
       "3  1.703101e+10  ILLINOIS   Cook        1.0  ...  2.20066  0.142566  0.746841   \n",
       "4  1.703101e+10  ILLINOIS   Cook        1.0  ...  2.19104  0.586577  0.805455   \n",
       "\n",
       "     09_JLY    10_JLY   11_JLY    12_JLY   13_JLY   14_JLY    15_JLY  \n",
       "0  0.196165  1.005510  1.92015  0.852281  1.44613 -1.62697  0.957384  \n",
       "1  0.187405  0.796464  1.91168  0.840111  1.46105 -1.61553  0.985709  \n",
       "2  0.214665  0.905013  1.90990  0.848700  1.47602 -1.55933  0.959192  \n",
       "3  0.244895  0.855881  1.91138  0.857554  1.46493 -1.64321  0.938424  \n",
       "4  0.269934  0.491964  1.89636  0.879911  1.49512 -1.77987  0.899077  \n",
       "\n",
       "[5 rows x 42 columns]"
      ]
     },
     "execution_count": 6,
     "metadata": {},
     "output_type": "execute_result"
    }
   ],
   "source": [
    "df.head()"
   ]
  },
  {
   "cell_type": "code",
   "execution_count": 7,
   "id": "3df2afc4",
   "metadata": {},
   "outputs": [
    {
     "data": {
      "text/plain": [
       "np.int64(0)"
      ]
     },
     "execution_count": 7,
     "metadata": {},
     "output_type": "execute_result"
    }
   ],
   "source": [
    "df[\"GEOID10\"].isna().sum()"
   ]
  },
  {
   "cell_type": "code",
   "execution_count": 8,
   "id": "5c475ed3",
   "metadata": {},
   "outputs": [
    {
     "data": {
      "text/plain": [
       "798"
      ]
     },
     "execution_count": 8,
     "metadata": {},
     "output_type": "execute_result"
    }
   ],
   "source": [
    "df[\"TRACTCE10\"].nunique()"
   ]
  },
  {
   "cell_type": "code",
   "execution_count": 9,
   "id": "8a6fdb5d",
   "metadata": {},
   "outputs": [
    {
     "data": {
      "text/plain": [
       "727"
      ]
     },
     "execution_count": 9,
     "metadata": {},
     "output_type": "execute_result"
    }
   ],
   "source": [
    "df[\"GEOID10\"].nunique()"
   ]
  },
  {
   "cell_type": "code",
   "execution_count": 10,
   "id": "c7949caf",
   "metadata": {},
   "outputs": [
    {
     "data": {
      "text/plain": [
       "Index(['cleaned_time', 'tract_id', 'temperature_180m', 'wind_direction_180m',\n",
       "       'wind_speed_180m', 'surface_pressure', 'cloud_cover',\n",
       "       'relative_humidity_2m', 'precipitation', 'visibility', 'objectid',\n",
       "       'census_tra', 'tract_fips', 'tract_cent', 'tract_ce_1', 'tract_ce_2',\n",
       "       'tract_ce_3', 'tract_comm', 'tract_numa', 'tract_cens', 'perimeter',\n",
       "       'data_admin', 'tract_crea', 'date_tract', 'time_tract', 'shape_area',\n",
       "       'shape_len', 'geometry', 'latitude', 'longitude'],\n",
       "      dtype='object')"
      ]
     },
     "execution_count": 10,
     "metadata": {},
     "output_type": "execute_result"
    }
   ],
   "source": [
    "df_weather.columns"
   ]
  },
  {
   "cell_type": "code",
   "execution_count": 11,
   "id": "3c9deccc",
   "metadata": {},
   "outputs": [],
   "source": [
    "# df = df.rename(columns={\"GEOID10\":\"tract_id\"})\n",
    "# df"
   ]
  },
  {
   "cell_type": "code",
   "execution_count": 12,
   "id": "d7192664",
   "metadata": {},
   "outputs": [],
   "source": [
    "# merged = pd.merge(df, df_weather, left_on=\"TRACTCE10\", right_on=\"census_tra\", how=\"inner\")\n",
    "# merged.census_tra.nunique()"
   ]
  },
  {
   "cell_type": "code",
   "execution_count": 13,
   "id": "a7738cc2",
   "metadata": {},
   "outputs": [
    {
     "data": {
      "text/plain": [
       "616"
      ]
     },
     "execution_count": 13,
     "metadata": {},
     "output_type": "execute_result"
    }
   ],
   "source": [
    "merged = pd.merge(df, df_weather, left_on=\"GEOID10\", right_on=\"tract_id\", how=\"inner\")\n",
    "merged.tract_id.nunique()"
   ]
  },
  {
   "cell_type": "code",
   "execution_count": 14,
   "id": "46ffcca1",
   "metadata": {},
   "outputs": [
    {
     "data": {
      "text/plain": [
       "Index(['cleaned_time', 'tract_id', 'temperature_180m', 'wind_direction_180m',\n",
       "       'wind_speed_180m', 'surface_pressure', 'cloud_cover',\n",
       "       'relative_humidity_2m', 'precipitation', 'visibility', 'objectid',\n",
       "       'census_tra', 'tract_fips', 'tract_cent', 'tract_ce_1', 'tract_ce_2',\n",
       "       'tract_ce_3', 'tract_comm', 'tract_numa', 'tract_cens', 'perimeter',\n",
       "       'data_admin', 'tract_crea', 'date_tract', 'time_tract', 'shape_area',\n",
       "       'shape_len', 'geometry', 'latitude', 'longitude'],\n",
       "      dtype='object')"
      ]
     },
     "execution_count": 14,
     "metadata": {},
     "output_type": "execute_result"
    }
   ],
   "source": [
    "df_weather.columns"
   ]
  },
  {
   "cell_type": "code",
   "execution_count": 15,
   "id": "51ca17ac",
   "metadata": {},
   "outputs": [],
   "source": [
    "# defining the features matrix\n",
    "features = ['temperature_180m', 'wind_direction_180m',\n",
    "       'wind_speed_180m', 'surface_pressure', 'cloud_cover',\n",
    "       'relative_humidity_2m', 'precipitation', 'visibility']\n",
    "\n",
    "target_vars = ['15_JUN',\n",
    "       '16_JUN', '17_JUN', '18_JUN', '19_JUN', '20_JUN', '21_JUN', '22_JUN',\n",
    "       '23_JUN', '24_JUN', '25_JUN', '26_JUN', '27_JUN', '28_JUN', '29_JUN',\n",
    "       '30_JUN', '01_JLY', '02_JLY', '03_JLY', '04_JLY', '05_JLY', '06_JLY',\n",
    "       '07_JLY', '08_JLY', '09_JLY', '10_JLY', '11_JLY', '12_JLY', '13_JLY',\n",
    "       '14_JLY', '15_JLY']\n",
    "# each day contains the average howMany (birds) hotspot z-score for the day for one census tract \n",
    "\n",
    "X = merged[features]"
   ]
  },
  {
   "cell_type": "code",
   "execution_count": null,
   "id": "19ae2860",
   "metadata": {},
   "outputs": [
    {
     "name": "stdout",
     "output_type": "stream",
     "text": [
      "Training and plotting for target: 15_JUN\n"
     ]
    }
   ],
   "source": [
    "for target in target_vars:\n",
    "    print(f\"Training and plotting for target: {target}\")\n",
    "    y = merged[target]\n",
    "\n",
    "    X_train, X_test, y_train, y_test = train_test_split(X, y, test_size=0.2, random_state=42)\n",
    "    model = RandomForestRegressor(n_estimators=100, random_state=30, n_jobs=-1) # 30 for testing\n",
    "    model.fit(X_train, y_train)\n",
    "\n",
    "    explainer = shap.TreeExplainer(model)\n",
    "    shap_values = explainer.shap_values(X_test)\n",
    "\n",
    "    plt.figure()\n",
    "    shap.summary_plot(shap_values, X_test, show=False)\n",
    "    plt.title(f\"shap summary plot for {target}, 2025\")\n",
    "    plt.tight_layout()\n",
    "\n",
    "    os.makedirs(\"shap_plots\", exist_ok=True)\n",
    "    path = f\"shap_plots/shap_summary_for_{target}.png\"\n",
    "    \n",
    "    plt.savefig(path, dpi=150)\n",
    "    plt.close()\n",
    "\n",
    "    print(f\"Saved plot to {path} (finished)\")"
   ]
  },
  {
   "cell_type": "code",
   "execution_count": null,
   "id": "99a242ac",
   "metadata": {},
   "outputs": [],
   "source": []
  }
 ],
 "metadata": {
  "kernelspec": {
   "display_name": "Python 3",
   "language": "python",
   "name": "python3"
  },
  "language_info": {
   "codemirror_mode": {
    "name": "ipython",
    "version": 3
   },
   "file_extension": ".py",
   "mimetype": "text/x-python",
   "name": "python",
   "nbconvert_exporter": "python",
   "pygments_lexer": "ipython3",
   "version": "3.12.4"
  }
 },
 "nbformat": 4,
 "nbformat_minor": 5
}
