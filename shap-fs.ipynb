{
 "cells": [
  {
   "cell_type": "markdown",
   "id": "c83d06e8",
   "metadata": {},
   "source": [
    "#### Next Steps - Chicago Census Tract Wise Hotspot Analysis / SHAP-Based Parameter Importance Model Using Climatic Variables"
   ]
  },
  {
   "cell_type": "code",
   "execution_count": 56,
   "id": "2368305d",
   "metadata": {},
   "outputs": [],
   "source": [
    "import pandas as pd\n",
    "import numpy as np\n",
    "import shap\n",
    "from sklearn.ensemble import RandomForestRegressor\n",
    "from sklearn.model_selection import train_test_split\n",
    "import matplotlib.pyplot as plt\n",
    "import os"
   ]
  },
  {
   "cell_type": "markdown",
   "id": "eec51ada",
   "metadata": {},
   "source": [
    "Note: script from earlier that generated the zip files was changed to exclude any entries outside of the Chicago boundary (multipolygon).  "
   ]
  },
  {
   "cell_type": "code",
   "execution_count": 57,
   "id": "a8d943ca",
   "metadata": {},
   "outputs": [
    {
     "name": "stdout",
     "output_type": "stream",
     "text": [
      "(801, 42)\n",
      "Index(['TRACTCE10', 'GEOID10', 'NAME10', 'NAMELSAD10', 'Long', 'Lat',\n",
      "       'GEOID_Matc', 'State', 'County', 'Community', 'Communit_1', '15_JUN',\n",
      "       '16_JUN', '17_JUN', '18_JUN', '19_JUN', '20_JUN', '21_JUN', '22_JUN',\n",
      "       '23_JUN', '24_JUN', '25_JUN', '26_JUN', '27_JUN', '28_JUN', '29_JUN',\n",
      "       '30_JUN', '01_JLY', '02_JLY', '03_JLY', '04_JLY', '05_JLY', '06_JLY',\n",
      "       '07_JLY', '08_JLY', '09_JLY', '10_JLY', '11_JLY', '12_JLY', '13_JLY',\n",
      "       '14_JLY', '15_JLY'],\n",
      "      dtype='object')\n"
     ]
    }
   ],
   "source": [
    "df = pd.read_csv(\"Chicago_CT_Point.csv\")\n",
    "print(df.shape)\n",
    "print(df.columns)"
   ]
  },
  {
   "cell_type": "markdown",
   "id": "0a772c25",
   "metadata": {},
   "source": [
    "Now: \n",
    "- SHAP Based parameter importance assesssment model \n",
    "- to predict mean hotspot result using climate variables (from the meteo api) for that day.\n",
    "- plot the importance of the parameters.\n",
    "- ex. \"06_JLY\" is the target variable"
   ]
  },
  {
   "cell_type": "markdown",
   "id": "40696a36",
   "metadata": {},
   "source": [
    "Now for the merging:"
   ]
  },
  {
   "cell_type": "code",
   "execution_count": 58,
   "id": "49892f12",
   "metadata": {},
   "outputs": [
    {
     "data": {
      "text/html": [
       "<div>\n",
       "<style scoped>\n",
       "    .dataframe tbody tr th:only-of-type {\n",
       "        vertical-align: middle;\n",
       "    }\n",
       "\n",
       "    .dataframe tbody tr th {\n",
       "        vertical-align: top;\n",
       "    }\n",
       "\n",
       "    .dataframe thead th {\n",
       "        text-align: right;\n",
       "    }\n",
       "</style>\n",
       "<table border=\"1\" class=\"dataframe\">\n",
       "  <thead>\n",
       "    <tr style=\"text-align: right;\">\n",
       "      <th></th>\n",
       "      <th>cleaned_time</th>\n",
       "      <th>tract_id</th>\n",
       "      <th>temperature_180m</th>\n",
       "      <th>wind_direction_180m</th>\n",
       "      <th>wind_speed_180m</th>\n",
       "      <th>surface_pressure</th>\n",
       "      <th>cloud_cover</th>\n",
       "      <th>relative_humidity_2m</th>\n",
       "      <th>precipitation</th>\n",
       "      <th>visibility</th>\n",
       "      <th>...</th>\n",
       "      <th>countyfp10</th>\n",
       "      <th>tractce10</th>\n",
       "      <th>name10</th>\n",
       "      <th>namelsad10</th>\n",
       "      <th>commarea</th>\n",
       "      <th>commarea_n</th>\n",
       "      <th>notes</th>\n",
       "      <th>geometry</th>\n",
       "      <th>latitude</th>\n",
       "      <th>longitude</th>\n",
       "    </tr>\n",
       "  </thead>\n",
       "  <tbody>\n",
       "    <tr>\n",
       "      <th>0</th>\n",
       "      <td>2025-06-15</td>\n",
       "      <td>17031010100</td>\n",
       "      <td>67.387500</td>\n",
       "      <td>66.208333</td>\n",
       "      <td>10.437500</td>\n",
       "      <td>996.566667</td>\n",
       "      <td>24.833333</td>\n",
       "      <td>77.583333</td>\n",
       "      <td>0.0</td>\n",
       "      <td>61871.172208</td>\n",
       "      <td>...</td>\n",
       "      <td>31</td>\n",
       "      <td>10100</td>\n",
       "      <td>101.00</td>\n",
       "      <td>Census Tract 101</td>\n",
       "      <td>1</td>\n",
       "      <td>1.0</td>\n",
       "      <td>NaN</td>\n",
       "      <td>POLYGON ((-87.66368000002299 42.01939800001483...</td>\n",
       "      <td>42.021262</td>\n",
       "      <td>-87.669844</td>\n",
       "    </tr>\n",
       "    <tr>\n",
       "      <th>1</th>\n",
       "      <td>2025-06-15</td>\n",
       "      <td>17031010201</td>\n",
       "      <td>66.091667</td>\n",
       "      <td>60.500000</td>\n",
       "      <td>9.879167</td>\n",
       "      <td>996.204167</td>\n",
       "      <td>25.666667</td>\n",
       "      <td>79.625000</td>\n",
       "      <td>0.0</td>\n",
       "      <td>59752.296625</td>\n",
       "      <td>...</td>\n",
       "      <td>31</td>\n",
       "      <td>10201</td>\n",
       "      <td>102.01</td>\n",
       "      <td>Census Tract 102.01</td>\n",
       "      <td>1</td>\n",
       "      <td>1.0</td>\n",
       "      <td>NaN</td>\n",
       "      <td>POLYGON ((-87.6800950000417 42.01253799999502,...</td>\n",
       "      <td>42.016008</td>\n",
       "      <td>-87.680149</td>\n",
       "    </tr>\n",
       "    <tr>\n",
       "      <th>2</th>\n",
       "      <td>2025-06-15</td>\n",
       "      <td>17031010202</td>\n",
       "      <td>67.400000</td>\n",
       "      <td>66.208333</td>\n",
       "      <td>10.437500</td>\n",
       "      <td>996.666667</td>\n",
       "      <td>24.833333</td>\n",
       "      <td>77.583333</td>\n",
       "      <td>0.0</td>\n",
       "      <td>61871.172208</td>\n",
       "      <td>...</td>\n",
       "      <td>31</td>\n",
       "      <td>10202</td>\n",
       "      <td>102.02</td>\n",
       "      <td>Census Tract 102.02</td>\n",
       "      <td>1</td>\n",
       "      <td>1.0</td>\n",
       "      <td>NaN</td>\n",
       "      <td>POLYGON ((-87.67335799998422 42.01937400001867...</td>\n",
       "      <td>42.016050</td>\n",
       "      <td>-87.673322</td>\n",
       "    </tr>\n",
       "    <tr>\n",
       "      <th>3</th>\n",
       "      <td>2025-06-15</td>\n",
       "      <td>17031010300</td>\n",
       "      <td>67.387500</td>\n",
       "      <td>66.208333</td>\n",
       "      <td>10.437500</td>\n",
       "      <td>996.566667</td>\n",
       "      <td>24.833333</td>\n",
       "      <td>77.583333</td>\n",
       "      <td>0.0</td>\n",
       "      <td>61871.172208</td>\n",
       "      <td>...</td>\n",
       "      <td>31</td>\n",
       "      <td>10300</td>\n",
       "      <td>103.00</td>\n",
       "      <td>Census Tract 103</td>\n",
       "      <td>1</td>\n",
       "      <td>1.0</td>\n",
       "      <td>NaN</td>\n",
       "      <td>POLYGON ((-87.66505999995483 42.01280100002973...</td>\n",
       "      <td>42.015941</td>\n",
       "      <td>-87.666535</td>\n",
       "    </tr>\n",
       "    <tr>\n",
       "      <th>4</th>\n",
       "      <td>2025-06-15</td>\n",
       "      <td>17031010400</td>\n",
       "      <td>67.520833</td>\n",
       "      <td>66.208333</td>\n",
       "      <td>10.437500</td>\n",
       "      <td>997.795833</td>\n",
       "      <td>29.541667</td>\n",
       "      <td>84.250000</td>\n",
       "      <td>0.0</td>\n",
       "      <td>52589.130042</td>\n",
       "      <td>...</td>\n",
       "      <td>31</td>\n",
       "      <td>10400</td>\n",
       "      <td>104.00</td>\n",
       "      <td>Census Tract 104</td>\n",
       "      <td>1</td>\n",
       "      <td>1.0</td>\n",
       "      <td>NaN</td>\n",
       "      <td>POLYGON ((-87.65080299995667 41.99848500000089...</td>\n",
       "      <td>42.005440</td>\n",
       "      <td>-87.657166</td>\n",
       "    </tr>\n",
       "    <tr>\n",
       "      <th>...</th>\n",
       "      <td>...</td>\n",
       "      <td>...</td>\n",
       "      <td>...</td>\n",
       "      <td>...</td>\n",
       "      <td>...</td>\n",
       "      <td>...</td>\n",
       "      <td>...</td>\n",
       "      <td>...</td>\n",
       "      <td>...</td>\n",
       "      <td>...</td>\n",
       "      <td>...</td>\n",
       "      <td>...</td>\n",
       "      <td>...</td>\n",
       "      <td>...</td>\n",
       "      <td>...</td>\n",
       "      <td>...</td>\n",
       "      <td>...</td>\n",
       "      <td>...</td>\n",
       "      <td>...</td>\n",
       "      <td>...</td>\n",
       "      <td>...</td>\n",
       "    </tr>\n",
       "    <tr>\n",
       "      <th>24826</th>\n",
       "      <td>2025-07-15</td>\n",
       "      <td>17031843700</td>\n",
       "      <td>78.629167</td>\n",
       "      <td>170.750000</td>\n",
       "      <td>7.554167</td>\n",
       "      <td>994.012500</td>\n",
       "      <td>31.208333</td>\n",
       "      <td>73.666667</td>\n",
       "      <td>0.0</td>\n",
       "      <td>69813.539167</td>\n",
       "      <td>...</td>\n",
       "      <td>31</td>\n",
       "      <td>843700</td>\n",
       "      <td>8437.00</td>\n",
       "      <td>Census Tract 8437</td>\n",
       "      <td>5</td>\n",
       "      <td>5.0</td>\n",
       "      <td>NaN</td>\n",
       "      <td>POLYGON ((-87.69666899996376 41.94854100002745...</td>\n",
       "      <td>41.944826</td>\n",
       "      <td>-87.690788</td>\n",
       "    </tr>\n",
       "    <tr>\n",
       "      <th>24827</th>\n",
       "      <td>2025-07-15</td>\n",
       "      <td>17031843800</td>\n",
       "      <td>78.558333</td>\n",
       "      <td>166.083333</td>\n",
       "      <td>8.750000</td>\n",
       "      <td>994.737500</td>\n",
       "      <td>29.833333</td>\n",
       "      <td>71.083333</td>\n",
       "      <td>0.0</td>\n",
       "      <td>76060.805708</td>\n",
       "      <td>...</td>\n",
       "      <td>31</td>\n",
       "      <td>843800</td>\n",
       "      <td>8438.00</td>\n",
       "      <td>Census Tract 8438</td>\n",
       "      <td>61</td>\n",
       "      <td>61.0</td>\n",
       "      <td>NaN</td>\n",
       "      <td>POLYGON ((-87.6451599999826 41.79430200000245,...</td>\n",
       "      <td>41.801657</td>\n",
       "      <td>-87.640476</td>\n",
       "    </tr>\n",
       "    <tr>\n",
       "      <th>24828</th>\n",
       "      <td>2025-07-15</td>\n",
       "      <td>17031843900</td>\n",
       "      <td>78.625000</td>\n",
       "      <td>166.083333</td>\n",
       "      <td>8.750000</td>\n",
       "      <td>995.441667</td>\n",
       "      <td>25.083333</td>\n",
       "      <td>73.708333</td>\n",
       "      <td>0.0</td>\n",
       "      <td>71221.567042</td>\n",
       "      <td>...</td>\n",
       "      <td>31</td>\n",
       "      <td>843900</td>\n",
       "      <td>8439.00</td>\n",
       "      <td>Census Tract 8439</td>\n",
       "      <td>42</td>\n",
       "      <td>42.0</td>\n",
       "      <td>Small area in CA 43</td>\n",
       "      <td>POLYGON ((-87.55868599996295 41.77379199996368...</td>\n",
       "      <td>41.776599</td>\n",
       "      <td>-87.576017</td>\n",
       "    </tr>\n",
       "    <tr>\n",
       "      <th>24829</th>\n",
       "      <td>2025-07-15</td>\n",
       "      <td>17031980000</td>\n",
       "      <td>78.279167</td>\n",
       "      <td>181.666667</td>\n",
       "      <td>7.125000</td>\n",
       "      <td>992.770833</td>\n",
       "      <td>51.666667</td>\n",
       "      <td>65.875000</td>\n",
       "      <td>0.0</td>\n",
       "      <td>85137.795458</td>\n",
       "      <td>...</td>\n",
       "      <td>31</td>\n",
       "      <td>980000</td>\n",
       "      <td>9800.00</td>\n",
       "      <td>Census Tract 9800</td>\n",
       "      <td>76</td>\n",
       "      <td>76.0</td>\n",
       "      <td>Partially outside City Boundary (O'Hare)</td>\n",
       "      <td>POLYGON ((-87.92062799997296 42.00453199998842...</td>\n",
       "      <td>41.980265</td>\n",
       "      <td>-87.903893</td>\n",
       "    </tr>\n",
       "    <tr>\n",
       "      <th>24830</th>\n",
       "      <td>2025-07-15</td>\n",
       "      <td>17031980100</td>\n",
       "      <td>78.341667</td>\n",
       "      <td>163.875000</td>\n",
       "      <td>8.354167</td>\n",
       "      <td>994.420833</td>\n",
       "      <td>41.375000</td>\n",
       "      <td>67.833333</td>\n",
       "      <td>0.0</td>\n",
       "      <td>85315.508375</td>\n",
       "      <td>...</td>\n",
       "      <td>31</td>\n",
       "      <td>980100</td>\n",
       "      <td>9801.00</td>\n",
       "      <td>Census Tract 9801</td>\n",
       "      <td>56</td>\n",
       "      <td>56.0</td>\n",
       "      <td>Half in CA 64 (Midway Airport)</td>\n",
       "      <td>POLYGON ((-87.73789600001243 41.78578500000872...</td>\n",
       "      <td>41.785990</td>\n",
       "      <td>-87.750962</td>\n",
       "    </tr>\n",
       "  </tbody>\n",
       "</table>\n",
       "<p>24831 rows × 21 columns</p>\n",
       "</div>"
      ],
      "text/plain": [
       "      cleaned_time     tract_id  temperature_180m  wind_direction_180m  \\\n",
       "0       2025-06-15  17031010100         67.387500            66.208333   \n",
       "1       2025-06-15  17031010201         66.091667            60.500000   \n",
       "2       2025-06-15  17031010202         67.400000            66.208333   \n",
       "3       2025-06-15  17031010300         67.387500            66.208333   \n",
       "4       2025-06-15  17031010400         67.520833            66.208333   \n",
       "...            ...          ...               ...                  ...   \n",
       "24826   2025-07-15  17031843700         78.629167           170.750000   \n",
       "24827   2025-07-15  17031843800         78.558333           166.083333   \n",
       "24828   2025-07-15  17031843900         78.625000           166.083333   \n",
       "24829   2025-07-15  17031980000         78.279167           181.666667   \n",
       "24830   2025-07-15  17031980100         78.341667           163.875000   \n",
       "\n",
       "       wind_speed_180m  surface_pressure  cloud_cover  relative_humidity_2m  \\\n",
       "0            10.437500        996.566667    24.833333             77.583333   \n",
       "1             9.879167        996.204167    25.666667             79.625000   \n",
       "2            10.437500        996.666667    24.833333             77.583333   \n",
       "3            10.437500        996.566667    24.833333             77.583333   \n",
       "4            10.437500        997.795833    29.541667             84.250000   \n",
       "...                ...               ...          ...                   ...   \n",
       "24826         7.554167        994.012500    31.208333             73.666667   \n",
       "24827         8.750000        994.737500    29.833333             71.083333   \n",
       "24828         8.750000        995.441667    25.083333             73.708333   \n",
       "24829         7.125000        992.770833    51.666667             65.875000   \n",
       "24830         8.354167        994.420833    41.375000             67.833333   \n",
       "\n",
       "       precipitation    visibility  ...  countyfp10  tractce10   name10  \\\n",
       "0                0.0  61871.172208  ...          31      10100   101.00   \n",
       "1                0.0  59752.296625  ...          31      10201   102.01   \n",
       "2                0.0  61871.172208  ...          31      10202   102.02   \n",
       "3                0.0  61871.172208  ...          31      10300   103.00   \n",
       "4                0.0  52589.130042  ...          31      10400   104.00   \n",
       "...              ...           ...  ...         ...        ...      ...   \n",
       "24826            0.0  69813.539167  ...          31     843700  8437.00   \n",
       "24827            0.0  76060.805708  ...          31     843800  8438.00   \n",
       "24828            0.0  71221.567042  ...          31     843900  8439.00   \n",
       "24829            0.0  85137.795458  ...          31     980000  9800.00   \n",
       "24830            0.0  85315.508375  ...          31     980100  9801.00   \n",
       "\n",
       "                namelsad10 commarea  commarea_n  \\\n",
       "0         Census Tract 101        1         1.0   \n",
       "1      Census Tract 102.01        1         1.0   \n",
       "2      Census Tract 102.02        1         1.0   \n",
       "3         Census Tract 103        1         1.0   \n",
       "4         Census Tract 104        1         1.0   \n",
       "...                    ...      ...         ...   \n",
       "24826    Census Tract 8437        5         5.0   \n",
       "24827    Census Tract 8438       61        61.0   \n",
       "24828    Census Tract 8439       42        42.0   \n",
       "24829    Census Tract 9800       76        76.0   \n",
       "24830    Census Tract 9801       56        56.0   \n",
       "\n",
       "                                          notes  \\\n",
       "0                                           NaN   \n",
       "1                                           NaN   \n",
       "2                                           NaN   \n",
       "3                                           NaN   \n",
       "4                                           NaN   \n",
       "...                                         ...   \n",
       "24826                                       NaN   \n",
       "24827                                       NaN   \n",
       "24828                       Small area in CA 43   \n",
       "24829  Partially outside City Boundary (O'Hare)   \n",
       "24830            Half in CA 64 (Midway Airport)   \n",
       "\n",
       "                                                geometry   latitude  longitude  \n",
       "0      POLYGON ((-87.66368000002299 42.01939800001483...  42.021262 -87.669844  \n",
       "1      POLYGON ((-87.6800950000417 42.01253799999502,...  42.016008 -87.680149  \n",
       "2      POLYGON ((-87.67335799998422 42.01937400001867...  42.016050 -87.673322  \n",
       "3      POLYGON ((-87.66505999995483 42.01280100002973...  42.015941 -87.666535  \n",
       "4      POLYGON ((-87.65080299995667 41.99848500000089...  42.005440 -87.657166  \n",
       "...                                                  ...        ...        ...  \n",
       "24826  POLYGON ((-87.69666899996376 41.94854100002745...  41.944826 -87.690788  \n",
       "24827  POLYGON ((-87.6451599999826 41.79430200000245,...  41.801657 -87.640476  \n",
       "24828  POLYGON ((-87.55868599996295 41.77379199996368...  41.776599 -87.576017  \n",
       "24829  POLYGON ((-87.92062799997296 42.00453199998842...  41.980265 -87.903893  \n",
       "24830  POLYGON ((-87.73789600001243 41.78578500000872...  41.785990 -87.750962  \n",
       "\n",
       "[24831 rows x 21 columns]"
      ]
     },
     "execution_count": 58,
     "metadata": {},
     "output_type": "execute_result"
    }
   ],
   "source": [
    "## merge my existing weather data for each day from june 15th to july 15th (2010 census tracts):\n",
    "\n",
    "df_weather = pd.read_csv(\"per-census-agg-weather-data.csv\")\n",
    "df_weather"
   ]
  },
  {
   "cell_type": "code",
   "execution_count": 59,
   "id": "663a5418",
   "metadata": {},
   "outputs": [
    {
     "data": {
      "text/plain": [
       "TRACTCE10     float64\n",
       "GEOID10       float64\n",
       "NAME10        float64\n",
       "NAMELSAD10     object\n",
       "Long          float64\n",
       "Lat           float64\n",
       "GEOID_Matc    float64\n",
       "State          object\n",
       "County         object\n",
       "Community     float64\n",
       "Communit_1     object\n",
       "15_JUN        float64\n",
       "16_JUN        float64\n",
       "17_JUN        float64\n",
       "18_JUN        float64\n",
       "19_JUN        float64\n",
       "20_JUN        float64\n",
       "21_JUN        float64\n",
       "22_JUN        float64\n",
       "23_JUN        float64\n",
       "24_JUN        float64\n",
       "25_JUN        float64\n",
       "26_JUN        float64\n",
       "27_JUN        float64\n",
       "28_JUN        float64\n",
       "29_JUN        float64\n",
       "30_JUN        float64\n",
       "01_JLY        float64\n",
       "02_JLY        float64\n",
       "03_JLY        float64\n",
       "04_JLY        float64\n",
       "05_JLY        float64\n",
       "06_JLY        float64\n",
       "07_JLY        float64\n",
       "08_JLY        float64\n",
       "09_JLY        float64\n",
       "10_JLY        float64\n",
       "11_JLY        float64\n",
       "12_JLY        float64\n",
       "13_JLY        float64\n",
       "14_JLY        float64\n",
       "15_JLY        float64\n",
       "dtype: object"
      ]
     },
     "execution_count": 59,
     "metadata": {},
     "output_type": "execute_result"
    }
   ],
   "source": [
    "## finding the column I can use as the identifier to merge: \n",
    "df.dtypes"
   ]
  },
  {
   "cell_type": "code",
   "execution_count": 60,
   "id": "5f17ac6b",
   "metadata": {},
   "outputs": [
    {
     "data": {
      "text/html": [
       "<div>\n",
       "<style scoped>\n",
       "    .dataframe tbody tr th:only-of-type {\n",
       "        vertical-align: middle;\n",
       "    }\n",
       "\n",
       "    .dataframe tbody tr th {\n",
       "        vertical-align: top;\n",
       "    }\n",
       "\n",
       "    .dataframe thead th {\n",
       "        text-align: right;\n",
       "    }\n",
       "</style>\n",
       "<table border=\"1\" class=\"dataframe\">\n",
       "  <thead>\n",
       "    <tr style=\"text-align: right;\">\n",
       "      <th></th>\n",
       "      <th>TRACTCE10</th>\n",
       "      <th>GEOID10</th>\n",
       "      <th>NAME10</th>\n",
       "      <th>NAMELSAD10</th>\n",
       "      <th>Long</th>\n",
       "      <th>Lat</th>\n",
       "      <th>GEOID_Matc</th>\n",
       "      <th>State</th>\n",
       "      <th>County</th>\n",
       "      <th>Community</th>\n",
       "      <th>...</th>\n",
       "      <th>06_JLY</th>\n",
       "      <th>07_JLY</th>\n",
       "      <th>08_JLY</th>\n",
       "      <th>09_JLY</th>\n",
       "      <th>10_JLY</th>\n",
       "      <th>11_JLY</th>\n",
       "      <th>12_JLY</th>\n",
       "      <th>13_JLY</th>\n",
       "      <th>14_JLY</th>\n",
       "      <th>15_JLY</th>\n",
       "    </tr>\n",
       "  </thead>\n",
       "  <tbody>\n",
       "    <tr>\n",
       "      <th>0</th>\n",
       "      <td>10100.0</td>\n",
       "      <td>1.703101e+10</td>\n",
       "      <td>101.00</td>\n",
       "      <td>Census Tract 101</td>\n",
       "      <td>-87.669844</td>\n",
       "      <td>42.021262</td>\n",
       "      <td>1.703101e+10</td>\n",
       "      <td>ILLINOIS</td>\n",
       "      <td>Cook</td>\n",
       "      <td>1.0</td>\n",
       "      <td>...</td>\n",
       "      <td>2.08279</td>\n",
       "      <td>0.030678</td>\n",
       "      <td>0.733111</td>\n",
       "      <td>0.196165</td>\n",
       "      <td>1.005510</td>\n",
       "      <td>1.92015</td>\n",
       "      <td>0.852281</td>\n",
       "      <td>1.44613</td>\n",
       "      <td>-1.62697</td>\n",
       "      <td>0.957384</td>\n",
       "    </tr>\n",
       "    <tr>\n",
       "      <th>1</th>\n",
       "      <td>10201.0</td>\n",
       "      <td>1.703101e+10</td>\n",
       "      <td>102.01</td>\n",
       "      <td>Census Tract 102.01</td>\n",
       "      <td>-87.680149</td>\n",
       "      <td>42.016008</td>\n",
       "      <td>1.703101e+10</td>\n",
       "      <td>ILLINOIS</td>\n",
       "      <td>Cook</td>\n",
       "      <td>1.0</td>\n",
       "      <td>...</td>\n",
       "      <td>2.12943</td>\n",
       "      <td>-0.356848</td>\n",
       "      <td>0.721191</td>\n",
       "      <td>0.187405</td>\n",
       "      <td>0.796464</td>\n",
       "      <td>1.91168</td>\n",
       "      <td>0.840111</td>\n",
       "      <td>1.46105</td>\n",
       "      <td>-1.61553</td>\n",
       "      <td>0.985709</td>\n",
       "    </tr>\n",
       "    <tr>\n",
       "      <th>2</th>\n",
       "      <td>10202.0</td>\n",
       "      <td>1.703101e+10</td>\n",
       "      <td>102.02</td>\n",
       "      <td>Census Tract 102.02</td>\n",
       "      <td>-87.673322</td>\n",
       "      <td>42.016050</td>\n",
       "      <td>1.703101e+10</td>\n",
       "      <td>ILLINOIS</td>\n",
       "      <td>Cook</td>\n",
       "      <td>1.0</td>\n",
       "      <td>...</td>\n",
       "      <td>2.21761</td>\n",
       "      <td>-0.069992</td>\n",
       "      <td>0.735649</td>\n",
       "      <td>0.214665</td>\n",
       "      <td>0.905013</td>\n",
       "      <td>1.90990</td>\n",
       "      <td>0.848700</td>\n",
       "      <td>1.47602</td>\n",
       "      <td>-1.55933</td>\n",
       "      <td>0.959192</td>\n",
       "    </tr>\n",
       "    <tr>\n",
       "      <th>3</th>\n",
       "      <td>10300.0</td>\n",
       "      <td>1.703101e+10</td>\n",
       "      <td>103.00</td>\n",
       "      <td>Census Tract 103</td>\n",
       "      <td>-87.666535</td>\n",
       "      <td>42.015941</td>\n",
       "      <td>1.703101e+10</td>\n",
       "      <td>ILLINOIS</td>\n",
       "      <td>Cook</td>\n",
       "      <td>1.0</td>\n",
       "      <td>...</td>\n",
       "      <td>2.20066</td>\n",
       "      <td>0.142566</td>\n",
       "      <td>0.746841</td>\n",
       "      <td>0.244895</td>\n",
       "      <td>0.855881</td>\n",
       "      <td>1.91138</td>\n",
       "      <td>0.857554</td>\n",
       "      <td>1.46493</td>\n",
       "      <td>-1.64321</td>\n",
       "      <td>0.938424</td>\n",
       "    </tr>\n",
       "    <tr>\n",
       "      <th>4</th>\n",
       "      <td>10400.0</td>\n",
       "      <td>1.703101e+10</td>\n",
       "      <td>104.00</td>\n",
       "      <td>Census Tract 104</td>\n",
       "      <td>-87.657167</td>\n",
       "      <td>42.005440</td>\n",
       "      <td>1.703101e+10</td>\n",
       "      <td>ILLINOIS</td>\n",
       "      <td>Cook</td>\n",
       "      <td>1.0</td>\n",
       "      <td>...</td>\n",
       "      <td>2.19104</td>\n",
       "      <td>0.586577</td>\n",
       "      <td>0.805455</td>\n",
       "      <td>0.269934</td>\n",
       "      <td>0.491964</td>\n",
       "      <td>1.89636</td>\n",
       "      <td>0.879911</td>\n",
       "      <td>1.49512</td>\n",
       "      <td>-1.77987</td>\n",
       "      <td>0.899077</td>\n",
       "    </tr>\n",
       "  </tbody>\n",
       "</table>\n",
       "<p>5 rows × 42 columns</p>\n",
       "</div>"
      ],
      "text/plain": [
       "   TRACTCE10       GEOID10  NAME10           NAMELSAD10       Long        Lat  \\\n",
       "0    10100.0  1.703101e+10  101.00     Census Tract 101 -87.669844  42.021262   \n",
       "1    10201.0  1.703101e+10  102.01  Census Tract 102.01 -87.680149  42.016008   \n",
       "2    10202.0  1.703101e+10  102.02  Census Tract 102.02 -87.673322  42.016050   \n",
       "3    10300.0  1.703101e+10  103.00     Census Tract 103 -87.666535  42.015941   \n",
       "4    10400.0  1.703101e+10  104.00     Census Tract 104 -87.657167  42.005440   \n",
       "\n",
       "     GEOID_Matc     State County  Community  ...   06_JLY    07_JLY    08_JLY  \\\n",
       "0  1.703101e+10  ILLINOIS   Cook        1.0  ...  2.08279  0.030678  0.733111   \n",
       "1  1.703101e+10  ILLINOIS   Cook        1.0  ...  2.12943 -0.356848  0.721191   \n",
       "2  1.703101e+10  ILLINOIS   Cook        1.0  ...  2.21761 -0.069992  0.735649   \n",
       "3  1.703101e+10  ILLINOIS   Cook        1.0  ...  2.20066  0.142566  0.746841   \n",
       "4  1.703101e+10  ILLINOIS   Cook        1.0  ...  2.19104  0.586577  0.805455   \n",
       "\n",
       "     09_JLY    10_JLY   11_JLY    12_JLY   13_JLY   14_JLY    15_JLY  \n",
       "0  0.196165  1.005510  1.92015  0.852281  1.44613 -1.62697  0.957384  \n",
       "1  0.187405  0.796464  1.91168  0.840111  1.46105 -1.61553  0.985709  \n",
       "2  0.214665  0.905013  1.90990  0.848700  1.47602 -1.55933  0.959192  \n",
       "3  0.244895  0.855881  1.91138  0.857554  1.46493 -1.64321  0.938424  \n",
       "4  0.269934  0.491964  1.89636  0.879911  1.49512 -1.77987  0.899077  \n",
       "\n",
       "[5 rows x 42 columns]"
      ]
     },
     "execution_count": 60,
     "metadata": {},
     "output_type": "execute_result"
    }
   ],
   "source": [
    "df.head()"
   ]
  },
  {
   "cell_type": "code",
   "execution_count": 61,
   "id": "3df2afc4",
   "metadata": {},
   "outputs": [
    {
     "data": {
      "text/plain": [
       "np.int64(0)"
      ]
     },
     "execution_count": 61,
     "metadata": {},
     "output_type": "execute_result"
    }
   ],
   "source": [
    "df[\"GEOID10\"].isna().sum()"
   ]
  },
  {
   "cell_type": "code",
   "execution_count": 62,
   "id": "5c475ed3",
   "metadata": {},
   "outputs": [
    {
     "data": {
      "text/plain": [
       "798"
      ]
     },
     "execution_count": 62,
     "metadata": {},
     "output_type": "execute_result"
    }
   ],
   "source": [
    "df[\"TRACTCE10\"].nunique()"
   ]
  },
  {
   "cell_type": "code",
   "execution_count": 63,
   "id": "8a6fdb5d",
   "metadata": {},
   "outputs": [
    {
     "data": {
      "text/plain": [
       "727"
      ]
     },
     "execution_count": 63,
     "metadata": {},
     "output_type": "execute_result"
    }
   ],
   "source": [
    "df[\"GEOID10\"].nunique()"
   ]
  },
  {
   "cell_type": "code",
   "execution_count": 64,
   "id": "c7949caf",
   "metadata": {},
   "outputs": [
    {
     "data": {
      "text/plain": [
       "Index(['cleaned_time', 'tract_id', 'temperature_180m', 'wind_direction_180m',\n",
       "       'wind_speed_180m', 'surface_pressure', 'cloud_cover',\n",
       "       'relative_humidity_2m', 'precipitation', 'visibility', 'statefp10',\n",
       "       'countyfp10', 'tractce10', 'name10', 'namelsad10', 'commarea',\n",
       "       'commarea_n', 'notes', 'geometry', 'latitude', 'longitude'],\n",
       "      dtype='object')"
      ]
     },
     "execution_count": 64,
     "metadata": {},
     "output_type": "execute_result"
    }
   ],
   "source": [
    "df_weather.columns"
   ]
  },
  {
   "cell_type": "code",
   "execution_count": 65,
   "id": "c561e538",
   "metadata": {},
   "outputs": [
    {
     "data": {
      "text/plain": [
       "tract_id      801\n",
       "countyfp10      1\n",
       "tractce10     801\n",
       "name10        801\n",
       "namelsad10    801\n",
       "commarea       77\n",
       "dtype: int64"
      ]
     },
     "execution_count": 65,
     "metadata": {},
     "output_type": "execute_result"
    }
   ],
   "source": [
    "df_weather[['tract_id','countyfp10', 'tractce10', 'name10', 'namelsad10', 'commarea']].nunique()"
   ]
  },
  {
   "cell_type": "code",
   "execution_count": 66,
   "id": "1ab012fa",
   "metadata": {},
   "outputs": [
    {
     "data": {
      "text/plain": [
       "TRACTCE10     798\n",
       "GEOID10       727\n",
       "NAME10        798\n",
       "NAMELSAD10    798\n",
       "GEOID_Matc    727\n",
       "dtype: int64"
      ]
     },
     "execution_count": 66,
     "metadata": {},
     "output_type": "execute_result"
    }
   ],
   "source": [
    "df[['TRACTCE10', 'GEOID10', 'NAME10', 'NAMELSAD10','GEOID_Matc']].nunique()"
   ]
  },
  {
   "cell_type": "code",
   "execution_count": 67,
   "id": "d7192664",
   "metadata": {},
   "outputs": [
    {
     "data": {
      "text/plain": [
       "798"
      ]
     },
     "execution_count": 67,
     "metadata": {},
     "output_type": "execute_result"
    }
   ],
   "source": [
    "merged = pd.merge(df, df_weather, left_on=\"NAMELSAD10\", right_on=\"namelsad10\", how=\"inner\")\n",
    "\n",
    "merged.namelsad10.nunique()"
   ]
  },
  {
   "cell_type": "code",
   "execution_count": 68,
   "id": "ce013330",
   "metadata": {},
   "outputs": [
    {
     "data": {
      "text/plain": [
       "(24831, 63)"
      ]
     },
     "execution_count": 68,
     "metadata": {},
     "output_type": "execute_result"
    }
   ],
   "source": [
    "merged.shape"
   ]
  },
  {
   "cell_type": "code",
   "execution_count": 69,
   "id": "51ca17ac",
   "metadata": {},
   "outputs": [],
   "source": [
    "# defining the features matrix\n",
    "features = ['temperature_180m', 'wind_direction_180m',\n",
    "       'wind_speed_180m', 'surface_pressure', 'cloud_cover',\n",
    "       'relative_humidity_2m', 'precipitation', 'visibility']\n",
    "\n",
    "target_vars = ['15_JUN',\n",
    "       '16_JUN', '17_JUN', '18_JUN', '19_JUN', '20_JUN', '21_JUN', '22_JUN',\n",
    "       '23_JUN', '24_JUN', '25_JUN', '26_JUN', '27_JUN', '28_JUN', '29_JUN',\n",
    "       '30_JUN', '01_JLY', '02_JLY', '03_JLY', '04_JLY', '05_JLY', '06_JLY',\n",
    "       '07_JLY', '08_JLY', '09_JLY', '10_JLY', '11_JLY', '12_JLY', '13_JLY',\n",
    "       '14_JLY', '15_JLY']\n",
    "# each day contains the average howMany (birds) hotspot z-score for the day for one census tract \n",
    "\n",
    "X = merged[features]\n",
    "\n",
    "feature_colors = {\n",
    "    'temperature_180m': '#d62728', # red\n",
    "    'wind_direction_180m': '#ff7f0e', # orange\n",
    "    'wind_speed_180m': '#2ca02c', # green\n",
    "    'surface_pressure': '#1f77b4', # blue\n",
    "    'cloud_cover': '#9467bd', # purple\n",
    "    'relative_humidity_2m': '#8c564b', # brown\n",
    "    'precipitation': '#e377c2', # pink\n",
    "    'visibility': '#7f7f7f' # grey\n",
    "}"
   ]
  },
  {
   "cell_type": "code",
   "execution_count": null,
   "id": "19ae2860",
   "metadata": {},
   "outputs": [
    {
     "name": "stdout",
     "output_type": "stream",
     "text": [
      "Training and plotting for target: 15_JUN\n"
     ]
    },
    {
     "name": "stderr",
     "output_type": "stream",
     "text": [
      " 97%|=================== | 290/300 [00:26<00:00]       "
     ]
    },
    {
     "name": "stdout",
     "output_type": "stream",
     "text": [
      "Saved plot to shap_plots/shap_summary_for_15_JUN.png (finished)\n",
      "Training and plotting for target: 16_JUN\n"
     ]
    },
    {
     "name": "stderr",
     "output_type": "stream",
     "text": [
      " 97%|=================== | 290/300 [00:26<00:00]       "
     ]
    },
    {
     "name": "stdout",
     "output_type": "stream",
     "text": [
      "Saved plot to shap_plots/shap_summary_for_16_JUN.png (finished)\n",
      "Training and plotting for target: 17_JUN\n"
     ]
    },
    {
     "name": "stderr",
     "output_type": "stream",
     "text": [
      " 98%|===================| 293/300 [00:27<00:00]        "
     ]
    },
    {
     "name": "stdout",
     "output_type": "stream",
     "text": [
      "Saved plot to shap_plots/shap_summary_for_17_JUN.png (finished)\n",
      "Training and plotting for target: 18_JUN\n"
     ]
    },
    {
     "name": "stderr",
     "output_type": "stream",
     "text": [
      " 99%|===================| 297/300 [00:26<00:00]        "
     ]
    },
    {
     "name": "stdout",
     "output_type": "stream",
     "text": [
      "Saved plot to shap_plots/shap_summary_for_18_JUN.png (finished)\n",
      "Training and plotting for target: 19_JUN\n"
     ]
    },
    {
     "name": "stderr",
     "output_type": "stream",
     "text": [
      " 97%|=================== | 290/300 [00:26<00:00]       "
     ]
    },
    {
     "name": "stdout",
     "output_type": "stream",
     "text": [
      "Saved plot to shap_plots/shap_summary_for_19_JUN.png (finished)\n",
      "Training and plotting for target: 20_JUN\n"
     ]
    },
    {
     "name": "stderr",
     "output_type": "stream",
     "text": [
      " 96%|=================== | 289/300 [00:25<00:00]       "
     ]
    },
    {
     "name": "stdout",
     "output_type": "stream",
     "text": [
      "Saved plot to shap_plots/shap_summary_for_20_JUN.png (finished)\n",
      "Training and plotting for target: 21_JUN\n"
     ]
    },
    {
     "name": "stderr",
     "output_type": "stream",
     "text": [
      "100%|===================| 299/300 [00:28<00:00]        "
     ]
    },
    {
     "name": "stdout",
     "output_type": "stream",
     "text": [
      "Saved plot to shap_plots/shap_summary_for_21_JUN.png (finished)\n",
      "Training and plotting for target: 22_JUN\n"
     ]
    },
    {
     "name": "stderr",
     "output_type": "stream",
     "text": [
      " 97%|=================== | 292/300 [00:29<00:00]       "
     ]
    },
    {
     "name": "stdout",
     "output_type": "stream",
     "text": [
      "Saved plot to shap_plots/shap_summary_for_22_JUN.png (finished)\n",
      "Training and plotting for target: 23_JUN\n"
     ]
    },
    {
     "name": "stderr",
     "output_type": "stream",
     "text": [
      " 96%|=================== | 289/300 [00:28<00:01]       "
     ]
    },
    {
     "name": "stdout",
     "output_type": "stream",
     "text": [
      "Saved plot to shap_plots/shap_summary_for_23_JUN.png (finished)\n",
      "Training and plotting for target: 24_JUN\n"
     ]
    },
    {
     "name": "stderr",
     "output_type": "stream",
     "text": [
      " 98%|===================| 293/300 [00:27<00:00]        "
     ]
    },
    {
     "name": "stdout",
     "output_type": "stream",
     "text": [
      "Saved plot to shap_plots/shap_summary_for_24_JUN.png (finished)\n",
      "Training and plotting for target: 25_JUN\n"
     ]
    },
    {
     "name": "stderr",
     "output_type": "stream",
     "text": [
      " 97%|=================== | 292/300 [00:27<00:00]       "
     ]
    },
    {
     "name": "stdout",
     "output_type": "stream",
     "text": [
      "Saved plot to shap_plots/shap_summary_for_25_JUN.png (finished)\n",
      "Training and plotting for target: 26_JUN\n"
     ]
    },
    {
     "name": "stderr",
     "output_type": "stream",
     "text": [
      " 99%|===================| 297/300 [00:27<00:00]        "
     ]
    },
    {
     "name": "stdout",
     "output_type": "stream",
     "text": [
      "Saved plot to shap_plots/shap_summary_for_26_JUN.png (finished)\n",
      "Training and plotting for target: 27_JUN\n"
     ]
    },
    {
     "name": "stderr",
     "output_type": "stream",
     "text": [
      " 99%|===================| 296/300 [00:25<00:00]        "
     ]
    },
    {
     "name": "stdout",
     "output_type": "stream",
     "text": [
      "Saved plot to shap_plots/shap_summary_for_27_JUN.png (finished)\n",
      "Training and plotting for target: 28_JUN\n"
     ]
    },
    {
     "name": "stderr",
     "output_type": "stream",
     "text": [
      " 99%|===================| 298/300 [00:25<00:00]        "
     ]
    },
    {
     "name": "stdout",
     "output_type": "stream",
     "text": [
      "Saved plot to shap_plots/shap_summary_for_28_JUN.png (finished)\n",
      "Training and plotting for target: 29_JUN\n"
     ]
    },
    {
     "name": "stderr",
     "output_type": "stream",
     "text": [
      " 98%|===================| 294/300 [00:27<00:00]        "
     ]
    },
    {
     "name": "stdout",
     "output_type": "stream",
     "text": [
      "Saved plot to shap_plots/shap_summary_for_29_JUN.png (finished)\n",
      "Training and plotting for target: 30_JUN\n"
     ]
    },
    {
     "name": "stderr",
     "output_type": "stream",
     "text": [
      " 97%|=================== | 291/300 [00:26<00:00]       "
     ]
    },
    {
     "name": "stdout",
     "output_type": "stream",
     "text": [
      "Saved plot to shap_plots/shap_summary_for_30_JUN.png (finished)\n",
      "Training and plotting for target: 01_JLY\n"
     ]
    },
    {
     "name": "stderr",
     "output_type": "stream",
     "text": [
      "100%|===================| 299/300 [00:27<00:00]        "
     ]
    },
    {
     "name": "stdout",
     "output_type": "stream",
     "text": [
      "Saved plot to shap_plots/shap_summary_for_01_JLY.png (finished)\n",
      "Training and plotting for target: 02_JLY\n"
     ]
    },
    {
     "name": "stderr",
     "output_type": "stream",
     "text": [
      " 98%|===================| 295/300 [00:28<00:00]        "
     ]
    },
    {
     "name": "stdout",
     "output_type": "stream",
     "text": [
      "Saved plot to shap_plots/shap_summary_for_02_JLY.png (finished)\n",
      "Training and plotting for target: 03_JLY\n"
     ]
    },
    {
     "name": "stderr",
     "output_type": "stream",
     "text": [
      "100%|===================| 299/300 [00:27<00:00]        "
     ]
    },
    {
     "name": "stdout",
     "output_type": "stream",
     "text": [
      "Saved plot to shap_plots/shap_summary_for_03_JLY.png (finished)\n",
      "Training and plotting for target: 04_JLY\n"
     ]
    },
    {
     "name": "stderr",
     "output_type": "stream",
     "text": [
      " 99%|===================| 296/300 [00:28<00:00]        "
     ]
    },
    {
     "name": "stdout",
     "output_type": "stream",
     "text": [
      "Saved plot to shap_plots/shap_summary_for_04_JLY.png (finished)\n",
      "Training and plotting for target: 05_JLY\n"
     ]
    },
    {
     "name": "stderr",
     "output_type": "stream",
     "text": [
      " 98%|===================| 294/300 [00:28<00:00]        "
     ]
    },
    {
     "name": "stdout",
     "output_type": "stream",
     "text": [
      "Saved plot to shap_plots/shap_summary_for_05_JLY.png (finished)\n",
      "Training and plotting for target: 06_JLY\n"
     ]
    },
    {
     "name": "stderr",
     "output_type": "stream",
     "text": [
      " 98%|===================| 294/300 [00:27<00:00]        "
     ]
    },
    {
     "name": "stdout",
     "output_type": "stream",
     "text": [
      "Saved plot to shap_plots/shap_summary_for_06_JLY.png (finished)\n",
      "Training and plotting for target: 07_JLY\n"
     ]
    },
    {
     "name": "stderr",
     "output_type": "stream",
     "text": [
      " 97%|=================== | 292/300 [00:25<00:00]       "
     ]
    },
    {
     "name": "stdout",
     "output_type": "stream",
     "text": [
      "Saved plot to shap_plots/shap_summary_for_07_JLY.png (finished)\n",
      "Training and plotting for target: 08_JLY\n"
     ]
    },
    {
     "name": "stderr",
     "output_type": "stream",
     "text": [
      " 99%|===================| 296/300 [00:26<00:00]        "
     ]
    },
    {
     "name": "stdout",
     "output_type": "stream",
     "text": [
      "Saved plot to shap_plots/shap_summary_for_08_JLY.png (finished)\n",
      "Training and plotting for target: 09_JLY\n"
     ]
    },
    {
     "name": "stderr",
     "output_type": "stream",
     "text": [
      "100%|===================| 299/300 [00:27<00:00]        "
     ]
    },
    {
     "name": "stdout",
     "output_type": "stream",
     "text": [
      "Saved plot to shap_plots/shap_summary_for_09_JLY.png (finished)\n",
      "Training and plotting for target: 10_JLY\n"
     ]
    },
    {
     "name": "stderr",
     "output_type": "stream",
     "text": [
      " 97%|=================== | 291/300 [00:23<00:00]       "
     ]
    },
    {
     "name": "stdout",
     "output_type": "stream",
     "text": [
      "Saved plot to shap_plots/shap_summary_for_10_JLY.png (finished)\n",
      "Training and plotting for target: 11_JLY\n"
     ]
    },
    {
     "name": "stderr",
     "output_type": "stream",
     "text": [
      " 96%|=================== | 288/300 [00:26<00:01]       "
     ]
    },
    {
     "name": "stdout",
     "output_type": "stream",
     "text": [
      "Saved plot to shap_plots/shap_summary_for_11_JLY.png (finished)\n",
      "Training and plotting for target: 12_JLY\n"
     ]
    },
    {
     "name": "stderr",
     "output_type": "stream",
     "text": [
      " 98%|===================| 294/300 [00:27<00:00]        "
     ]
    },
    {
     "name": "stdout",
     "output_type": "stream",
     "text": [
      "Saved plot to shap_plots/shap_summary_for_12_JLY.png (finished)\n",
      "Training and plotting for target: 13_JLY\n"
     ]
    },
    {
     "name": "stderr",
     "output_type": "stream",
     "text": [
      " 98%|===================| 293/300 [00:25<00:00]        "
     ]
    },
    {
     "name": "stdout",
     "output_type": "stream",
     "text": [
      "Saved plot to shap_plots/shap_summary_for_13_JLY.png (finished)\n",
      "Training and plotting for target: 14_JLY\n"
     ]
    },
    {
     "name": "stderr",
     "output_type": "stream",
     "text": [
      " 98%|===================| 295/300 [00:24<00:00]        "
     ]
    },
    {
     "name": "stdout",
     "output_type": "stream",
     "text": [
      "Saved plot to shap_plots/shap_summary_for_14_JLY.png (finished)\n",
      "Training and plotting for target: 15_JLY\n"
     ]
    },
    {
     "name": "stderr",
     "output_type": "stream",
     "text": [
      " 97%|=================== | 292/300 [00:26<00:00]       "
     ]
    },
    {
     "name": "stdout",
     "output_type": "stream",
     "text": [
      "Saved plot to shap_plots/shap_summary_for_15_JLY.png (finished)\n"
     ]
    }
   ],
   "source": [
    "os.makedirs(\"shap_plots\", exist_ok=True)\n",
    "\n",
    "all_days_shap = pd.DataFrame(columns=features)\n",
    "\n",
    "# for target in target_vars:\n",
    "#     print(f\"Training and plotting for target: {target}\")\n",
    "#     y = merged[target]\n",
    "\n",
    "#     X_train, X_test, y_train, y_test = train_test_split(X, y, test_size=0.2, random_state=42)\n",
    "#     X_test_sample = X_test.sample(n=300, random_state=30)\n",
    "\n",
    "#     model = RandomForestRegressor(n_estimators=100, random_state=30, n_jobs=-1) # 30 for testing\n",
    "#     model.fit(X_train, y_train)\n",
    "\n",
    "#     explainer = shap.Explainer(model, X_train, feature_perturbation=\"interventional\")\n",
    "#     shap_values = explainer.shap_values(X_test_sample, check_additivity=False)\n",
    "    \n",
    "#     mean_abs_shap = np.abs(shap_values).mean(axis=0)\n",
    "\n",
    "#     norm_mean_abs_shap = (mean_abs_shap - mean_abs_shap.min()) / (mean_abs_shap.max() - mean_abs_shap.min())\n",
    "\n",
    "#     all_days_shap.loc[target] = norm_mean_abs_shap # save the normalized value to the df\n",
    "\n",
    "#     colors = [feature_colors[f] for f in features]\n",
    "#     vals_ordered = norm_mean_abs_shap[[features.index(f) for f in features]]\n",
    "\n",
    "#     fig, ax = plt.subplots(figsize=(10, 6))\n",
    "#     bars = ax.barh(features, vals_ordered, color=colors)\n",
    "\n",
    "#     for bar, val in zip(bars, vals_ordered):\n",
    "#         width = bar.get_width()\n",
    "#         ax.text(width + 0.01, bar.get_y() + bar.get_height()/2, f\"{val:.2f}\", va='center', fontsize=8)\n",
    "\n",
    "#     ax.set_xlabel(\"Normalized Mean Abs. SHAP Value (0 to 1)\")\n",
    "#     ax.set_title(f\"Normalized SHAP Feature Importance for {target}, 2025\")\n",
    "#     ax.invert_yaxis()\n",
    "#     fig.tight_layout()\n",
    "\n",
    "#     path = f\"shap_plots/shap_summary_for_{target}.png\"\n",
    "#     plt.savefig(path, dpi=300)\n",
    "#     plt.close(fig)\n",
    "\n",
    "#     print(f\"Saved plot to {path} (finished)\")"
   ]
  },
  {
   "cell_type": "code",
   "execution_count": 89,
   "id": "15931282",
   "metadata": {},
   "outputs": [
    {
     "name": "stderr",
     "output_type": "stream",
     "text": [
      "C:\\Users\\ITO\\AppData\\Local\\Temp\\ipykernel_24092\\1395678146.py:6: FutureWarning: Series.__getitem__ treating keys as positions is deprecated. In a future version, integer keys will always be treated as labels (consistent with DataFrame behavior). To access a value by position, use `ser.iloc[pos]`\n",
      "  vals = persistence_importance[sorted_idx]\n"
     ]
    },
    {
     "data": {
      "image/png": "[encoded data removed]",
      "text/plain": [
       "<Figure size 1200x800 with 1 Axes>"
      ]
     },
     "metadata": {},
     "output_type": "display_data"
    },
    {
     "name": "stdout",
     "output_type": "stream",
     "text": [
      "Saved normalized persistence influence plot to shap_plots/persistence_influence_normalized.png\n"
     ]
    }
   ],
   "source": [
    "# Aggregate normalized values across all days\n",
    "persistence_importance = all_days_shap.mean(axis=0)\n",
    "\n",
    "# Sort and plot persistence influence (already normalized per day)\n",
    "sorted_idx = np.argsort(persistence_importance)[::-1]\n",
    "vals = persistence_importance[sorted_idx]\n",
    "\n",
    "colors = [feature_colors[features[i]] for i in sorted_idx]\n",
    "\n",
    "plt.figure(figsize=(12, 8))\n",
    "bars = plt.barh([features[i] for i in sorted_idx], vals, color=colors)\n",
    "\n",
    "for bar, val in zip(bars, vals):\n",
    "    plt.text(val + 0.01, bar.get_y() + bar.get_height()/2, f\"{val:.2f}\", va='center', fontsize=9)\n",
    "\n",
    "plt.xlabel(\"Mean Normalized Abs. SHAP Value Across 30 Days\")\n",
    "plt.title(\"Normalized Feature Importance Across 30 Days\")\n",
    "plt.gca().invert_yaxis()\n",
    "plt.tight_layout()\n",
    "\n",
    "persistence_path = \"shap_plots/persistence_influence_normalized.png\"\n",
    "plt.savefig(persistence_path, dpi=300)\n",
    "plt.show()\n",
    "print(f\"Saved normalized persistence influence plot to {persistence_path}\")"
   ]
  }
 ],
 "metadata": {
  "kernelspec": {
   "display_name": "Python 3",
   "language": "python",
   "name": "python3"
  },
  "language_info": {
   "codemirror_mode": {
    "name": "ipython",
    "version": 3
   },
   "file_extension": ".py",
   "mimetype": "text/x-python",
   "name": "python",
   "nbconvert_exporter": "python",
   "pygments_lexer": "ipython3",
   "version": "3.12.4"
  }
 },
 "nbformat": 4,
 "nbformat_minor": 5
}
