{
 "cells": [
  {
   "cell_type": "markdown",
   "id": "c83d06e8",
   "metadata": {},
   "source": [
    "#### Next Steps - Chicago Census Tract Wise Hotspot Analysis / SHAP-Based Parameter Importance Model Using Climatic Variables"
   ]
  },
  {
   "cell_type": "code",
   "execution_count": null,
   "id": "2368305d",
   "metadata": {},
   "outputs": [],
   "source": [
    "import pandas as pd\n",
    "import numpy as np\n",
    "import shap\n",
    "from sklearn.ensemble import RandomForestRegressor\n",
    "from sklearn.model_selection import train_test_split\n",
    "import matplotlib.pyplot as plt\n",
    "import os"
   ]
  },
  {
   "cell_type": "markdown",
   "id": "eec51ada",
   "metadata": {},
   "source": [
    "Note: script from earlier that generated the zip files was changed to exclude any entries outside of the Chicago boundary (multipolygon).  "
   ]
  },
  {
   "cell_type": "code",
   "execution_count": null,
   "id": "a8d943ca",
   "metadata": {},
   "outputs": [],
   "source": [
    "df = pd.read_csv(\"Chicago_CT_Point.csv\")\n",
    "print(df.shape)\n",
    "print(df.columns)"
   ]
  },
  {
   "cell_type": "markdown",
   "id": "0a772c25",
   "metadata": {},
   "source": [
    "Now: \n",
    "- SHAP Based parameter importance assesssment model \n",
    "- to predict mean hotspot result using climate variables (from the meteo api) for that day.\n",
    "- plot the importance of the parameters.\n",
    "- ex. \"06_JLY\" is the target variable"
   ]
  },
  {
   "cell_type": "markdown",
   "id": "40696a36",
   "metadata": {},
   "source": [
    "Now for the merging:"
   ]
  },
  {
   "cell_type": "code",
   "execution_count": null,
   "id": "49892f12",
   "metadata": {},
   "outputs": [],
   "source": [
    "## merge my existing weather data for each day from june 15th to july 15th:\n",
    "# get csv here -> https://drive.google.com/file/d/1_cwNNzQkhpV4pdPdvt5ezxpoOW8PoEdw/view?usp=drive_link\n",
    "df_weather = pd.read_csv(\"per-census-agg-weather-data.csv\")\n",
    "df_weather"
   ]
  },
  {
   "cell_type": "code",
   "execution_count": null,
   "id": "663a5418",
   "metadata": {},
   "outputs": [],
   "source": [
    "## finding the column I can use as the identifier to merge: \n",
    "df.dtypes"
   ]
  },
  {
   "cell_type": "code",
   "execution_count": null,
   "id": "5f17ac6b",
   "metadata": {},
   "outputs": [],
   "source": [
    "df.head()"
   ]
  },
  {
   "cell_type": "code",
   "execution_count": null,
   "id": "3df2afc4",
   "metadata": {},
   "outputs": [],
   "source": [
    "df[\"GEOID10\"].isna().sum()"
   ]
  },
  {
   "cell_type": "code",
   "execution_count": null,
   "id": "5c475ed3",
   "metadata": {},
   "outputs": [],
   "source": [
    "df[\"TRACTCE10\"].nunique()"
   ]
  },
  {
   "cell_type": "code",
   "execution_count": null,
   "id": "8a6fdb5d",
   "metadata": {},
   "outputs": [],
   "source": [
    "df[\"GEOID10\"].nunique()"
   ]
  },
  {
   "cell_type": "code",
   "execution_count": null,
   "id": "c7949caf",
   "metadata": {},
   "outputs": [],
   "source": [
    "df_weather.columns"
   ]
  },
  {
   "cell_type": "code",
   "execution_count": null,
   "id": "3c9deccc",
   "metadata": {},
   "outputs": [],
   "source": [
    "# df = df.rename(columns={\"GEOID10\":\"tract_id\"})\n",
    "# df"
   ]
  },
  {
   "cell_type": "code",
   "execution_count": null,
   "id": "d7192664",
   "metadata": {},
   "outputs": [],
   "source": [
    "# merged = pd.merge(df, df_weather, left_on=\"TRACTCE10\", right_on=\"census_tra\", how=\"inner\")\n",
    "# merged.census_tra.nunique()"
   ]
  },
  {
   "cell_type": "code",
   "execution_count": null,
   "id": "a7738cc2",
   "metadata": {},
   "outputs": [],
   "source": [
    "merged = pd.merge(df, df_weather, left_on=\"GEOID10\", right_on=\"tract_id\", how=\"inner\")\n",
    "merged.tract_id.nunique()"
   ]
  },
  {
   "cell_type": "code",
   "execution_count": null,
   "id": "46ffcca1",
   "metadata": {},
   "outputs": [],
   "source": [
    "df_weather.columns"
   ]
  },
  {
   "cell_type": "code",
   "execution_count": null,
   "id": "51ca17ac",
   "metadata": {},
   "outputs": [],
   "source": [
    "# defining the features matrix\n",
    "features = ['temperature_180m', 'wind_direction_180m',\n",
    "       'wind_speed_180m', 'surface_pressure', 'cloud_cover',\n",
    "       'relative_humidity_2m', 'precipitation', 'visibility']\n",
    "\n",
    "target_vars = ['15_JUN',\n",
    "       '16_JUN', '17_JUN', '18_JUN', '19_JUN', '20_JUN', '21_JUN', '22_JUN',\n",
    "       '23_JUN', '24_JUN', '25_JUN', '26_JUN', '27_JUN', '28_JUN', '29_JUN',\n",
    "       '30_JUN', '01_JLY', '02_JLY', '03_JLY', '04_JLY', '05_JLY', '06_JLY',\n",
    "       '07_JLY', '08_JLY', '09_JLY', '10_JLY', '11_JLY', '12_JLY', '13_JLY',\n",
    "       '14_JLY', '15_JLY']\n",
    "# each day contains the average howMany (birds) hotspot z-score for the day for one census tract \n",
    "\n",
    "X = merged[features]"
   ]
  },
  {
   "cell_type": "code",
   "execution_count": null,
   "id": "19ae2860",
   "metadata": {},
   "outputs": [],
   "source": [
    "for target in target_vars:\n",
    "    print(f\"Training and plotting for target: {target}\")\n",
    "    y = merged[target]\n",
    "\n",
    "    X_train, X_test, y_train, y_test = train_test_split(X, y, test_size=0.2, random_state=42)\n",
    "    model = RandomForestRegressor(n_estimators=100, random_state=30, n_jobs=-1) # 30 for testing\n",
    "    model.fit(X_train, y_train)\n",
    "\n",
    "    explainer = shap.TreeExplainer(model)\n",
    "    shap_values = explainer.shap_values(X_test)\n",
    "\n",
    "    plt.figure()\n",
    "    shap.summary_plot(shap_values, X_test, show=False)\n",
    "    plt.title(f\"shap summary plot for {target}, 2025\")\n",
    "    plt.tight_layout()\n",
    "\n",
    "    os.makedirs(\"shap_plots\", exist_ok=True)\n",
    "    path = f\"shap_plots/shap_summary_for_{target}.png\"\n",
    "    \n",
    "    plt.savefig(path, dpi=150)\n",
    "    plt.close()\n",
    "\n",
    "    print(f\"Saved plot to {path} (finished)\")"
   ]
  },
  {
   "cell_type": "code",
   "execution_count": null,
   "id": "99a242ac",
   "metadata": {},
   "outputs": [],
   "source": []
  }
 ],
 "metadata": {
  "kernelspec": {
   "display_name": "Python 3",
   "language": "python",
   "name": "python3"
  },
  "language_info": {
   "codemirror_mode": {
    "name": "ipython",
    "version": 3
   },
   "file_extension": ".py",
   "mimetype": "text/x-python",
   "name": "python",
   "nbconvert_exporter": "python",
   "pygments_lexer": "ipython3",
   "version": "3.12.4"
  }
 },
 "nbformat": 4,
 "nbformat_minor": 5
}
