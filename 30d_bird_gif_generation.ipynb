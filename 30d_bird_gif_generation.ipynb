{
 "cells": [
  {
   "cell_type": "code",
   "execution_count": 2,
   "id": "68435cb5",
   "metadata": {},
   "outputs": [],
   "source": [
    "import imageio.v2 as imageio\n",
    "import os \n",
    "import matplotlib.pyplot as plt\n",
    "import pandas as pd\n",
    "import geopandas as gpd\n",
    "from tqdm import tqdm\n",
    "from PIL import Image\n",
    "import matplotlib as mpl\n",
    "import seaborn as sns\n",
    "from shapely.geometry import MultiPolygon\n",
    "import numpy as np\n",
    "import re\n",
    "from datetime import datetime\n",
    "import geopandas as gpd\n",
    "from shapely.geometry import Point "
   ]
  },
  {
   "cell_type": "markdown",
   "id": "3f305f2c",
   "metadata": {},
   "source": [
    "#### Bird Migration Presence from June 15th to July 15th GIF"
   ]
  },
  {
   "cell_type": "code",
   "execution_count": null,
   "id": "b806e45e",
   "metadata": {},
   "outputs": [],
   "source": [
    "chicago_boundary = gpd.read_file(\"Chicago_Tracts_2010.zip\")\n",
    "multipolygon = chicago_boundary.dissolve(by=None)\n",
    "fig, ax = plt.subplots(figsize=(8, 8))\n",
    "multipolygon.plot(ax=ax, color='grey', edgecolor='red', alpha=0.5)"
   ]
  },
  {
   "cell_type": "code",
   "execution_count": null,
   "id": "46cb9374",
   "metadata": {},
   "outputs": [],
   "source": [
    "test = gpd.read_file(\"30d_bird_chicago/2025-07-15_bird_data.zip\")\n",
    "fig, ax = plt.subplots(figsize=(8, 10))\n",
    "\n",
    "test.plot(ax=ax, edgecolor='grey', legend=True)\n",
    "\n",
    "multipolygon.boundary.plot(ax=ax, color='black')\n",
    "\n",
    "plt.title(\"(Test) Bird Migration Presence on 2025-07-15\", fontsize=16)"
   ]
  },
  {
   "cell_type": "code",
   "execution_count": null,
   "id": "8f52283e",
   "metadata": {},
   "outputs": [],
   "source": [
    "## making the frames for the gif:\n",
    "bird_presence_path = \"./30d_bird_chicago\"\n",
    "frames_path = \"bird_presence_frames\"\n",
    "\n",
    "os.makedirs(frames_path, exist_ok=True)\n",
    "\n",
    "for daily_data in os.listdir(bird_presence_path):\n",
    "    full_path = os.path.join(bird_presence_path, daily_data)\n",
    "\n",
    "    gdf = gpd.read_file(full_path)\n",
    "\n",
    "    fig, ax = plt.subplots(figsize=(8, 10))\n",
    "    gdf.plot(ax=ax, color=\"red\", edgecolor='grey', legend=True)\n",
    "    multipolygon.boundary.plot(ax=ax, color='black')\n",
    "\n",
    "    date = os.path.splitext(daily_data)[0][:10]\n",
    "    plt.title(f\"Migratory Birds Presence on {date}\", fontsize=16)\n",
    "\n",
    "    save_path = os.path.join(frames_path, f\"bird_migration_presence_{date}.png\")\n",
    "\n",
    "    plt.savefig(save_path, dpi=150, bbox_inches=\"tight\")\n",
    "    plt.close()"
   ]
  },
  {
   "cell_type": "code",
   "execution_count": null,
   "id": "0b4db884",
   "metadata": {},
   "outputs": [],
   "source": [
    "## creating the gif with the generated frames: \n",
    "gif_path = \"bird_presence_animation.gif\"\n",
    "\n",
    "frames = [Image.open(os.path.join(frames_path, f)) for f in os.listdir(frames_path)]\n",
    "frames[0].save(gif_path, save_all=True, append_images=frames[1:], duration=500, loop=0)"
   ]
  },
  {
   "cell_type": "markdown",
   "id": "a316f5f3",
   "metadata": {},
   "source": [
    "#### Bird Migration Hot Spot Density from June 15th to July 15th GIF"
   ]
  },
  {
   "cell_type": "markdown",
   "id": "4acd6382",
   "metadata": {},
   "source": [
    "fix: keep legend normalized "
   ]
  },
  {
   "cell_type": "code",
   "execution_count": null,
   "id": "cc31974a",
   "metadata": {},
   "outputs": [],
   "source": [
    "## fix -> max not displaying/ being overwritten\n",
    "\n",
    "gdf = gpd.read_file(\"./30d_bird_chicago/2025-06-18_bird_data.zip\")\n",
    "\n",
    "vmin = gdf[\"howMany\"].min()\n",
    "vmax = gdf[\"howMany\"].max()\n",
    "\n",
    "gdf\n",
    "# max entries have double or more entries which overwrites the max val\n",
    "# from locid keep the entries with max \"howMany\" value\n",
    "\n",
    "gdf = gdf.loc[gdf.groupby('locId')['howMany'].idxmax()].reset_index(drop=True)\n",
    "gdf"
   ]
  },
  {
   "cell_type": "code",
   "execution_count": null,
   "id": "2111af17",
   "metadata": {},
   "outputs": [],
   "source": [
    "## making hotspot density maps for gif:\n",
    "bird_presence_path = \"./30d_bird_chicago\"\n",
    "hotspot_frames_path = \"bird_hotspot_d_frames\"\n",
    "\n",
    "os.makedirs(hotspot_frames_path, exist_ok=True)\n",
    "\n",
    "for daily_data in os.listdir(bird_presence_path):\n",
    "    full_path = os.path.join(bird_presence_path, daily_data)\n",
    "\n",
    "    gdf = gpd.read_file(full_path)\n",
    "    gdf[\"howMany\"] = gdf[\"howMany\"].fillna(1)\n",
    "    gdf = gdf.loc[gdf.groupby('locId')['howMany'].idxmax()].reset_index(drop=True)\n",
    "\n",
    "    fig, ax = plt.subplots(figsize=(8, 10)) \n",
    "\n",
    "    vmin = gdf[\"howMany\"].min()\n",
    "    vmax = gdf[\"howMany\"].max()\n",
    "    \n",
    "    gdf_plot = gdf.plot(\n",
    "        column=\"howMany\",\n",
    "        ax=ax,\n",
    "        cmap=\"coolwarm\",\n",
    "        legend=False\n",
    "    )\n",
    "\n",
    "    norm = mpl.colors.Normalize(vmin=vmin, vmax=vmax)\n",
    "    sm = mpl.cm.ScalarMappable(cmap=\"coolwarm\", norm=norm)\n",
    "    sm._A = []\n",
    "\n",
    "    cbar = fig.colorbar(\n",
    "        sm,\n",
    "        ax=ax,\n",
    "        fraction=0.04,\n",
    "        pad=0.02,\n",
    "        aspect=20,\n",
    "        shrink=0.4\n",
    "    )\n",
    "    cbar.set_label(\"Bird Abundance\", fontsize=9)\n",
    "    cbar.ax.tick_params(labelsize=8)\n",
    "    cbar.set_ticks([vmin, round((vmin + vmax) / 2), vmax])\n",
    "\n",
    "    multipolygon.boundary.plot(ax=ax, color='black')\n",
    "\n",
    "    date = os.path.splitext(daily_data)[0][:10]\n",
    "    plt.title(f\"Migratory Birds Presence on {date}\", fontsize=16)\n",
    "\n",
    "    save_path = os.path.join(hotspot_frames_path, f\"bird_hotspot_density_{date}.png\")\n",
    "\n",
    "    plt.savefig(save_path, dpi=150, bbox_inches=\"tight\")\n",
    "    plt.close()"
   ]
  },
  {
   "cell_type": "code",
   "execution_count": null,
   "id": "1a2c64ad",
   "metadata": {},
   "outputs": [],
   "source": [
    "## creating the gif with the generated frames: \n",
    "gif_path = \"bird_hotspot_d_animation.gif\"\n",
    "\n",
    "frames = [Image.open(os.path.join(hotspot_frames_path, f)) for f in os.listdir(hotspot_frames_path)]\n",
    "frames[0].save(gif_path, save_all=True, append_images=frames[1:], duration=900, loop=0)"
   ]
  },
  {
   "cell_type": "markdown",
   "id": "7feaf932",
   "metadata": {},
   "source": [
    "#### SHAP Plot GIF"
   ]
  },
  {
   "cell_type": "code",
   "execution_count": null,
   "id": "8923f630",
   "metadata": {},
   "outputs": [],
   "source": [
    "## creating the gif with the generated frames: \n",
    "shap_plot_frames = \"shap_plots\"\n",
    "shap_gif_path = \"shap_feature_importance.gif\"\n",
    "\n",
    "# re order the frames according to date first: \n",
    "# date_pattern = re.compile(r\"(\\d{2}_[A-Z]{3})\")\n",
    "\n",
    "# png_files = []\n",
    "# for filename in os.listdir(shap_plot_frames):\n",
    "#     if filename.endswith(\".png\"):\n",
    "#         match = date_pattern.search(filename)\n",
    "#         if match:\n",
    "#             date_str = match.group(1)\n",
    "#             try:\n",
    "#                 date_obj = datetime.datetime.strptime(date_str, \"%d_%b\")\n",
    "#                 png_files.append((filename, date_obj))\n",
    "#             except ValueError:\n",
    "#                 print(f\"Skipping invalid date in: {filename}\")\n",
    "\n",
    "# png_files.sort(key=lambda x: x[1])\n",
    "\n",
    "# for i, (filename, date_obj) in enumerate(png_files, start=1):\n",
    "#     old_path = os.path.join(shap_plot_frames, filename)\n",
    "#     new_filename = f\"{i:03d}_{filename}\"\n",
    "#     new_path = os.path.join(shap_plot_frames, new_filename)\n",
    "#     os.rename(old_path, new_path)\n",
    "#     print(f\"Renamed: {filename} --> {new_filename}\")"
   ]
  },
  {
   "cell_type": "code",
   "execution_count": null,
   "id": "661ffe36",
   "metadata": {},
   "outputs": [],
   "source": [
    "frames = [Image.open(os.path.join(shap_plot_frames, f)) for f in os.listdir(shap_plot_frames)]\n",
    "frames[0].save(shap_gif_path, save_all=True, append_images=frames[1:], duration=500, loop=0)"
   ]
  },
  {
   "cell_type": "markdown",
   "id": "c9da4f8f",
   "metadata": {},
   "source": [
    "### Per-tract Bird Density plotting:"
   ]
  },
  {
   "cell_type": "markdown",
   "id": "fc1145f0",
   "metadata": {},
   "source": [
    "using the chicago ct point csv:\n",
    "- 798 unique tracts\n",
    "- each tract has the avg daily density data for each of the 31 days\n",
    "- I will plot -> 15_JUN data for each tract, as it should be different for all 798 tracts. "
   ]
  },
  {
   "cell_type": "code",
   "execution_count": 159,
   "id": "8c7c7ca5",
   "metadata": {},
   "outputs": [],
   "source": [
    "gdf = gpd.read_file(\"Chicago_CT_Point.csv\")"
   ]
  },
  {
   "cell_type": "code",
   "execution_count": 160,
   "id": "82c95af0",
   "metadata": {},
   "outputs": [],
   "source": [
    "target_vars = ['15_JUN',\n",
    "       '16_JUN', '17_JUN', '18_JUN', '19_JUN', '20_JUN', '21_JUN', '22_JUN',\n",
    "       '23_JUN', '24_JUN', '25_JUN', '26_JUN', '27_JUN', '28_JUN', '29_JUN',\n",
    "       '30_JUN', '01_JLY', '02_JLY', '03_JLY', '04_JLY', '05_JLY', '06_JLY',\n",
    "       '07_JLY', '08_JLY', '09_JLY', '10_JLY', '11_JLY', '12_JLY', '13_JLY',\n",
    "       '14_JLY', '15_JLY']"
   ]
  },
  {
   "cell_type": "code",
   "execution_count": 161,
   "id": "48f26a0b",
   "metadata": {},
   "outputs": [
    {
     "name": "stdout",
     "output_type": "stream",
     "text": [
      "TRACTCE10     float64\n",
      "GEOID10        object\n",
      "NAME10         object\n",
      "NAMELSAD10     object\n",
      "Long          float64\n",
      "Lat           float64\n",
      "dtype: object\n"
     ]
    }
   ],
   "source": [
    "gdf[\"Long\"] = pd.to_numeric(gdf[\"Long\"])\n",
    "gdf[\"Lat\"] = pd.to_numeric(gdf[\"Lat\"])\n",
    "gdf[\"TRACTCE10\"] = pd.to_numeric(gdf[\"TRACTCE10\"])\n",
    "\n",
    "print(gdf.dtypes[:6])"
   ]
  },
  {
   "cell_type": "code",
   "execution_count": 162,
   "id": "fb1e0019",
   "metadata": {},
   "outputs": [
    {
     "data": {
      "text/html": [
       "<div>\n",
       "<style scoped>\n",
       "    .dataframe tbody tr th:only-of-type {\n",
       "        vertical-align: middle;\n",
       "    }\n",
       "\n",
       "    .dataframe tbody tr th {\n",
       "        vertical-align: top;\n",
       "    }\n",
       "\n",
       "    .dataframe thead th {\n",
       "        text-align: right;\n",
       "    }\n",
       "</style>\n",
       "<table border=\"1\" class=\"dataframe\">\n",
       "  <thead>\n",
       "    <tr style=\"text-align: right;\">\n",
       "      <th></th>\n",
       "      <th>TRACTCE10</th>\n",
       "      <th>GEOID10</th>\n",
       "      <th>NAME10</th>\n",
       "      <th>NAMELSAD10</th>\n",
       "      <th>Long</th>\n",
       "      <th>Lat</th>\n",
       "      <th>GEOID_Matc</th>\n",
       "      <th>State</th>\n",
       "      <th>County</th>\n",
       "      <th>Community</th>\n",
       "      <th>...</th>\n",
       "      <th>07_JLY</th>\n",
       "      <th>08_JLY</th>\n",
       "      <th>09_JLY</th>\n",
       "      <th>10_JLY</th>\n",
       "      <th>11_JLY</th>\n",
       "      <th>12_JLY</th>\n",
       "      <th>13_JLY</th>\n",
       "      <th>14_JLY</th>\n",
       "      <th>15_JLY</th>\n",
       "      <th>geometry_ct_point</th>\n",
       "    </tr>\n",
       "  </thead>\n",
       "  <tbody>\n",
       "    <tr>\n",
       "      <th>385</th>\n",
       "      <td>760801.0</td>\n",
       "      <td>17031760800.000000</td>\n",
       "      <td>7608.010000</td>\n",
       "      <td>Census Tract 7608.01</td>\n",
       "      <td>-87.844847</td>\n",
       "      <td>41.983485</td>\n",
       "      <td>17031760800.000000</td>\n",
       "      <td>ILLINOIS</td>\n",
       "      <td>Cook</td>\n",
       "      <td>76.000000</td>\n",
       "      <td>...</td>\n",
       "      <td>-0.89844700000</td>\n",
       "      <td>-0.43046500000</td>\n",
       "      <td>0.21178800000</td>\n",
       "      <td>-0.55871700000</td>\n",
       "      <td>-0.39030700000</td>\n",
       "      <td>-0.54116900000</td>\n",
       "      <td>-0.35668400000</td>\n",
       "      <td>-1.14376000000</td>\n",
       "      <td>0.04618820000</td>\n",
       "      <td>POINT (-87.84485 41.98348)</td>\n",
       "    </tr>\n",
       "    <tr>\n",
       "      <th>386</th>\n",
       "      <td>760801.0</td>\n",
       "      <td>17031760800.000000</td>\n",
       "      <td>7608.010000</td>\n",
       "      <td>Census Tract 7608.01</td>\n",
       "      <td>-87.844847</td>\n",
       "      <td>41.983485</td>\n",
       "      <td>17031760800.000000</td>\n",
       "      <td>ILLINOIS</td>\n",
       "      <td>Cook</td>\n",
       "      <td>76.000000</td>\n",
       "      <td>...</td>\n",
       "      <td>-0.89844700000</td>\n",
       "      <td>-0.43046500000</td>\n",
       "      <td>0.21178800000</td>\n",
       "      <td>-0.55871700000</td>\n",
       "      <td>-0.39030700000</td>\n",
       "      <td>-0.54116900000</td>\n",
       "      <td>-0.35668400000</td>\n",
       "      <td>-1.14376000000</td>\n",
       "      <td>0.04618820000</td>\n",
       "      <td>POINT (-87.84485 41.98348)</td>\n",
       "    </tr>\n",
       "    <tr>\n",
       "      <th>387</th>\n",
       "      <td>760802.0</td>\n",
       "      <td>17031760800.000000</td>\n",
       "      <td>7608.020000</td>\n",
       "      <td>Census Tract 7608.02</td>\n",
       "      <td>-87.847217</td>\n",
       "      <td>41.957832</td>\n",
       "      <td>17031760800.000000</td>\n",
       "      <td>ILLINOIS</td>\n",
       "      <td>Cook</td>\n",
       "      <td>76.000000</td>\n",
       "      <td>...</td>\n",
       "      <td>-0.85400600000</td>\n",
       "      <td>-0.33581800000</td>\n",
       "      <td>0.12978100000</td>\n",
       "      <td>-0.51304500000</td>\n",
       "      <td>-0.50155100000</td>\n",
       "      <td>-0.48888500000</td>\n",
       "      <td>-0.33815400000</td>\n",
       "      <td>-1.19502000000</td>\n",
       "      <td>-0.06623270000</td>\n",
       "      <td>POINT (-87.84722 41.95783)</td>\n",
       "    </tr>\n",
       "    <tr>\n",
       "      <th>388</th>\n",
       "      <td>760803.0</td>\n",
       "      <td>17031760800.000000</td>\n",
       "      <td>7608.030000</td>\n",
       "      <td>Census Tract 7608.03</td>\n",
       "      <td>-87.844155</td>\n",
       "      <td>41.975346</td>\n",
       "      <td>17031760800.000000</td>\n",
       "      <td>ILLINOIS</td>\n",
       "      <td>Cook</td>\n",
       "      <td>76.000000</td>\n",
       "      <td>...</td>\n",
       "      <td>-0.88676900000</td>\n",
       "      <td>-0.59563600000</td>\n",
       "      <td>-0.01962440000</td>\n",
       "      <td>-0.50018300000</td>\n",
       "      <td>0.31978400000</td>\n",
       "      <td>-0.62882100000</td>\n",
       "      <td>-0.33150500000</td>\n",
       "      <td>-1.17326000000</td>\n",
       "      <td>0.23225600000</td>\n",
       "      <td>POINT (-87.84416 41.97535)</td>\n",
       "    </tr>\n",
       "    <tr>\n",
       "      <th>389</th>\n",
       "      <td>770902.0</td>\n",
       "      <td>17031770900.000000</td>\n",
       "      <td>7709.020000</td>\n",
       "      <td>Census Tract 7709.02</td>\n",
       "      <td>-87.836184</td>\n",
       "      <td>41.970066</td>\n",
       "      <td>17031770900.000000</td>\n",
       "      <td>ILLINOIS</td>\n",
       "      <td>Cook</td>\n",
       "      <td>76.000000</td>\n",
       "      <td>...</td>\n",
       "      <td>-0.85780000000</td>\n",
       "      <td>-0.43614400000</td>\n",
       "      <td>-0.06252610000</td>\n",
       "      <td>-0.48333000000</td>\n",
       "      <td>0.60850200000</td>\n",
       "      <td>-0.60670000000</td>\n",
       "      <td>-0.34029700000</td>\n",
       "      <td>-1.21767000000</td>\n",
       "      <td>0.19436400000</td>\n",
       "      <td>POINT (-87.83618 41.97007)</td>\n",
       "    </tr>\n",
       "    <tr>\n",
       "      <th>799</th>\n",
       "      <td>760802.0</td>\n",
       "      <td>17031760800.000000</td>\n",
       "      <td>7608.020000</td>\n",
       "      <td>Census Tract 7608.02</td>\n",
       "      <td>-87.847217</td>\n",
       "      <td>41.957832</td>\n",
       "      <td>17031760800.000000</td>\n",
       "      <td>ILLINOIS</td>\n",
       "      <td>Cook</td>\n",
       "      <td>76.000000</td>\n",
       "      <td>...</td>\n",
       "      <td>-0.85400600000</td>\n",
       "      <td>-0.33581800000</td>\n",
       "      <td>0.12978100000</td>\n",
       "      <td>-0.51304500000</td>\n",
       "      <td>-0.50155100000</td>\n",
       "      <td>-0.48888500000</td>\n",
       "      <td>-0.33815400000</td>\n",
       "      <td>-1.19502000000</td>\n",
       "      <td>-0.06623270000</td>\n",
       "      <td>POINT (-87.84722 41.95783)</td>\n",
       "    </tr>\n",
       "  </tbody>\n",
       "</table>\n",
       "<p>6 rows × 43 columns</p>\n",
       "</div>"
      ],
      "text/plain": [
       "     TRACTCE10             GEOID10       NAME10            NAMELSAD10  \\\n",
       "385   760801.0  17031760800.000000  7608.010000  Census Tract 7608.01   \n",
       "386   760801.0  17031760800.000000  7608.010000  Census Tract 7608.01   \n",
       "387   760802.0  17031760800.000000  7608.020000  Census Tract 7608.02   \n",
       "388   760803.0  17031760800.000000  7608.030000  Census Tract 7608.03   \n",
       "389   770902.0  17031770900.000000  7709.020000  Census Tract 7709.02   \n",
       "799   760802.0  17031760800.000000  7608.020000  Census Tract 7608.02   \n",
       "\n",
       "          Long        Lat          GEOID_Matc     State County  Community  \\\n",
       "385 -87.844847  41.983485  17031760800.000000  ILLINOIS   Cook  76.000000   \n",
       "386 -87.844847  41.983485  17031760800.000000  ILLINOIS   Cook  76.000000   \n",
       "387 -87.847217  41.957832  17031760800.000000  ILLINOIS   Cook  76.000000   \n",
       "388 -87.844155  41.975346  17031760800.000000  ILLINOIS   Cook  76.000000   \n",
       "389 -87.836184  41.970066  17031770900.000000  ILLINOIS   Cook  76.000000   \n",
       "799 -87.847217  41.957832  17031760800.000000  ILLINOIS   Cook  76.000000   \n",
       "\n",
       "     ...          07_JLY          08_JLY          09_JLY          10_JLY  \\\n",
       "385  ...  -0.89844700000  -0.43046500000   0.21178800000  -0.55871700000   \n",
       "386  ...  -0.89844700000  -0.43046500000   0.21178800000  -0.55871700000   \n",
       "387  ...  -0.85400600000  -0.33581800000   0.12978100000  -0.51304500000   \n",
       "388  ...  -0.88676900000  -0.59563600000  -0.01962440000  -0.50018300000   \n",
       "389  ...  -0.85780000000  -0.43614400000  -0.06252610000  -0.48333000000   \n",
       "799  ...  -0.85400600000  -0.33581800000   0.12978100000  -0.51304500000   \n",
       "\n",
       "             11_JLY          12_JLY          13_JLY          14_JLY  \\\n",
       "385  -0.39030700000  -0.54116900000  -0.35668400000  -1.14376000000   \n",
       "386  -0.39030700000  -0.54116900000  -0.35668400000  -1.14376000000   \n",
       "387  -0.50155100000  -0.48888500000  -0.33815400000  -1.19502000000   \n",
       "388   0.31978400000  -0.62882100000  -0.33150500000  -1.17326000000   \n",
       "389   0.60850200000  -0.60670000000  -0.34029700000  -1.21767000000   \n",
       "799  -0.50155100000  -0.48888500000  -0.33815400000  -1.19502000000   \n",
       "\n",
       "             15_JLY           geometry_ct_point  \n",
       "385   0.04618820000  POINT (-87.84485 41.98348)  \n",
       "386   0.04618820000  POINT (-87.84485 41.98348)  \n",
       "387  -0.06623270000  POINT (-87.84722 41.95783)  \n",
       "388   0.23225600000  POINT (-87.84416 41.97535)  \n",
       "389   0.19436400000  POINT (-87.83618 41.97007)  \n",
       "799  -0.06623270000  POINT (-87.84722 41.95783)  \n",
       "\n",
       "[6 rows x 43 columns]"
      ]
     },
     "execution_count": 162,
     "metadata": {},
     "output_type": "execute_result"
    }
   ],
   "source": [
    "gdf['geometry'] = gdf.apply(lambda row: Point(row['Long'], row['Lat']), axis=1)\n",
    "gdf = gpd.GeoDataFrame(gdf, geometry='geometry', crs=\"EPSG:4326\")\n",
    "gdf = gdf.rename(columns={\"geometry\":\"geometry_ct_point\"})\n",
    "gdf[gdf[\"Communit_1\"]==\"OHARE\"]"
   ]
  },
  {
   "cell_type": "code",
   "execution_count": 163,
   "id": "9d3af3c3",
   "metadata": {},
   "outputs": [],
   "source": [
    "chicago_tracts = gpd.read_file(\"Chicago_Tracts_2010.zip\")"
   ]
  },
  {
   "cell_type": "code",
   "execution_count": 164,
   "id": "023014fe",
   "metadata": {},
   "outputs": [
    {
     "data": {
      "text/plain": [
       "statefp10       object\n",
       "countyfp10      object\n",
       "tractce10        int64\n",
       "geoid10         object\n",
       "name10          object\n",
       "namelsad10      object\n",
       "commarea        object\n",
       "commarea_n     float64\n",
       "notes           object\n",
       "geometry      geometry\n",
       "dtype: object"
      ]
     },
     "execution_count": 164,
     "metadata": {},
     "output_type": "execute_result"
    }
   ],
   "source": [
    "chicago_tracts[\"tractce10\"] = pd.to_numeric(chicago_tracts[\"tractce10\"])\n",
    "chicago_tracts.dtypes"
   ]
  },
  {
   "cell_type": "code",
   "execution_count": 165,
   "id": "e5c315f3",
   "metadata": {},
   "outputs": [
    {
     "data": {
      "text/plain": [
       "TRACTCE10             float64\n",
       "GEOID10                object\n",
       "NAME10                 object\n",
       "NAMELSAD10             object\n",
       "Long                  float64\n",
       "Lat                   float64\n",
       "GEOID_Matc             object\n",
       "State                  object\n",
       "County                 object\n",
       "Community              object\n",
       "Communit_1             object\n",
       "15_JUN                 object\n",
       "16_JUN                 object\n",
       "17_JUN                 object\n",
       "18_JUN                 object\n",
       "19_JUN                 object\n",
       "20_JUN                 object\n",
       "21_JUN                 object\n",
       "22_JUN                 object\n",
       "23_JUN                 object\n",
       "24_JUN                 object\n",
       "25_JUN                 object\n",
       "26_JUN                 object\n",
       "27_JUN                 object\n",
       "28_JUN                 object\n",
       "29_JUN                 object\n",
       "30_JUN                 object\n",
       "01_JLY                 object\n",
       "02_JLY                 object\n",
       "03_JLY                 object\n",
       "04_JLY                 object\n",
       "05_JLY                 object\n",
       "06_JLY                 object\n",
       "07_JLY                 object\n",
       "08_JLY                 object\n",
       "09_JLY                 object\n",
       "10_JLY                 object\n",
       "11_JLY                 object\n",
       "12_JLY                 object\n",
       "13_JLY                 object\n",
       "14_JLY                 object\n",
       "15_JLY                 object\n",
       "geometry_ct_point    geometry\n",
       "dtype: object"
      ]
     },
     "execution_count": 165,
     "metadata": {},
     "output_type": "execute_result"
    }
   ],
   "source": [
    "gdf.dtypes"
   ]
  },
  {
   "cell_type": "code",
   "execution_count": 166,
   "id": "b5a73bc7",
   "metadata": {},
   "outputs": [],
   "source": [
    "# Convert gdf TRACTCE10 from float to int to string, pad with zeros\n",
    "gdf[\"TRACTCE10\"] = gdf[\"TRACTCE10\"].astype(int).astype(str).str.zfill(6)\n",
    "\n",
    "# Convert chicago_tracts tractce10 to string and pad\n",
    "chicago_tracts[\"tractce10\"] = chicago_tracts[\"tractce10\"].astype(str).str.zfill(6)\n"
   ]
  },
  {
   "cell_type": "code",
   "execution_count": 169,
   "id": "cb0bb1bb",
   "metadata": {},
   "outputs": [],
   "source": [
    "# merge w/chicago_tracts_2010 to get geometry col \n",
    "# merge on \"TRACTCE10\"\n",
    "\n",
    "gdf_merged = pd.merge(gdf, chicago_tracts, left_on=\"TRACTCE10\", right_on=\"tractce10\", how=\"inner\")"
   ]
  },
  {
   "cell_type": "code",
   "execution_count": 170,
   "id": "ae2f97ac",
   "metadata": {},
   "outputs": [
    {
     "data": {
      "text/plain": [
       "TRACTCE10            0\n",
       "GEOID10              0\n",
       "NAME10               0\n",
       "NAMELSAD10           0\n",
       "Long                 0\n",
       "Lat                  0\n",
       "GEOID_Matc           0\n",
       "State                0\n",
       "County               0\n",
       "Community            0\n",
       "Communit_1           0\n",
       "15_JUN               0\n",
       "16_JUN               0\n",
       "17_JUN               0\n",
       "18_JUN               0\n",
       "19_JUN               0\n",
       "20_JUN               0\n",
       "21_JUN               0\n",
       "22_JUN               0\n",
       "23_JUN               0\n",
       "24_JUN               0\n",
       "25_JUN               0\n",
       "26_JUN               0\n",
       "27_JUN               0\n",
       "28_JUN               0\n",
       "29_JUN               0\n",
       "30_JUN               0\n",
       "01_JLY               0\n",
       "02_JLY               0\n",
       "03_JLY               0\n",
       "04_JLY               0\n",
       "05_JLY               0\n",
       "06_JLY               0\n",
       "07_JLY               0\n",
       "08_JLY               0\n",
       "09_JLY               0\n",
       "10_JLY               0\n",
       "11_JLY               0\n",
       "12_JLY               0\n",
       "13_JLY               0\n",
       "14_JLY               0\n",
       "15_JLY               0\n",
       "geometry_ct_point    0\n",
       "statefp10            0\n",
       "countyfp10           0\n",
       "tractce10            0\n",
       "geoid10              0\n",
       "name10               0\n",
       "namelsad10           0\n",
       "commarea             0\n",
       "commarea_n           0\n",
       "geometry             0\n",
       "dtype: int64"
      ]
     },
     "execution_count": 170,
     "metadata": {},
     "output_type": "execute_result"
    }
   ],
   "source": [
    "gdf_merged = gdf_merged.drop(columns=[\"notes\"],axis=1)\n",
    "gdf_merged[gdf_merged[\"Communit_1\"]==\"OHARE\"].isna().sum()"
   ]
  },
  {
   "cell_type": "code",
   "execution_count": 171,
   "id": "e6b40d59",
   "metadata": {},
   "outputs": [
    {
     "data": {
      "text/plain": [
       "geopandas.geodataframe.GeoDataFrame"
      ]
     },
     "execution_count": 171,
     "metadata": {},
     "output_type": "execute_result"
    }
   ],
   "source": [
    "gdf_merged = gpd.GeoDataFrame(gdf_merged, geometry=\"geometry\", crs=\"EPSG:4326\")\n",
    "type(gdf_merged)"
   ]
  },
  {
   "cell_type": "markdown",
   "id": "ee7d342a",
   "metadata": {},
   "source": [
    "<hr class=\"white-line\">"
   ]
  },
  {
   "cell_type": "code",
   "execution_count": 172,
   "id": "d6d739c6",
   "metadata": {},
   "outputs": [],
   "source": [
    "def format_date(col_name):\n",
    "    \"\"\"Convert column names like '15_JUN' or '01_JLY' to 'June 15, 2025'.\"\"\"\n",
    "    clean_name = col_name.strip().replace(',', '').upper()\n",
    "    day, month = clean_name.split('_')\n",
    "\n",
    "    # Only correct JLY → JUL\n",
    "    if month == \"JLY\":\n",
    "        month = \"JUL\"\n",
    "\n",
    "    date_str = f\"{day}_{month}_2025\"\n",
    "    dt = datetime.strptime(date_str, \"%d_%b_%Y\")\n",
    "    return dt.strftime(\"%B %#d, %Y\")  # Use %#d on Windows"
   ]
  },
  {
   "cell_type": "code",
   "execution_count": 173,
   "id": "ea4da7e2",
   "metadata": {},
   "outputs": [
    {
     "name": "stdout",
     "output_type": "stream",
     "text": [
      "statefp10       object\n",
      "countyfp10      object\n",
      "tractce10       object\n",
      "geoid10         object\n",
      "name10          object\n",
      "namelsad10      object\n",
      "commarea        object\n",
      "commarea_n     float64\n",
      "notes           object\n",
      "geometry      geometry\n",
      "dtype: object\n",
      "TRACTCE10              object\n",
      "GEOID10                object\n",
      "NAME10                 object\n",
      "NAMELSAD10             object\n",
      "Long                  float64\n",
      "Lat                   float64\n",
      "GEOID_Matc             object\n",
      "State                  object\n",
      "County                 object\n",
      "Community              object\n",
      "Communit_1             object\n",
      "15_JUN                 object\n",
      "16_JUN                 object\n",
      "17_JUN                 object\n",
      "18_JUN                 object\n",
      "19_JUN                 object\n",
      "20_JUN                 object\n",
      "21_JUN                 object\n",
      "22_JUN                 object\n",
      "23_JUN                 object\n",
      "24_JUN                 object\n",
      "25_JUN                 object\n",
      "26_JUN                 object\n",
      "27_JUN                 object\n",
      "28_JUN                 object\n",
      "29_JUN                 object\n",
      "30_JUN                 object\n",
      "01_JLY                 object\n",
      "02_JLY                 object\n",
      "03_JLY                 object\n",
      "04_JLY                 object\n",
      "05_JLY                 object\n",
      "06_JLY                 object\n",
      "07_JLY                 object\n",
      "08_JLY                 object\n",
      "09_JLY                 object\n",
      "10_JLY                 object\n",
      "11_JLY                 object\n",
      "12_JLY                 object\n",
      "13_JLY                 object\n",
      "14_JLY                 object\n",
      "15_JLY                 object\n",
      "geometry_ct_point    geometry\n",
      "dtype: object\n"
     ]
    }
   ],
   "source": [
    "print(chicago_tracts.dtypes)\n",
    "print(gdf.dtypes)"
   ]
  },
  {
   "cell_type": "code",
   "execution_count": 176,
   "id": "4d96c66c",
   "metadata": {},
   "outputs": [],
   "source": [
    "bird_density_frames = \"bird_density_frames\"\n",
    "\n",
    "for target in target_vars[:1]: \n",
    "    fig, ax = plt.subplots(figsize=(8, 10)) \n",
    "    gdf_merged[target] = pd.to_numeric(gdf_merged[target])\n",
    "\n",
    "    gdf_merged.plot(\n",
    "        column=target,\n",
    "        ax=ax,\n",
    "        cmap=\"RdPu\",\n",
    "        legend=False,\n",
    "        linewidth=0.5,\n",
    "        edgecolor=\"black\",\n",
    "    )\n",
    "\n",
    "    # add a smaller colorbar manually\n",
    "    norm = mpl.colors.Normalize(vmin=gdf_merged[target].min(), vmax=gdf_merged[target].max())\n",
    "    sm = mpl.cm.ScalarMappable(cmap=\"RdPu\", norm=norm)\n",
    "    sm._A = []\n",
    "\n",
    "    # create colorbar with fewer ticks\n",
    "    cbar = fig.colorbar(sm, ax=ax, fraction=0.03, pad=0.01)\n",
    "\n",
    "    cbar.ax.tick_params(labelsize=8)\n",
    "    cbar.set_label(\"Getis-Ord Gi* Intensity\", fontsize=9)\n",
    "\n",
    "    cbar.locator = mpl.ticker.MaxNLocator(nbins=3)  # Limit number of ticks\n",
    "    cbar.update_ticks()\n",
    "\n",
    "    date = format_date(target)\n",
    "\n",
    "    # multipolygon.boundary.plot(ax=ax, color='black', linewidth=0.5)\n",
    "\n",
    "    ax.set_title(f\"Migratory Birds Hot Spot on {date}\", fontsize=14)\n",
    "    plt.tight_layout()\n",
    "\n",
    "    save_path = os.path.join(bird_density_frames, f\"bird_density_{date}.png\")\n",
    "\n",
    "    plt.savefig(save_path, dpi=150, bbox_inches=\"tight\")\n",
    "    plt.close()"
   ]
  },
  {
   "cell_type": "code",
   "execution_count": null,
   "id": "366921a4",
   "metadata": {},
   "outputs": [],
   "source": [
    "date_pattern = re.compile(r\"([A-Za-z]+ \\d{1,2}, \\d{4})\")\n",
    "\n",
    "# put frames in order based on date\n",
    "png_files = []\n",
    "for filename in os.listdir(bird_density_frames):\n",
    "    if filename.endswith(\".png\"):\n",
    "        match = date_pattern.search(filename)\n",
    "        if match:\n",
    "            date_str = match.group(1)\n",
    "            try:\n",
    "                date_obj = datetime.strptime(date_str, \"%B %d, %Y\")\n",
    "                png_files.append((filename, date_obj))\n",
    "            except ValueError:\n",
    "                print(f\"Skipping invalid date in: {filename}\")\n",
    "\n",
    "png_files.sort(key=lambda x: x[1])\n",
    "\n",
    "for i, (filename, date_obj) in enumerate(png_files, start=1):\n",
    "    old_path = os.path.join(bird_density_frames, filename)\n",
    "    new_filename = f\"{i:03d}_{filename}\"\n",
    "    new_path = os.path.join(bird_density_frames, new_filename)\n",
    "    os.rename(old_path, new_path)\n",
    "    print(f\"Renamed: {filename} --> {new_filename}\")"
   ]
  },
  {
   "cell_type": "code",
   "execution_count": null,
   "id": "fc20c432",
   "metadata": {},
   "outputs": [],
   "source": [
    "# assemble the GIF\n",
    "bird_density_gif_path = \"bird_density_animation.gif\"\n",
    "\n",
    "frames = [Image.open(os.path.join(bird_density_frames, f)) for f in os.listdir(bird_density_frames)]\n",
    "frames[0].save(bird_density_gif_path, save_all=True, append_images=frames[1:], duration=500, loop=0)"
   ]
  },
  {
   "cell_type": "markdown",
   "id": "28540c50",
   "metadata": {},
   "source": [
    "#### 8 climatic parameter daily avg. from june 15th to july 15th (8 total gifs)"
   ]
  },
  {
   "cell_type": "code",
   "execution_count": null,
   "id": "0e92a5a2",
   "metadata": {},
   "outputs": [],
   "source": [
    "## this comes from chicago_ct_weather_data repo code\n",
    "weather = pd.read_csv(\"per-census-agg-weather-data.csv\")"
   ]
  },
  {
   "cell_type": "code",
   "execution_count": null,
   "id": "6f26036e",
   "metadata": {},
   "outputs": [],
   "source": [
    "weather.columns"
   ]
  },
  {
   "cell_type": "code",
   "execution_count": null,
   "id": "105dfa7d",
   "metadata": {},
   "outputs": [],
   "source": [
    "weather_vars_and_id = ['cleaned_time', 'tract_id', 'temperature_180m', 'wind_direction_180m',\n",
    "       'wind_speed_180m', 'surface_pressure', 'cloud_cover',\n",
    "       'relative_humidity_2m', 'precipitation', 'visibility', 'tractce10']\n",
    "weather = weather[weather_vars_and_id]\n",
    "weather.head(1)"
   ]
  },
  {
   "cell_type": "code",
   "execution_count": null,
   "id": "2656d312",
   "metadata": {},
   "outputs": [],
   "source": [
    "# since the pre-existing geometry col is giving problems I will use a merge again to keep it consistent and get the working geometry col\n",
    "weather_merged = pd.merge(weather, chicago_tracts, on=\"tractce10\", how=\"inner\")"
   ]
  },
  {
   "cell_type": "code",
   "execution_count": null,
   "id": "2db64103",
   "metadata": {},
   "outputs": [],
   "source": [
    "weather_merged[\"tractce10\"].nunique()"
   ]
  }
 ],
 "metadata": {
  "kernelspec": {
   "display_name": "Python 3",
   "language": "python",
   "name": "python3"
  },
  "language_info": {
   "codemirror_mode": {
    "name": "ipython",
    "version": 3
   },
   "file_extension": ".py",
   "mimetype": "text/x-python",
   "name": "python",
   "nbconvert_exporter": "python",
   "pygments_lexer": "ipython3",
   "version": "3.12.4"
  }
 },
 "nbformat": 4,
 "nbformat_minor": 5
}
