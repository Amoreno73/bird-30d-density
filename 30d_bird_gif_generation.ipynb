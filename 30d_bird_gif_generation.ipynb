{
 "cells": [
  {
   "cell_type": "code",
   "execution_count": null,
   "id": "68435cb5",
   "metadata": {},
   "outputs": [],
   "source": [
    "import imageio.v2 as imageio\n",
    "import os \n",
    "import matplotlib.pyplot as plt\n",
    "import pandas as pd\n",
    "import geopandas as gpd\n",
    "from tqdm import tqdm\n",
    "from PIL import Image\n",
    "import matplotlib as mpl\n",
    "import seaborn as sns\n",
    "from shapely.geometry import MultiPolygon\n",
    "import numpy as np\n",
    "import re\n",
    "from datetime import datetime\n",
    "import geopandas as gpd"
   ]
  },
  {
   "cell_type": "markdown",
   "id": "3f305f2c",
   "metadata": {},
   "source": [
    "#### Bird Migration Presence from June 15th to July 15th GIF"
   ]
  },
  {
   "cell_type": "code",
   "execution_count": null,
   "id": "b806e45e",
   "metadata": {},
   "outputs": [],
   "source": [
    "chicago_boundary = gpd.read_file(\"Chicago_Tracts_2010.zip\")\n",
    "multipolygon = chicago_boundary.dissolve(by=None)\n",
    "fig, ax = plt.subplots(figsize=(8, 8))\n",
    "multipolygon.plot(ax=ax, color='grey', edgecolor='red', alpha=0.5)"
   ]
  },
  {
   "cell_type": "code",
   "execution_count": null,
   "id": "46cb9374",
   "metadata": {},
   "outputs": [],
   "source": [
    "test = gpd.read_file(\"30d_bird_chicago/2025-07-15_bird_data.zip\")\n",
    "fig, ax = plt.subplots(figsize=(8, 10))\n",
    "\n",
    "test.plot(ax=ax, edgecolor='grey', legend=True)\n",
    "\n",
    "multipolygon.boundary.plot(ax=ax, color='black')\n",
    "\n",
    "plt.title(\"(Test) Bird Migration Presence on 2025-07-15\", fontsize=16)"
   ]
  },
  {
   "cell_type": "code",
   "execution_count": null,
   "id": "8f52283e",
   "metadata": {},
   "outputs": [],
   "source": [
    "## making the frames for the gif:\n",
    "bird_presence_path = \"./30d_bird_chicago\"\n",
    "frames_path = \"bird_presence_frames\"\n",
    "\n",
    "os.makedirs(frames_path, exist_ok=True)\n",
    "\n",
    "for daily_data in os.listdir(bird_presence_path):\n",
    "    full_path = os.path.join(bird_presence_path, daily_data)\n",
    "\n",
    "    gdf = gpd.read_file(full_path)\n",
    "\n",
    "    fig, ax = plt.subplots(figsize=(8, 10))\n",
    "    gdf.plot(ax=ax, color=\"red\", edgecolor='grey', legend=True)\n",
    "    multipolygon.boundary.plot(ax=ax, color='black')\n",
    "\n",
    "    date = os.path.splitext(daily_data)[0][:10]\n",
    "    plt.title(f\"Migratory Birds Presence on {date}\", fontsize=16)\n",
    "\n",
    "    save_path = os.path.join(frames_path, f\"bird_migration_presence_{date}.png\")\n",
    "\n",
    "    plt.savefig(save_path, dpi=150, bbox_inches=\"tight\")\n",
    "    plt.close()"
   ]
  },
  {
   "cell_type": "code",
   "execution_count": null,
   "id": "0b4db884",
   "metadata": {},
   "outputs": [],
   "source": [
    "## creating the gif with the generated frames: \n",
    "gif_path = \"bird_presence_animation.gif\"\n",
    "\n",
    "frames = [Image.open(os.path.join(frames_path, f)) for f in os.listdir(frames_path)]\n",
    "frames[0].save(gif_path, save_all=True, append_images=frames[1:], duration=500, loop=0)"
   ]
  },
  {
   "cell_type": "markdown",
   "id": "a316f5f3",
   "metadata": {},
   "source": [
    "#### Bird Migration Hot Spot Density from June 15th to July 15th GIF"
   ]
  },
  {
   "cell_type": "markdown",
   "id": "4acd6382",
   "metadata": {},
   "source": [
    "fix: keep legend normalized "
   ]
  },
  {
   "cell_type": "code",
   "execution_count": null,
   "id": "cc31974a",
   "metadata": {},
   "outputs": [],
   "source": [
    "## fix -> max not displaying/ being overwritten\n",
    "\n",
    "gdf = gpd.read_file(\"./30d_bird_chicago/2025-06-18_bird_data.zip\")\n",
    "\n",
    "vmin = gdf[\"howMany\"].min()\n",
    "vmax = gdf[\"howMany\"].max()\n",
    "\n",
    "gdf\n",
    "# max entries have double or more entries which overwrites the max val\n",
    "# from locid keep the entries with max \"howMany\" value\n",
    "\n",
    "gdf = gdf.loc[gdf.groupby('locId')['howMany'].idxmax()].reset_index(drop=True)\n",
    "gdf"
   ]
  },
  {
   "cell_type": "code",
   "execution_count": null,
   "id": "2111af17",
   "metadata": {},
   "outputs": [],
   "source": [
    "## making hotspot density maps for gif:\n",
    "bird_presence_path = \"./30d_bird_chicago\"\n",
    "hotspot_frames_path = \"bird_hotspot_d_frames\"\n",
    "\n",
    "os.makedirs(hotspot_frames_path, exist_ok=True)\n",
    "\n",
    "for daily_data in os.listdir(bird_presence_path):\n",
    "    full_path = os.path.join(bird_presence_path, daily_data)\n",
    "\n",
    "    gdf = gpd.read_file(full_path)\n",
    "    gdf[\"howMany\"] = gdf[\"howMany\"].fillna(1)\n",
    "    gdf = gdf.loc[gdf.groupby('locId')['howMany'].idxmax()].reset_index(drop=True)\n",
    "\n",
    "    fig, ax = plt.subplots(figsize=(8, 10)) \n",
    "\n",
    "    vmin = gdf[\"howMany\"].min()\n",
    "    vmax = gdf[\"howMany\"].max()\n",
    "    \n",
    "    gdf_plot = gdf.plot(\n",
    "        column=\"howMany\",\n",
    "        ax=ax,\n",
    "        cmap=\"coolwarm\",\n",
    "        legend=False\n",
    "    )\n",
    "\n",
    "    norm = mpl.colors.Normalize(vmin=vmin, vmax=vmax)\n",
    "    sm = mpl.cm.ScalarMappable(cmap=\"coolwarm\", norm=norm)\n",
    "    sm._A = []\n",
    "\n",
    "    cbar = fig.colorbar(\n",
    "        sm,\n",
    "        ax=ax,\n",
    "        fraction=0.04,\n",
    "        pad=0.02,\n",
    "        aspect=20,\n",
    "        shrink=0.4\n",
    "    )\n",
    "    cbar.set_label(\"Bird Abundance\", fontsize=9)\n",
    "    cbar.ax.tick_params(labelsize=8)\n",
    "    cbar.set_ticks([vmin, round((vmin + vmax) / 2), vmax])\n",
    "\n",
    "    multipolygon.boundary.plot(ax=ax, color='black')\n",
    "\n",
    "    date = os.path.splitext(daily_data)[0][:10]\n",
    "    plt.title(f\"Migratory Birds Presence on {date}\", fontsize=16)\n",
    "\n",
    "    save_path = os.path.join(hotspot_frames_path, f\"bird_hotspot_density_{date}.png\")\n",
    "\n",
    "    plt.savefig(save_path, dpi=150, bbox_inches=\"tight\")\n",
    "    plt.close()"
   ]
  },
  {
   "cell_type": "code",
   "execution_count": null,
   "id": "1a2c64ad",
   "metadata": {},
   "outputs": [],
   "source": [
    "## creating the gif with the generated frames: \n",
    "gif_path = \"bird_hotspot_d_animation.gif\"\n",
    "\n",
    "frames = [Image.open(os.path.join(hotspot_frames_path, f)) for f in os.listdir(hotspot_frames_path)]\n",
    "frames[0].save(gif_path, save_all=True, append_images=frames[1:], duration=900, loop=0)"
   ]
  },
  {
   "cell_type": "markdown",
   "id": "7feaf932",
   "metadata": {},
   "source": [
    "#### SHAP Plot GIF"
   ]
  },
  {
   "cell_type": "code",
   "execution_count": null,
   "id": "8923f630",
   "metadata": {},
   "outputs": [],
   "source": [
    "## creating the gif with the generated frames: \n",
    "shap_plot_frames = \"shap_plots\"\n",
    "shap_gif_path = \"shap_feature_importance.gif\"\n",
    "\n",
    "# re order the frames according to date first: \n",
    "# date_pattern = re.compile(r\"(\\d{2}_[A-Z]{3})\")\n",
    "\n",
    "# png_files = []\n",
    "# for filename in os.listdir(shap_plot_frames):\n",
    "#     if filename.endswith(\".png\"):\n",
    "#         match = date_pattern.search(filename)\n",
    "#         if match:\n",
    "#             date_str = match.group(1)\n",
    "#             try:\n",
    "#                 date_obj = datetime.datetime.strptime(date_str, \"%d_%b\")\n",
    "#                 png_files.append((filename, date_obj))\n",
    "#             except ValueError:\n",
    "#                 print(f\"Skipping invalid date in: {filename}\")\n",
    "\n",
    "# png_files.sort(key=lambda x: x[1])\n",
    "\n",
    "# for i, (filename, date_obj) in enumerate(png_files, start=1):\n",
    "#     old_path = os.path.join(shap_plot_frames, filename)\n",
    "#     new_filename = f\"{i:03d}_{filename}\"\n",
    "#     new_path = os.path.join(shap_plot_frames, new_filename)\n",
    "#     os.rename(old_path, new_path)\n",
    "#     print(f\"Renamed: {filename} --> {new_filename}\")"
   ]
  },
  {
   "cell_type": "code",
   "execution_count": null,
   "id": "661ffe36",
   "metadata": {},
   "outputs": [],
   "source": [
    "frames = [Image.open(os.path.join(shap_plot_frames, f)) for f in os.listdir(shap_plot_frames)]\n",
    "frames[0].save(shap_gif_path, save_all=True, append_images=frames[1:], duration=500, loop=0)"
   ]
  },
  {
   "cell_type": "markdown",
   "id": "c9da4f8f",
   "metadata": {},
   "source": [
    "### Per-tract Bird Density plotting:"
   ]
  },
  {
   "cell_type": "markdown",
   "id": "fc1145f0",
   "metadata": {},
   "source": [
    "using the chicago ct point csv:\n",
    "- 798 unique tracts\n",
    "- each tract has the avg daily density data for each of the 31 days\n",
    "- I will plot -> 15_JUN data for each tract, as it should be different for all 798 tracts. "
   ]
  },
  {
   "cell_type": "code",
   "execution_count": 120,
   "id": "48f26a0b",
   "metadata": {},
   "outputs": [
    {
     "name": "stdout",
     "output_type": "stream",
     "text": [
      "TRACTCE10     float64\n",
      "GEOID10        object\n",
      "NAME10         object\n",
      "NAMELSAD10     object\n",
      "Long          float64\n",
      "Lat           float64\n",
      "dtype: object\n"
     ]
    }
   ],
   "source": [
    "gdf = gpd.read_file(\"Chicago_CT_Point.csv\")\n",
    "\n",
    "gdf[\"Long\"] = pd.to_numeric(gdf[\"Long\"])\n",
    "gdf[\"Lat\"] = pd.to_numeric(gdf[\"Lat\"])\n",
    "gdf[\"TRACTCE10\"] = pd.to_numeric(gdf[\"TRACTCE10\"])\n",
    "\n",
    "print(gdf.dtypes[:6])"
   ]
  },
  {
   "cell_type": "code",
   "execution_count": 121,
   "id": "8f842f23",
   "metadata": {},
   "outputs": [],
   "source": [
    "target_vars = ['15_JUN',\n",
    "       '16_JUN', '17_JUN', '18_JUN', '19_JUN', '20_JUN', '21_JUN', '22_JUN',\n",
    "       '23_JUN', '24_JUN', '25_JUN', '26_JUN', '27_JUN', '28_JUN', '29_JUN',\n",
    "       '30_JUN', '01_JLY', '02_JLY', '03_JLY', '04_JLY', '05_JLY', '06_JLY',\n",
    "       '07_JLY', '08_JLY', '09_JLY', '10_JLY', '11_JLY', '12_JLY', '13_JLY',\n",
    "       '14_JLY', '15_JLY']"
   ]
  },
  {
   "cell_type": "code",
   "execution_count": 122,
   "id": "6f9b214b",
   "metadata": {},
   "outputs": [
    {
     "data": {
      "text/plain": [
       "31"
      ]
     },
     "execution_count": 122,
     "metadata": {},
     "output_type": "execute_result"
    }
   ],
   "source": [
    "len(target_vars)"
   ]
  },
  {
   "cell_type": "code",
   "execution_count": 123,
   "id": "8f3f8136",
   "metadata": {},
   "outputs": [
    {
     "data": {
      "text/plain": [
       "Index(['TRACTCE10', 'GEOID10', 'NAME10', 'NAMELSAD10', 'Long', 'Lat',\n",
       "       'GEOID_Matc', 'State', 'County', 'Community', 'Communit_1', '15_JUN',\n",
       "       '16_JUN', '17_JUN', '18_JUN', '19_JUN', '20_JUN', '21_JUN', '22_JUN',\n",
       "       '23_JUN', '24_JUN', '25_JUN', '26_JUN', '27_JUN', '28_JUN', '29_JUN',\n",
       "       '30_JUN', '01_JLY', '02_JLY', '03_JLY', '04_JLY', '05_JLY', '06_JLY',\n",
       "       '07_JLY', '08_JLY', '09_JLY', '10_JLY', '11_JLY', '12_JLY', '13_JLY',\n",
       "       '14_JLY', '15_JLY'],\n",
       "      dtype='object')"
      ]
     },
     "execution_count": 123,
     "metadata": {},
     "output_type": "execute_result"
    }
   ],
   "source": [
    "gdf.columns"
   ]
  },
  {
   "cell_type": "code",
   "execution_count": 124,
   "id": "4401485e",
   "metadata": {},
   "outputs": [
    {
     "data": {
      "text/plain": [
       "798"
      ]
     },
     "execution_count": 124,
     "metadata": {},
     "output_type": "execute_result"
    }
   ],
   "source": [
    "gdf[\"TRACTCE10\"].nunique()"
   ]
  },
  {
   "cell_type": "code",
   "execution_count": 125,
   "id": "9d3af3c3",
   "metadata": {},
   "outputs": [],
   "source": [
    "chicago_tracts = gpd.read_file(\"Chicago_Tracts_2010.zip\")"
   ]
  },
  {
   "cell_type": "code",
   "execution_count": 126,
   "id": "023014fe",
   "metadata": {},
   "outputs": [
    {
     "name": "stdout",
     "output_type": "stream",
     "text": [
      "Index(['statefp10', 'countyfp10', 'tractce10', 'geoid10', 'name10',\n",
      "       'namelsad10', 'commarea', 'commarea_n', 'notes', 'geometry'],\n",
      "      dtype='object')\n",
      "statefp10     object\n",
      "countyfp10    object\n",
      "tractce10      int64\n",
      "dtype: object\n"
     ]
    }
   ],
   "source": [
    "print(chicago_tracts.columns)\n",
    "chicago_tracts[\"tractce10\"] = pd.to_numeric(chicago_tracts[\"tractce10\"])\n",
    "print(chicago_tracts.dtypes[:3])"
   ]
  },
  {
   "cell_type": "code",
   "execution_count": 127,
   "id": "d113c080",
   "metadata": {},
   "outputs": [
    {
     "data": {
      "text/plain": [
       "801"
      ]
     },
     "execution_count": 127,
     "metadata": {},
     "output_type": "execute_result"
    }
   ],
   "source": [
    "chicago_tracts[\"tractce10\"].nunique()"
   ]
  },
  {
   "cell_type": "code",
   "execution_count": 128,
   "id": "cb0bb1bb",
   "metadata": {},
   "outputs": [],
   "source": [
    "# merge w/chicago_tracts_2010 to get geometry col \n",
    "# merge on \"NAME10\"\n",
    "\n",
    "gdf_merged = pd.merge(gdf, chicago_tracts, left_on=\"TRACTCE10\", right_on=\"tractce10\", how=\"inner\")"
   ]
  },
  {
   "cell_type": "code",
   "execution_count": 129,
   "id": "0d3ad6f2",
   "metadata": {},
   "outputs": [
    {
     "data": {
      "text/plain": [
       "798"
      ]
     },
     "execution_count": 129,
     "metadata": {},
     "output_type": "execute_result"
    }
   ],
   "source": [
    "gdf_merged[\"tractce10\"].nunique()"
   ]
  },
  {
   "cell_type": "code",
   "execution_count": 130,
   "id": "39d3c783",
   "metadata": {},
   "outputs": [
    {
     "data": {
      "text/plain": [
       "Index(['TRACTCE10', 'GEOID10', 'NAME10', 'NAMELSAD10', 'Long', 'Lat',\n",
       "       'GEOID_Matc', 'State', 'County', 'Community', 'Communit_1', '15_JUN',\n",
       "       '16_JUN', '17_JUN', '18_JUN', '19_JUN', '20_JUN', '21_JUN', '22_JUN',\n",
       "       '23_JUN', '24_JUN', '25_JUN', '26_JUN', '27_JUN', '28_JUN', '29_JUN',\n",
       "       '30_JUN', '01_JLY', '02_JLY', '03_JLY', '04_JLY', '05_JLY', '06_JLY',\n",
       "       '07_JLY', '08_JLY', '09_JLY', '10_JLY', '11_JLY', '12_JLY', '13_JLY',\n",
       "       '14_JLY', '15_JLY', 'statefp10', 'countyfp10', 'tractce10', 'geoid10',\n",
       "       'name10', 'namelsad10', 'commarea', 'commarea_n', 'notes', 'geometry'],\n",
       "      dtype='object')"
      ]
     },
     "execution_count": 130,
     "metadata": {},
     "output_type": "execute_result"
    }
   ],
   "source": [
    "gdf_merged.columns"
   ]
  },
  {
   "cell_type": "code",
   "execution_count": null,
   "id": "e6b40d59",
   "metadata": {},
   "outputs": [
    {
     "data": {
      "text/plain": [
       "geopandas.geodataframe.GeoDataFrame"
      ]
     },
     "execution_count": 131,
     "metadata": {},
     "output_type": "execute_result"
    }
   ],
   "source": [
    "type(gdf_merged)\n",
    "gdf_merged = gpd.GeoDataFrame(gdf_merged, geometry=\"geometry\", crs=\"EPSG:4326\")\n",
    "type(gdf_merged)"
   ]
  },
  {
   "cell_type": "code",
   "execution_count": null,
   "id": "d6d739c6",
   "metadata": {},
   "outputs": [],
   "source": [
    "def format_date(col_name):\n",
    "    \"\"\"Convert column names like '15_JUN' or '01_JLY' to 'June 15, 2025'.\"\"\"\n",
    "    clean_name = col_name.strip().replace(',', '').upper()\n",
    "    day, month = clean_name.split('_')\n",
    "\n",
    "    # Only correct JLY → JUL\n",
    "    if month == \"JLY\":\n",
    "        month = \"JUL\"\n",
    "\n",
    "    date_str = f\"{day}_{month}_2025\"\n",
    "    dt = datetime.strptime(date_str, \"%d_%b_%Y\")\n",
    "    return dt.strftime(\"%B %#d, %Y\")  # Use %#d on Windows"
   ]
  },
  {
   "cell_type": "code",
   "execution_count": 152,
   "id": "4d96c66c",
   "metadata": {},
   "outputs": [],
   "source": [
    "bird_density_frames = \"bird_density_frames\"\n",
    "\n",
    "for target in target_vars: \n",
    "    \n",
    "    fig, ax = plt.subplots(figsize=(8, 10)) \n",
    "    gdf_merged[target] = pd.to_numeric(gdf_merged[target])\n",
    "\n",
    "    gdf_merged.plot(\n",
    "        column=target,\n",
    "        ax=ax,\n",
    "        cmap=\"RdPu\",\n",
    "        legend=False,\n",
    "        linewidth=0.5,\n",
    "        edgecolor=\"black\",\n",
    "    )\n",
    "\n",
    "    # # Add a smaller colorbar manually\n",
    "    norm = mpl.colors.Normalize(vmin=gdf_merged[target].min(), vmax=gdf_merged[target].max())\n",
    "    sm = mpl.cm.ScalarMappable(cmap=\"RdPu\", norm=norm)\n",
    "    sm._A = []\n",
    "\n",
    "    # Create colorbar with fewer ticks\n",
    "    cbar = fig.colorbar(sm, ax=ax, fraction=0.03, pad=0.01)\n",
    "\n",
    "    cbar.ax.tick_params(labelsize=8)\n",
    "    cbar.set_label(\"Avg. Bird Density\", fontsize=9)\n",
    "\n",
    "    cbar.locator = mpl.ticker.MaxNLocator(nbins=6)  # Limit number of ticks\n",
    "    cbar.update_ticks()\n",
    "\n",
    "    date = format_date(target)\n",
    "\n",
    "    ax.set_title(f\"Migratory Bird Density on {date}\", fontsize=14)\n",
    "    plt.tight_layout()\n",
    "\n",
    "    save_path = os.path.join(bird_density_frames, f\"bird_density_{date}.png\")\n",
    "\n",
    "    plt.savefig(save_path, dpi=150, bbox_inches=\"tight\")\n",
    "    plt.close()"
   ]
  },
  {
   "cell_type": "code",
   "execution_count": null,
   "id": "366921a4",
   "metadata": {},
   "outputs": [
    {
     "name": "stdout",
     "output_type": "stream",
     "text": [
      "Renamed: bird_density_June 15, 2025.png --> 001_bird_density_June 15, 2025.png\n",
      "Renamed: bird_density_June 16, 2025.png --> 002_bird_density_June 16, 2025.png\n",
      "Renamed: bird_density_June 17, 2025.png --> 003_bird_density_June 17, 2025.png\n",
      "Renamed: bird_density_June 18, 2025.png --> 004_bird_density_June 18, 2025.png\n",
      "Renamed: bird_density_June 19, 2025.png --> 005_bird_density_June 19, 2025.png\n",
      "Renamed: bird_density_June 20, 2025.png --> 006_bird_density_June 20, 2025.png\n",
      "Renamed: bird_density_June 21, 2025.png --> 007_bird_density_June 21, 2025.png\n",
      "Renamed: bird_density_June 22, 2025.png --> 008_bird_density_June 22, 2025.png\n",
      "Renamed: bird_density_June 23, 2025.png --> 009_bird_density_June 23, 2025.png\n",
      "Renamed: bird_density_June 24, 2025.png --> 010_bird_density_June 24, 2025.png\n",
      "Renamed: bird_density_June 25, 2025.png --> 011_bird_density_June 25, 2025.png\n",
      "Renamed: bird_density_June 26, 2025.png --> 012_bird_density_June 26, 2025.png\n",
      "Renamed: bird_density_June 27, 2025.png --> 013_bird_density_June 27, 2025.png\n",
      "Renamed: bird_density_June 28, 2025.png --> 014_bird_density_June 28, 2025.png\n",
      "Renamed: bird_density_June 29, 2025.png --> 015_bird_density_June 29, 2025.png\n",
      "Renamed: bird_density_June 30, 2025.png --> 016_bird_density_June 30, 2025.png\n",
      "Renamed: bird_density_July 1, 2025.png --> 017_bird_density_July 1, 2025.png\n",
      "Renamed: bird_density_July 2, 2025.png --> 018_bird_density_July 2, 2025.png\n",
      "Renamed: bird_density_July 3, 2025.png --> 019_bird_density_July 3, 2025.png\n",
      "Renamed: bird_density_July 4, 2025.png --> 020_bird_density_July 4, 2025.png\n",
      "Renamed: bird_density_July 5, 2025.png --> 021_bird_density_July 5, 2025.png\n",
      "Renamed: bird_density_July 6, 2025.png --> 022_bird_density_July 6, 2025.png\n",
      "Renamed: bird_density_July 7, 2025.png --> 023_bird_density_July 7, 2025.png\n",
      "Renamed: bird_density_July 8, 2025.png --> 024_bird_density_July 8, 2025.png\n",
      "Renamed: bird_density_July 9, 2025.png --> 025_bird_density_July 9, 2025.png\n",
      "Renamed: bird_density_July 10, 2025.png --> 026_bird_density_July 10, 2025.png\n",
      "Renamed: bird_density_July 11, 2025.png --> 027_bird_density_July 11, 2025.png\n",
      "Renamed: bird_density_July 12, 2025.png --> 028_bird_density_July 12, 2025.png\n",
      "Renamed: bird_density_July 13, 2025.png --> 029_bird_density_July 13, 2025.png\n",
      "Renamed: bird_density_July 14, 2025.png --> 030_bird_density_July 14, 2025.png\n",
      "Renamed: bird_density_July 15, 2025.png --> 031_bird_density_July 15, 2025.png\n"
     ]
    }
   ],
   "source": [
    "date_pattern = re.compile(r\"([A-Za-z]+ \\d{1,2}, \\d{4})\")\n",
    "\n",
    "# put frames in order based on date\n",
    "png_files = []\n",
    "for filename in os.listdir(bird_density_frames):\n",
    "    if filename.endswith(\".png\"):\n",
    "        match = date_pattern.search(filename)\n",
    "        if match:\n",
    "            date_str = match.group(1)\n",
    "            try:\n",
    "                date_obj = datetime.strptime(date_str, \"%B %d, %Y\")\n",
    "                png_files.append((filename, date_obj))\n",
    "            except ValueError:\n",
    "                print(f\"Skipping invalid date in: {filename}\")\n",
    "\n",
    "png_files.sort(key=lambda x: x[1])\n",
    "\n",
    "for i, (filename, date_obj) in enumerate(png_files, start=1):\n",
    "    old_path = os.path.join(bird_density_frames, filename)\n",
    "    new_filename = f\"{i:03d}_{filename}\"\n",
    "    new_path = os.path.join(bird_density_frames, new_filename)\n",
    "    os.rename(old_path, new_path)\n",
    "    print(f\"Renamed: {filename} --> {new_filename}\")"
   ]
  },
  {
   "cell_type": "code",
   "execution_count": 168,
   "id": "fc20c432",
   "metadata": {},
   "outputs": [],
   "source": [
    "# assemble the GIF\n",
    "bird_density_gif_path = \"bird_density_animation.gif\"\n",
    "\n",
    "frames = [Image.open(os.path.join(bird_density_frames, f)) for f in os.listdir(bird_density_frames)]\n",
    "frames[0].save(bird_density_gif_path, save_all=True, append_images=frames[1:], duration=500, loop=0)"
   ]
  },
  {
   "cell_type": "markdown",
   "id": "28540c50",
   "metadata": {},
   "source": [
    "#### 8 climatic parameter daily avg. from june 15th to july 15th (8 total gifs)"
   ]
  },
  {
   "cell_type": "code",
   "execution_count": 178,
   "id": "0e92a5a2",
   "metadata": {},
   "outputs": [],
   "source": [
    "## this comes from chicago_ct_weather_data repo code\n",
    "weather = pd.read_csv(\"per-census-agg-weather-data.csv\")"
   ]
  },
  {
   "cell_type": "code",
   "execution_count": 179,
   "id": "6f26036e",
   "metadata": {},
   "outputs": [
    {
     "data": {
      "text/plain": [
       "Index(['cleaned_time', 'tract_id', 'temperature_180m', 'wind_direction_180m',\n",
       "       'wind_speed_180m', 'surface_pressure', 'cloud_cover',\n",
       "       'relative_humidity_2m', 'precipitation', 'visibility', 'statefp10',\n",
       "       'countyfp10', 'tractce10', 'name10', 'namelsad10', 'commarea',\n",
       "       'commarea_n', 'notes', 'geometry', 'latitude', 'longitude'],\n",
       "      dtype='object')"
      ]
     },
     "execution_count": 179,
     "metadata": {},
     "output_type": "execute_result"
    }
   ],
   "source": [
    "weather.columns"
   ]
  },
  {
   "cell_type": "code",
   "execution_count": 182,
   "id": "105dfa7d",
   "metadata": {},
   "outputs": [
    {
     "data": {
      "text/html": [
       "<div>\n",
       "<style scoped>\n",
       "    .dataframe tbody tr th:only-of-type {\n",
       "        vertical-align: middle;\n",
       "    }\n",
       "\n",
       "    .dataframe tbody tr th {\n",
       "        vertical-align: top;\n",
       "    }\n",
       "\n",
       "    .dataframe thead th {\n",
       "        text-align: right;\n",
       "    }\n",
       "</style>\n",
       "<table border=\"1\" class=\"dataframe\">\n",
       "  <thead>\n",
       "    <tr style=\"text-align: right;\">\n",
       "      <th></th>\n",
       "      <th>cleaned_time</th>\n",
       "      <th>tract_id</th>\n",
       "      <th>temperature_180m</th>\n",
       "      <th>wind_direction_180m</th>\n",
       "      <th>wind_speed_180m</th>\n",
       "      <th>surface_pressure</th>\n",
       "      <th>cloud_cover</th>\n",
       "      <th>relative_humidity_2m</th>\n",
       "      <th>precipitation</th>\n",
       "      <th>visibility</th>\n",
       "      <th>tractce10</th>\n",
       "    </tr>\n",
       "  </thead>\n",
       "  <tbody>\n",
       "    <tr>\n",
       "      <th>0</th>\n",
       "      <td>2025-06-15</td>\n",
       "      <td>17031010100</td>\n",
       "      <td>67.3875</td>\n",
       "      <td>66.208333</td>\n",
       "      <td>10.4375</td>\n",
       "      <td>996.566667</td>\n",
       "      <td>24.833333</td>\n",
       "      <td>77.583333</td>\n",
       "      <td>0.0</td>\n",
       "      <td>61871.172208</td>\n",
       "      <td>10100</td>\n",
       "    </tr>\n",
       "  </tbody>\n",
       "</table>\n",
       "</div>"
      ],
      "text/plain": [
       "  cleaned_time     tract_id  temperature_180m  wind_direction_180m  \\\n",
       "0   2025-06-15  17031010100           67.3875            66.208333   \n",
       "\n",
       "   wind_speed_180m  surface_pressure  cloud_cover  relative_humidity_2m  \\\n",
       "0          10.4375        996.566667    24.833333             77.583333   \n",
       "\n",
       "   precipitation    visibility  tractce10  \n",
       "0            0.0  61871.172208      10100  "
      ]
     },
     "execution_count": 182,
     "metadata": {},
     "output_type": "execute_result"
    }
   ],
   "source": [
    "weather_vars_and_id = ['cleaned_time', 'tract_id', 'temperature_180m', 'wind_direction_180m',\n",
    "       'wind_speed_180m', 'surface_pressure', 'cloud_cover',\n",
    "       'relative_humidity_2m', 'precipitation', 'visibility', 'tractce10']\n",
    "weather = weather[weather_vars_and_id]\n",
    "weather.head(1)"
   ]
  },
  {
   "cell_type": "code",
   "execution_count": 187,
   "id": "2656d312",
   "metadata": {},
   "outputs": [],
   "source": [
    "# since the pre-existing geometry col is giving problems I will use a merge again to keep it consistent and get the working geometry col\n",
    "weather_merged = pd.merge(weather, chicago_tracts, on=\"tractce10\", how=\"inner\")"
   ]
  },
  {
   "cell_type": "code",
   "execution_count": 188,
   "id": "2db64103",
   "metadata": {},
   "outputs": [
    {
     "data": {
      "text/plain": [
       "801"
      ]
     },
     "execution_count": 188,
     "metadata": {},
     "output_type": "execute_result"
    }
   ],
   "source": [
    "weather_merged[\"tractce10\"].nunique()"
   ]
  }
 ],
 "metadata": {
  "kernelspec": {
   "display_name": "Python 3",
   "language": "python",
   "name": "python3"
  },
  "language_info": {
   "codemirror_mode": {
    "name": "ipython",
    "version": 3
   },
   "file_extension": ".py",
   "mimetype": "text/x-python",
   "name": "python",
   "nbconvert_exporter": "python",
   "pygments_lexer": "ipython3",
   "version": "3.12.4"
  }
 },
 "nbformat": 4,
 "nbformat_minor": 5
}
