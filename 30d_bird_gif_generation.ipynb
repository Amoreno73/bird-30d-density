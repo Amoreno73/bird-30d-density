{
 "cells": [
  {
   "cell_type": "code",
   "execution_count": null,
   "id": "68435cb5",
   "metadata": {},
   "outputs": [],
   "source": [
    "import imageio.v2 as imageio\n",
    "import os \n",
    "import matplotlib.pyplot as plt\n",
    "import pandas as pd\n",
    "import geopandas as gpd\n",
    "from tqdm import tqdm\n",
    "from PIL import Image\n",
    "import matplotlib as mpl\n",
    "import seaborn as sns\n",
    "from shapely.geometry import MultiPolygon\n",
    "import numpy as np\n",
    "import re\n",
    "from datetime import datetime\n",
    "import geopandas as gpd\n",
    "from shapely.geometry import Point "
   ]
  },
  {
   "cell_type": "markdown",
   "id": "3f305f2c",
   "metadata": {},
   "source": [
    "#### Bird Migration Presence from June 15th to July 15th GIF"
   ]
  },
  {
   "cell_type": "code",
   "execution_count": null,
   "id": "b806e45e",
   "metadata": {},
   "outputs": [],
   "source": [
    "chicago_boundary = gpd.read_file(\"Chicago_Tracts_2010.zip\")\n",
    "multipolygon = chicago_boundary.dissolve(by=None)\n",
    "fig, ax = plt.subplots(figsize=(8, 8))\n",
    "multipolygon.plot(ax=ax, color='grey', edgecolor='red', alpha=0.5)"
   ]
  },
  {
   "cell_type": "code",
   "execution_count": null,
   "id": "46cb9374",
   "metadata": {},
   "outputs": [],
   "source": [
    "test = gpd.read_file(\"30d_bird_chicago/2025-07-15_bird_data.zip\")\n",
    "fig, ax = plt.subplots(figsize=(8, 10))\n",
    "\n",
    "test.plot(ax=ax, edgecolor='grey', legend=True)\n",
    "\n",
    "multipolygon.boundary.plot(ax=ax, color='black')\n",
    "\n",
    "plt.title(\"(Test) Bird Migration Presence on 2025-07-15\", fontsize=16)"
   ]
  },
  {
   "cell_type": "code",
   "execution_count": null,
   "id": "8f52283e",
   "metadata": {},
   "outputs": [],
   "source": [
    "## making the frames for the gif:\n",
    "bird_presence_path = \"./30d_bird_chicago\"\n",
    "frames_path = \"bird_presence_frames\"\n",
    "\n",
    "os.makedirs(frames_path, exist_ok=True)\n",
    "\n",
    "for daily_data in os.listdir(bird_presence_path):\n",
    "    full_path = os.path.join(bird_presence_path, daily_data)\n",
    "\n",
    "    gdf = gpd.read_file(full_path)\n",
    "\n",
    "    fig, ax = plt.subplots(figsize=(8, 10))\n",
    "    gdf.plot(ax=ax, color=\"red\", edgecolor='grey', legend=True)\n",
    "    multipolygon.boundary.plot(ax=ax, color='black')\n",
    "\n",
    "    date = os.path.splitext(daily_data)[0][:10]\n",
    "    plt.title(f\"Migratory Birds Presence on {date}\", fontsize=16)\n",
    "\n",
    "    save_path = os.path.join(frames_path, f\"bird_migration_presence_{date}.png\")\n",
    "\n",
    "    plt.savefig(save_path, dpi=150, bbox_inches=\"tight\")\n",
    "    plt.close()"
   ]
  },
  {
   "cell_type": "code",
   "execution_count": null,
   "id": "0b4db884",
   "metadata": {},
   "outputs": [],
   "source": [
    "## creating the gif with the generated frames: \n",
    "gif_path = \"bird_presence_animation.gif\"\n",
    "\n",
    "frames = [Image.open(os.path.join(frames_path, f)) for f in os.listdir(frames_path)]\n",
    "frames[0].save(gif_path, save_all=True, append_images=frames[1:], duration=500, loop=0)"
   ]
  },
  {
   "cell_type": "markdown",
   "id": "a316f5f3",
   "metadata": {},
   "source": [
    "#### Bird Migration Hot Spot Density from June 15th to July 15th GIF"
   ]
  },
  {
   "cell_type": "markdown",
   "id": "4acd6382",
   "metadata": {},
   "source": [
    "fix: keep legend normalized "
   ]
  },
  {
   "cell_type": "code",
   "execution_count": null,
   "id": "cc31974a",
   "metadata": {},
   "outputs": [],
   "source": [
    "## fix -> max not displaying/ being overwritten\n",
    "\n",
    "gdf = gpd.read_file(\"./30d_bird_chicago/2025-06-18_bird_data.zip\")\n",
    "\n",
    "vmin = gdf[\"howMany\"].min()\n",
    "vmax = gdf[\"howMany\"].max()\n",
    "\n",
    "gdf\n",
    "# max entries have double or more entries which overwrites the max val\n",
    "# from locid keep the entries with max \"howMany\" value\n",
    "\n",
    "gdf = gdf.loc[gdf.groupby('locId')['howMany'].idxmax()].reset_index(drop=True)\n",
    "gdf"
   ]
  },
  {
   "cell_type": "code",
   "execution_count": null,
   "id": "2111af17",
   "metadata": {},
   "outputs": [],
   "source": [
    "## making hotspot density maps for gif:\n",
    "bird_presence_path = \"./30d_bird_chicago\"\n",
    "hotspot_frames_path = \"bird_hotspot_d_frames\"\n",
    "\n",
    "os.makedirs(hotspot_frames_path, exist_ok=True)\n",
    "\n",
    "for daily_data in os.listdir(bird_presence_path):\n",
    "    full_path = os.path.join(bird_presence_path, daily_data)\n",
    "\n",
    "    gdf = gpd.read_file(full_path)\n",
    "    gdf[\"howMany\"] = gdf[\"howMany\"].fillna(1)\n",
    "    gdf = gdf.loc[gdf.groupby('locId')['howMany'].idxmax()].reset_index(drop=True)\n",
    "\n",
    "    fig, ax = plt.subplots(figsize=(8, 10)) \n",
    "\n",
    "    vmin = gdf[\"howMany\"].min()\n",
    "    vmax = gdf[\"howMany\"].max()\n",
    "    \n",
    "    gdf_plot = gdf.plot(\n",
    "        column=\"howMany\",\n",
    "        ax=ax,\n",
    "        cmap=\"coolwarm\",\n",
    "        legend=False\n",
    "    )\n",
    "\n",
    "    norm = mpl.colors.Normalize(vmin=vmin, vmax=vmax)\n",
    "    sm = mpl.cm.ScalarMappable(cmap=\"coolwarm\", norm=norm)\n",
    "    sm._A = []\n",
    "\n",
    "    cbar = fig.colorbar(\n",
    "        sm,\n",
    "        ax=ax,\n",
    "        fraction=0.04,\n",
    "        pad=0.02,\n",
    "        aspect=20,\n",
    "        shrink=0.4\n",
    "    )\n",
    "    cbar.set_label(\"Bird Abundance\", fontsize=9)\n",
    "    cbar.ax.tick_params(labelsize=8)\n",
    "    cbar.set_ticks([vmin, round((vmin + vmax) / 2), vmax])\n",
    "\n",
    "    multipolygon.boundary.plot(ax=ax, color='black')\n",
    "\n",
    "    date = os.path.splitext(daily_data)[0][:10]\n",
    "    plt.title(f\"Migratory Birds Presence on {date}\", fontsize=16)\n",
    "\n",
    "    save_path = os.path.join(hotspot_frames_path, f\"bird_hotspot_density_{date}.png\")\n",
    "\n",
    "    plt.savefig(save_path, dpi=150, bbox_inches=\"tight\")\n",
    "    plt.close()"
   ]
  },
  {
   "cell_type": "code",
   "execution_count": null,
   "id": "1a2c64ad",
   "metadata": {},
   "outputs": [],
   "source": [
    "## creating the gif with the generated frames: \n",
    "gif_path = \"bird_hotspot_d_animation.gif\"\n",
    "\n",
    "frames = [Image.open(os.path.join(hotspot_frames_path, f)) for f in os.listdir(hotspot_frames_path)]\n",
    "frames[0].save(gif_path, save_all=True, append_images=frames[1:], duration=900, loop=0)"
   ]
  },
  {
   "cell_type": "markdown",
   "id": "7feaf932",
   "metadata": {},
   "source": [
    "#### SHAP Plot GIF"
   ]
  },
  {
   "cell_type": "code",
   "execution_count": null,
   "id": "8923f630",
   "metadata": {},
   "outputs": [],
   "source": [
    "## creating the gif with the generated frames: \n",
    "shap_plot_frames = \"shap_plots\"\n",
    "shap_gif_path = \"shap_feature_importance.gif\"\n",
    "\n",
    "# re order the frames according to date first: \n",
    "# date_pattern = re.compile(r\"(\\d{2}_[A-Z]{3})\")\n",
    "\n",
    "# png_files = []\n",
    "# for filename in os.listdir(shap_plot_frames):\n",
    "#     if filename.endswith(\".png\"):\n",
    "#         match = date_pattern.search(filename)\n",
    "#         if match:\n",
    "#             date_str = match.group(1)\n",
    "#             try:\n",
    "#                 date_obj = datetime.datetime.strptime(date_str, \"%d_%b\")\n",
    "#                 png_files.append((filename, date_obj))\n",
    "#             except ValueError:\n",
    "#                 print(f\"Skipping invalid date in: {filename}\")\n",
    "\n",
    "# png_files.sort(key=lambda x: x[1])\n",
    "\n",
    "# for i, (filename, date_obj) in enumerate(png_files, start=1):\n",
    "#     old_path = os.path.join(shap_plot_frames, filename)\n",
    "#     new_filename = f\"{i:03d}_{filename}\"\n",
    "#     new_path = os.path.join(shap_plot_frames, new_filename)\n",
    "#     os.rename(old_path, new_path)\n",
    "#     print(f\"Renamed: {filename} --> {new_filename}\")"
   ]
  },
  {
   "cell_type": "code",
   "execution_count": null,
   "id": "661ffe36",
   "metadata": {},
   "outputs": [],
   "source": [
    "frames = [Image.open(os.path.join(shap_plot_frames, f)) for f in os.listdir(shap_plot_frames)]\n",
    "frames[0].save(shap_gif_path, save_all=True, append_images=frames[1:], duration=500, loop=0)"
   ]
  },
  {
   "cell_type": "markdown",
   "id": "c9da4f8f",
   "metadata": {},
   "source": [
    "### Per-tract Bird Density plotting:"
   ]
  },
  {
   "cell_type": "markdown",
   "id": "fc1145f0",
   "metadata": {},
   "source": [
    "using the chicago ct point csv:\n",
    "- 798 unique tracts\n",
    "- each tract has the avg daily density data for each of the 31 days\n",
    "- I will plot -> 15_JUN data for each tract, as it should be different for all 798 tracts. "
   ]
  },
  {
   "cell_type": "code",
   "execution_count": null,
   "id": "8c7c7ca5",
   "metadata": {},
   "outputs": [],
   "source": [
    "gdf = gpd.read_file(\"Chicago_CT_Point.csv\")"
   ]
  },
  {
   "cell_type": "code",
   "execution_count": null,
   "id": "82c95af0",
   "metadata": {},
   "outputs": [],
   "source": [
    "target_vars = ['15_JUN',\n",
    "       '16_JUN', '17_JUN', '18_JUN', '19_JUN', '20_JUN', '21_JUN', '22_JUN',\n",
    "       '23_JUN', '24_JUN', '25_JUN', '26_JUN', '27_JUN', '28_JUN', '29_JUN',\n",
    "       '30_JUN', '01_JLY', '02_JLY', '03_JLY', '04_JLY', '05_JLY', '06_JLY',\n",
    "       '07_JLY', '08_JLY', '09_JLY', '10_JLY', '11_JLY', '12_JLY', '13_JLY',\n",
    "       '14_JLY', '15_JLY']"
   ]
  },
  {
   "cell_type": "code",
   "execution_count": null,
   "id": "48f26a0b",
   "metadata": {},
   "outputs": [],
   "source": [
    "gdf[\"Long\"] = pd.to_numeric(gdf[\"Long\"])\n",
    "gdf[\"Lat\"] = pd.to_numeric(gdf[\"Lat\"])\n",
    "gdf[\"TRACTCE10\"] = pd.to_numeric(gdf[\"TRACTCE10\"])\n",
    "\n",
    "print(gdf.dtypes[:6])"
   ]
  },
  {
   "cell_type": "code",
   "execution_count": null,
   "id": "fb1e0019",
   "metadata": {},
   "outputs": [],
   "source": [
    "gdf['geometry'] = gdf.apply(lambda row: Point(row['Long'], row['Lat']), axis=1)\n",
    "gdf = gpd.GeoDataFrame(gdf, geometry='geometry', crs=\"EPSG:4326\")\n",
    "gdf = gdf.rename(columns={\"geometry\":\"geometry_ct_point\"})\n",
    "gdf[gdf[\"Communit_1\"]==\"OHARE\"]"
   ]
  },
  {
   "cell_type": "code",
   "execution_count": null,
   "id": "9d3af3c3",
   "metadata": {},
   "outputs": [],
   "source": [
    "chicago_tracts = gpd.read_file(\"Chicago_Tracts_2010.zip\")"
   ]
  },
  {
   "cell_type": "code",
   "execution_count": null,
   "id": "023014fe",
   "metadata": {},
   "outputs": [],
   "source": [
    "chicago_tracts[\"tractce10\"] = pd.to_numeric(chicago_tracts[\"tractce10\"])\n",
    "chicago_tracts.dtypes"
   ]
  },
  {
   "cell_type": "code",
   "execution_count": null,
   "id": "b5a73bc7",
   "metadata": {},
   "outputs": [],
   "source": [
    "# Convert gdf TRACTCE10 from float to int to string, pad with zeros\n",
    "gdf[\"TRACTCE10\"] = gdf[\"TRACTCE10\"].astype(int).astype(str).str.zfill(6)\n",
    "\n",
    "# Convert chicago_tracts tractce10 to string and pad\n",
    "chicago_tracts[\"tractce10\"] = chicago_tracts[\"tractce10\"].astype(str).str.zfill(6)"
   ]
  },
  {
   "cell_type": "code",
   "execution_count": null,
   "id": "b20b1bb0",
   "metadata": {},
   "outputs": [],
   "source": [
    "# Replace specific values\n",
    "chicago_tracts.loc[chicago_tracts[\"tractce10\"] == \"980000\", \"tractce10\"] = \"760802\"\n",
    "chicago_tracts.loc[chicago_tracts[\"tractce10\"] == \"770602\", \"tractce10\"] = \"760801\""
   ]
  },
  {
   "cell_type": "code",
   "execution_count": null,
   "id": "cb0bb1bb",
   "metadata": {},
   "outputs": [],
   "source": [
    "# merge w/chicago_tracts_2010 to get geometry col \n",
    "# merge on \"TRACTCE10\"\n",
    "\n",
    "gdf_merged = pd.merge(gdf, chicago_tracts, left_on=\"TRACTCE10\", right_on=\"tractce10\", how=\"inner\")"
   ]
  },
  {
   "cell_type": "code",
   "execution_count": null,
   "id": "ae2f97ac",
   "metadata": {},
   "outputs": [],
   "source": [
    "gdf_merged = gdf_merged.drop(columns=[\"notes\"],axis=1)\n",
    "gdf_merged[gdf_merged[\"Communit_1\"]==\"OHARE\"].isna().sum()"
   ]
  },
  {
   "cell_type": "code",
   "execution_count": null,
   "id": "e6b40d59",
   "metadata": {},
   "outputs": [],
   "source": [
    "gdf_merged = gpd.GeoDataFrame(gdf_merged, geometry=\"geometry\", crs=\"EPSG:4326\")\n",
    "type(gdf_merged)"
   ]
  },
  {
   "cell_type": "code",
   "execution_count": null,
   "id": "91e80db7",
   "metadata": {},
   "outputs": [],
   "source": [
    "gdf_merged.shape"
   ]
  },
  {
   "cell_type": "markdown",
   "id": "8d43e507",
   "metadata": {},
   "source": [
    "#### THE TRACTS THAT ARE MISSING ARE: 17031770602, 17031980000 (from chicago tracts 2010)"
   ]
  },
  {
   "cell_type": "code",
   "execution_count": null,
   "id": "9c7a7cfa",
   "metadata": {},
   "outputs": [],
   "source": [
    "gdf_merged.columns"
   ]
  },
  {
   "cell_type": "code",
   "execution_count": null,
   "id": "460de25b",
   "metadata": {},
   "outputs": [],
   "source": [
    "gdf"
   ]
  },
  {
   "cell_type": "code",
   "execution_count": null,
   "id": "e9a9eeef",
   "metadata": {},
   "outputs": [],
   "source": [
    "gdf.columns"
   ]
  },
  {
   "cell_type": "markdown",
   "id": "ee7d342a",
   "metadata": {},
   "source": [
    "<hr class=\"white-line\">"
   ]
  },
  {
   "cell_type": "code",
   "execution_count": null,
   "id": "d6d739c6",
   "metadata": {},
   "outputs": [],
   "source": [
    "def format_date(col_name):\n",
    "    \"\"\"Convert column names like '15_JUN' or '01_JLY' to 'June 15, 2025'.\"\"\"\n",
    "    clean_name = col_name.strip().replace(',', '').upper()\n",
    "    day, month = clean_name.split('_')\n",
    "\n",
    "    # Only correct JLY → JUL\n",
    "    if month == \"JLY\":\n",
    "        month = \"JUL\"\n",
    "\n",
    "    date_str = f\"{day}_{month}_2025\"\n",
    "    dt = datetime.strptime(date_str, \"%d_%b_%Y\")\n",
    "    return dt.strftime(\"%B %#d, %Y\")  # Use %#d on Windows"
   ]
  },
  {
   "cell_type": "code",
   "execution_count": null,
   "id": "ea4da7e2",
   "metadata": {},
   "outputs": [],
   "source": [
    "print(chicago_tracts.dtypes)\n",
    "print(gdf.dtypes)"
   ]
  },
  {
   "cell_type": "code",
   "execution_count": null,
   "id": "4d96c66c",
   "metadata": {},
   "outputs": [],
   "source": [
    "bird_density_frames = \"bird_density_frames\"\n",
    "for target in target_vars: \n",
    "    fig, ax = plt.subplots(figsize=(8, 10)) \n",
    "    gdf_merged[target] = pd.to_numeric(gdf_merged[target])\n",
    "\n",
    "    gdf_merged.plot(\n",
    "        column=target,\n",
    "        ax=ax,\n",
    "        cmap=\"RdPu\",\n",
    "        legend=False,\n",
    "        linewidth=0.5,\n",
    "        edgecolor=\"black\",\n",
    "    )\n",
    "\n",
    "    vmin = gdf_merged[target].min()\n",
    "    vmax = gdf_merged[target].max()\n",
    "\n",
    "    # add a smaller colorbar manually\n",
    "    norm = mpl.colors.Normalize(vmin=vmin, vmax=vmax)\n",
    "    sm = mpl.cm.ScalarMappable(cmap=\"RdPu\", norm=norm)\n",
    "    sm._A = []\n",
    "\n",
    "    # create colorbar with fewer ticks\n",
    "    cbar = fig.colorbar(\n",
    "        sm,\n",
    "        ax=ax,\n",
    "        fraction=0.04,\n",
    "        pad=0.02,\n",
    "        aspect=20,\n",
    "        shrink=0.4\n",
    "    )\n",
    "    cbar.set_label(\"Getis-Ord Gi* Intensity\", fontsize=9)\n",
    "    cbar.ax.tick_params(labelsize=8)\n",
    "    cbar.set_ticks([vmin, (vmin + vmax) / 2, vmax])\n",
    "\n",
    "    date = format_date(target)\n",
    "\n",
    "    ax.set_title(f\"Migratory Birds Hot Spot on {date}\", fontsize=14)\n",
    "    plt.tight_layout()\n",
    "\n",
    "    save_path = os.path.join(bird_density_frames, f\"bird_density_{date}.png\")\n",
    "\n",
    "    plt.savefig(save_path, dpi=150, bbox_inches=\"tight\")\n",
    "    plt.close()"
   ]
  },
  {
   "cell_type": "code",
   "execution_count": null,
   "id": "366921a4",
   "metadata": {},
   "outputs": [],
   "source": [
    "date_pattern = re.compile(r\"([A-Za-z]+ \\d{1,2}, \\d{4})\")\n",
    "\n",
    "# put frames in order based on date\n",
    "png_files = []\n",
    "for filename in os.listdir(bird_density_frames):\n",
    "    if filename.endswith(\".png\"):\n",
    "        match = date_pattern.search(filename)\n",
    "        if match:\n",
    "            date_str = match.group(1)\n",
    "            try:\n",
    "                date_obj = datetime.strptime(date_str, \"%B %d, %Y\")\n",
    "                png_files.append((filename, date_obj))\n",
    "            except ValueError:\n",
    "                print(f\"Skipping invalid date in: {filename}\")\n",
    "\n",
    "png_files.sort(key=lambda x: x[1])\n",
    "\n",
    "for i, (filename, date_obj) in enumerate(png_files, start=1):\n",
    "    old_path = os.path.join(bird_density_frames, filename)\n",
    "    new_filename = f\"{i:03d}_{filename}\"\n",
    "    new_path = os.path.join(bird_density_frames, new_filename)\n",
    "    os.rename(old_path, new_path)\n",
    "    print(f\"Renamed: {filename} --> {new_filename}\")"
   ]
  },
  {
   "cell_type": "code",
   "execution_count": null,
   "id": "fc20c432",
   "metadata": {},
   "outputs": [],
   "source": [
    "# assemble the GIF\n",
    "bird_density_gif_path = \"bird_density_animation.gif\"\n",
    "\n",
    "frames = [Image.open(os.path.join(bird_density_frames, f)) for f in os.listdir(bird_density_frames)]\n",
    "frames[0].save(bird_density_gif_path, save_all=True, append_images=frames[1:], duration=500, loop=0)"
   ]
  },
  {
   "cell_type": "markdown",
   "id": "28540c50",
   "metadata": {},
   "source": [
    "#### 8 climatic parameter daily avg. from june 15th to july 15th (8 total gifs)"
   ]
  },
  {
   "cell_type": "code",
   "execution_count": null,
   "id": "0e92a5a2",
   "metadata": {},
   "outputs": [],
   "source": [
    "## this comes from chicago_ct_weather_data repo code\n",
    "weather = pd.read_csv(\"per-census-agg-weather-data.csv\")"
   ]
  },
  {
   "cell_type": "code",
   "execution_count": null,
   "id": "6f26036e",
   "metadata": {},
   "outputs": [],
   "source": [
    "weather.columns"
   ]
  },
  {
   "cell_type": "code",
   "execution_count": null,
   "id": "105dfa7d",
   "metadata": {},
   "outputs": [],
   "source": [
    "weather_vars_and_id = ['cleaned_time', 'tract_id', 'temperature_180m', 'wind_direction_180m',\n",
    "       'wind_speed_180m', 'surface_pressure', 'cloud_cover',\n",
    "       'relative_humidity_2m', 'precipitation', 'visibility', 'tractce10']\n",
    "weather = weather[weather_vars_and_id]\n",
    "weather.head(1)"
   ]
  },
  {
   "cell_type": "code",
   "execution_count": null,
   "id": "c4a34a27",
   "metadata": {},
   "outputs": [],
   "source": [
    "weather[\"tractce10\"] = pd.to_numeric(weather[\"tractce10\"])\n",
    "chicago_tracts[\"tractce10\"] = pd.to_numeric(chicago_tracts[\"tractce10\"])"
   ]
  },
  {
   "cell_type": "code",
   "execution_count": null,
   "id": "2656d312",
   "metadata": {},
   "outputs": [],
   "source": [
    "# since the pre-existing geometry col is giving problems I will use a merge again to keep it consistent and get the working geometry col\n",
    "weather_merged = pd.merge(weather, chicago_tracts, on=\"tractce10\", how=\"inner\")\n",
    "weather_merged = gpd.GeoDataFrame(weather_merged, geometry=\"geometry\", crs=\"EPSG:4326\")"
   ]
  },
  {
   "cell_type": "code",
   "execution_count": null,
   "id": "2db64103",
   "metadata": {},
   "outputs": [],
   "source": [
    "weather_merged.plot()"
   ]
  },
  {
   "cell_type": "code",
   "execution_count": null,
   "id": "323d68d2",
   "metadata": {},
   "outputs": [],
   "source": [
    "weather_labels = {\n",
    "    'temperature_180m': 'Temperature',\n",
    "    'wind_direction_180m': 'Wind Direction',\n",
    "    'wind_speed_180m': 'Wind Speed',\n",
    "    'surface_pressure': 'Surface Pressure',\n",
    "    'cloud_cover': 'Cloud Cover',\n",
    "    'relative_humidity_2m': 'Relative Humidity',\n",
    "    'precipitation': 'Precipitation',\n",
    "    'visibility': 'Visibility'\n",
    "}\n",
    "\n",
    "weather_vars = ['temperature_180m', 'wind_direction_180m',\n",
    "       'wind_speed_180m', 'surface_pressure', 'cloud_cover',\n",
    "       'relative_humidity_2m', 'precipitation', 'visibility']\n",
    "\n"
   ]
  },
  {
   "cell_type": "code",
   "execution_count": null,
   "id": "f260ab8b",
   "metadata": {},
   "outputs": [],
   "source": [
    "os.makedirs(\"weather_gif_frames\", exist_ok=True)\n",
    "os.makedirs(\"weather_gifs\", exist_ok=True)\n",
    "\n",
    "for var in weather_vars: \n",
    "    frames = []\n",
    "    unique_days = sorted(weather_merged[\"cleaned_time\"].unique())\n",
    "\n",
    "    for day in unique_days:\n",
    "        daily = weather_merged[weather_merged[\"cleaned_time\"]==day]\n",
    "\n",
    "        fig, ax = plt.subplots(figsize=(8, 10)) \n",
    "\n",
    "        daily.plot(\n",
    "            column=var,\n",
    "            ax=ax,\n",
    "            cmap=\"RdPu\",\n",
    "            legend=False,\n",
    "            linewidth=0.5,\n",
    "            edgecolor=\"black\",\n",
    "        )\n",
    "\n",
    "        vmin = weather_merged[var].min() # global\n",
    "        vmax = weather_merged[var].max()\n",
    "\n",
    "        norm = mpl.colors.Normalize(vmin=vmin, vmax=vmax)\n",
    "        sm = mpl.cm.ScalarMappable(cmap=\"RdPu\", norm=norm)\n",
    "        sm._A = []\n",
    "\n",
    "        # create colorbar with fewer ticks\n",
    "        cbar = fig.colorbar(\n",
    "            sm,\n",
    "            ax=ax,\n",
    "            fraction=0.04,\n",
    "            pad=0.02,\n",
    "            aspect=20,\n",
    "            shrink=0.4\n",
    "        )\n",
    "        cbar.set_label(f\"{weather_labels[var]}\", fontsize=9)\n",
    "        cbar.ax.tick_params(labelsize=8)\n",
    "        cbar.set_ticks([vmin, (vmin + vmax) / 2, vmax])\n",
    "\n",
    "        ax.set_title(f\"{weather_labels[var]} on {day}\", fontsize=14)\n",
    "        plt.tight_layout()\n",
    "\n",
    "        frame_path = f\"weather_gif_frames/{var}_on_{day}.png\"\n",
    "        plt.savefig(frame_path, bbox_inches=\"tight\")\n",
    "        plt.close()\n",
    "        frames.append(imageio.imread(frame_path))\n",
    "\n",
    "    gif_path = f\"weather_gifs/{var}.gif\"\n",
    "    imageio.mimsave(gif_path, frames, duration=1, loop=0)"
   ]
  }
 ],
 "metadata": {
  "kernelspec": {
   "display_name": "Python 3",
   "language": "python",
   "name": "python3"
  },
  "language_info": {
   "codemirror_mode": {
    "name": "ipython",
    "version": 3
   },
   "file_extension": ".py",
   "mimetype": "text/x-python",
   "name": "python",
   "nbconvert_exporter": "python",
   "pygments_lexer": "ipython3",
   "version": "3.12.4"
  }
 },
 "nbformat": 4,
 "nbformat_minor": 5
}
