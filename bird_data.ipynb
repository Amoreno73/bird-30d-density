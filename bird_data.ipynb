{
 "cells": [
  {
   "cell_type": "markdown",
   "id": "d17c328e",
   "metadata": {},
   "source": [
    "#### Identifying bird species infected with H5N1 and finding bird density from past 30 days in Chicago (as of 7/15/2025).   \n",
    "By: Angel Moreno"
   ]
  },
  {
   "cell_type": "code",
   "execution_count": 17,
   "id": "32b5f3ca",
   "metadata": {},
   "outputs": [],
   "source": [
    "import pandas as pd\n",
    "import os\n",
    "import geopandas as gpd\n",
    "import matplotlib.pyplot as plt"
   ]
  },
  {
   "cell_type": "markdown",
   "id": "53fd9d28",
   "metadata": {},
   "source": [
    "#### Bird species infected with H5N1 in Midwestern states of interest:"
   ]
  },
  {
   "cell_type": "code",
   "execution_count": null,
   "id": "f2c474e9",
   "metadata": {},
   "outputs": [
    {
     "data": {
      "text/plain": [
       "array(['Bald eagle', 'Peregrine falcon', 'Sandhill crane',\n",
       "       'Red-tailed hawk', 'Herring gull', 'Red-breasted merganser',\n",
       "       'Great horned owl', 'Hawk (unidentified)', 'American crow',\n",
       "       'Canada goose', 'Trumpeter swan', 'Bufflehead', 'Snowy owl',\n",
       "       'Tundra swan', 'Chilean flamingo', 'Barred owl', 'Mallard',\n",
       "       'Hooded merganser', 'Common loon', 'European starling',\n",
       "       'Snow goose', 'Canvasback', 'Crow (unidentified)', \"Ross's goose\",\n",
       "       'American white pelican', 'Common tern', 'Swan (unidentified)',\n",
       "       'Blue-winged teal', 'Goose (unidentified)', 'Great blue heron',\n",
       "       'Great egret', 'Pelican (unidentified)', 'Ring-billed gull',\n",
       "       'Caspian tern', 'Double-crested cormorant', 'Wood duck',\n",
       "       'Redhead duck', 'Red-winged blackbird', 'Gadwall',\n",
       "       'Turkey vulture', 'Common raven', 'Ruddy duck',\n",
       "       'Eagle (unidentified)', 'Rough-legged hawk', 'Red-shouldered hawk',\n",
       "       \"Cooper's hawk\", 'Wood Duck', 'Mute swan',\n",
       "       'Cormorant (unidentified)', 'Lesser scaup', 'Black swan'],\n",
       "      dtype=object)"
      ]
     },
     "execution_count": 15,
     "metadata": {},
     "output_type": "execute_result"
    }
   ],
   "source": [
    "df = pd.read_csv(\"HPAI Detections in Wild Birds.csv\")\n",
    "\n",
    "mw_states_of_interest = [\"Illinois\", \"Wisconsin\", \"Michigan\"]\n",
    "dead_birds = df[(df[\"HPAI Strain\"].str.contains(\"H5N1\")) & (df[\"State\"].isin(mw_states_of_interest)) & (df[\"Sampling Method\"]==\"Morbidity/Mortality\")]\n",
    "dead_birds[\"Bird Species\"].unique()"
   ]
  },
  {
   "cell_type": "code",
   "execution_count": 16,
   "id": "73d452ff",
   "metadata": {},
   "outputs": [
    {
     "data": {
      "text/plain": [
       "array(['Chilean flamingo', 'Red-breasted merganser', 'Bufflehead',\n",
       "       'Canada goose', 'Mallard', 'Hooded merganser', 'Sandhill crane',\n",
       "       'Snow goose', 'Crow (unidentified)', 'Bald eagle',\n",
       "       'Red-tailed hawk', 'Great horned owl', \"Ross's goose\",\n",
       "       'American white pelican', 'Common tern', 'Goose (unidentified)',\n",
       "       'Swan (unidentified)', 'Pelican (unidentified)',\n",
       "       'Double-crested cormorant', 'Turkey vulture',\n",
       "       'Cormorant (unidentified)'], dtype=object)"
      ]
     },
     "execution_count": 16,
     "metadata": {},
     "output_type": "execute_result"
    }
   ],
   "source": [
    "mw_states_of_interest = [\"Illinois\", \"Wisconsin\", \"Michigan\"]\n",
    "dead_birds_il = df[(df[\"HPAI Strain\"].str.contains(\"H5N1\")) & (df[\"State\"] == \"Illinois\") & (df[\"Sampling Method\"]==\"Morbidity/Mortality\")]\n",
    "dead_birds_il[\"Bird Species\"].unique()"
   ]
  },
  {
   "cell_type": "markdown",
   "id": "b6fc42e6",
   "metadata": {},
   "source": [
    "#### Chicago Bird Migration 30-Day Data:"
   ]
  },
  {
   "cell_type": "code",
   "execution_count": null,
   "id": "1863a986",
   "metadata": {},
   "outputs": [
    {
     "name": "stdout",
     "output_type": "stream",
     "text": [
      "None\n"
     ]
    }
   ],
   "source": [
    "api_key = os.getenv(\"EBIRD_API_KEY\")\n",
    "headers = {\"X-eBirdApiToken\": api_key}\n"
   ]
  }
 ],
 "metadata": {
  "kernelspec": {
   "display_name": "Python 3",
   "language": "python",
   "name": "python3"
  },
  "language_info": {
   "codemirror_mode": {
    "name": "ipython",
    "version": 3
   },
   "file_extension": ".py",
   "mimetype": "text/x-python",
   "name": "python",
   "nbconvert_exporter": "python",
   "pygments_lexer": "ipython3",
   "version": "3.12.4"
  }
 },
 "nbformat": 4,
 "nbformat_minor": 5
}
