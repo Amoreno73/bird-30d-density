{
 "cells": [
  {
   "cell_type": "markdown",
   "id": "d17c328e",
   "metadata": {},
   "source": [
    "#### Identifying bird species infected with H5N1 and finding bird density from past 30 days in Chicago (as of 7/15/2025).   \n",
    "By: Angel Moreno"
   ]
  },
  {
   "cell_type": "code",
   "execution_count": null,
   "id": "32b5f3ca",
   "metadata": {},
   "outputs": [],
   "source": [
    "import pandas as pd\n",
    "import geopandas as gpd\n",
    "import os\n",
    "import requests\n",
    "import matplotlib.pyplot as plt\n",
    "import imageio.v2 as imageio\n",
    "from datetime import datetime, timedelta\n",
    "import numpy as np\n",
    "from shapely.geometry import box\n",
    "from dotenv import load_dotenv\n",
    "import libpysal\n",
    "from esda import getisord\n",
    "from shapely import Point\n",
    "import zipfile\n",
    "import warnings"
   ]
  },
  {
   "cell_type": "markdown",
   "id": "53fd9d28",
   "metadata": {},
   "source": [
    "#### Bird species infected with H5N1 in Midwestern states of interest:"
   ]
  },
  {
   "cell_type": "code",
   "execution_count": null,
   "id": "f2c474e9",
   "metadata": {},
   "outputs": [],
   "source": [
    "df = pd.read_csv(\"HPAI Detections in Wild Birds.csv\")\n",
    "\n",
    "mw_states_of_interest = [\"Illinois\", \"Wisconsin\", \"Michigan\"]\n",
    "dead_birds = df[(df[\"HPAI Strain\"].str.contains(\"H5N1\")) & (df[\"State\"].isin(mw_states_of_interest)) & (df[\"Sampling Method\"]==\"Morbidity/Mortality\")]\n",
    "dead_birds[\"Bird Species\"].unique()"
   ]
  },
  {
   "cell_type": "code",
   "execution_count": null,
   "id": "73d452ff",
   "metadata": {},
   "outputs": [],
   "source": [
    "# Illinois only\n",
    "dead_birds_il = df[(df[\"HPAI Strain\"].str.contains(\"H5N1\")) & (df[\"State\"] == \"Illinois\") & (df[\"Sampling Method\"]==\"Morbidity/Mortality\")]\n",
    "dead_birds_il[\"Bird Species\"].unique()"
   ]
  },
  {
   "cell_type": "markdown",
   "id": "b6fc42e6",
   "metadata": {},
   "source": [
    "#### Chicago Bird Migration 30-Day Data (eBird):"
   ]
  },
  {
   "cell_type": "code",
   "execution_count": null,
   "id": "1863a986",
   "metadata": {},
   "outputs": [],
   "source": [
    "# load_dotenv() \n",
    "\n",
    "# api_key = os.getenv(\"EBIRD_API_KEY\")\n",
    "# headers = {\"X-eBirdApiToken\": api_key}\n",
    "\n",
    "# params = {\n",
    "#     # lat and lng corresponds to downtown chicago\n",
    "#     # 300 S Federal St, Chicago, IL 60604\n",
    "#     \"lat\": 41.864231,\n",
    "#     \"lng\": -87.627706,\n",
    "#     \"dist\": 30, # this covers O'Hare and covers Blue Island\n",
    "#     \"back\": 30, # past 30 days\n",
    "#     \"maxResults\": 10000\n",
    "# }\n",
    "\n",
    "# response = requests.get(\n",
    "#     \"https://api.ebird.org/v2/data/obs/geo/recent\",\n",
    "#     headers=headers,\n",
    "#     params=params\n",
    "# )"
   ]
  },
  {
   "cell_type": "code",
   "execution_count": null,
   "id": "267fb37f",
   "metadata": {},
   "outputs": [],
   "source": [
    "def get_30_day_data():\n",
    "    load_dotenv()\n",
    "\n",
    "    api_key = os.getenv(\"EBIRD_API_KEY\")\n",
    "    headers = {\"X-eBirdApiToken\": api_key}\n",
    "\n",
    "# Location details for downtown Chicago\n",
    "    lat = 41.864231\n",
    "    lng = -87.627706\n",
    "    dist = 30  # in km\n",
    "\n",
    "# Date range: June 18 – July 18, 2025\n",
    "    start_date = datetime(2025, 6, 18)\n",
    "    end_date = datetime(2025, 7, 18)\n",
    "\n",
    "    all_data = []\n",
    "\n",
    "    for i in range((end_date - start_date).days + 1):\n",
    "        date = start_date + timedelta(days=i)\n",
    "        url = f\"https://api.ebird.org/v2/data/obs/US-IL-031/historic/{date.year}/{date.month:02}/{date.day:02}\"\n",
    "\n",
    "        response = requests.get(url, headers=headers, params={\"maxResults\": 10000})\n",
    "    \n",
    "        if response.status_code == 200:\n",
    "            day_data = response.json()\n",
    "\n",
    "        # Optional: filter by lat/lng radius manually\n",
    "            filtered = [\n",
    "            obs for obs in day_data\n",
    "            if abs(obs.get(\"lat\", 0) - lat) <= 0.27 and abs(obs.get(\"lng\", 0) - lng) <= 0.37\n",
    "        ]\n",
    "            all_data.extend(filtered)\n",
    "        else:\n",
    "            print(f\"Failed on {date.strftime('%Y-%m-%d')}: {response.status_code}\")\n",
    "\n",
    "# Convert to DataFrame and save\n",
    "    df = pd.DataFrame(all_data)\n",
    "    df.to_csv(\"ebird_june18_july18_2025.csv\", index=False)\n",
    "\n",
    "    return df"
   ]
  },
  {
   "cell_type": "code",
   "execution_count": null,
   "id": "5566ba54",
   "metadata": {},
   "outputs": [],
   "source": [
    "# UNCOMMENT TO GET full 30 DAY DATA CSV\n",
    "\n",
    "# df = get_30_day_data()"
   ]
  },
  {
   "cell_type": "code",
   "execution_count": null,
   "id": "088eb146",
   "metadata": {},
   "outputs": [],
   "source": [
    "df.shape"
   ]
  },
  {
   "cell_type": "code",
   "execution_count": null,
   "id": "48c957f5",
   "metadata": {},
   "outputs": [],
   "source": [
    "df.head()"
   ]
  },
  {
   "cell_type": "code",
   "execution_count": null,
   "id": "61499bb7",
   "metadata": {},
   "outputs": [],
   "source": [
    "obs_30d = df"
   ]
  },
  {
   "cell_type": "code",
   "execution_count": null,
   "id": "e7a395c5",
   "metadata": {},
   "outputs": [],
   "source": [
    "date_format = \"%Y-%m-%d %H:%M\"\n",
    "\n",
    "obs_30d[\"date\"] = pd.to_datetime(obs_30d[\"obsDt\"], format='ISO8601')\n",
    "\n",
    "# will be used for animation\n",
    "unique_dates = np.unique(obs_30d['date'])\n",
    "len(unique_dates)"
   ]
  },
  {
   "cell_type": "code",
   "execution_count": null,
   "id": "b785fe66",
   "metadata": {},
   "outputs": [],
   "source": [
    "# instead of the tract boundaries -> form into chicago multipolygon\n",
    "chicago_boundary = gpd.read_file(\"Chicago_Tracts_2020.zip\")\n",
    "multipolygon = chicago_boundary.dissolve(by=None)\n",
    "fig, ax = plt.subplots(figsize=(8, 8))\n",
    "multipolygon.plot(ax=ax, color='grey', edgecolor='red', alpha=0.5)"
   ]
  },
  {
   "cell_type": "markdown",
   "id": "f297df35",
   "metadata": {},
   "source": [
    "#### Getis-Ord Gi* Heatmaps:"
   ]
  },
  {
   "cell_type": "code",
   "execution_count": null,
   "id": "bb96ee38",
   "metadata": {},
   "outputs": [],
   "source": [
    "type(obs_30d)"
   ]
  },
  {
   "cell_type": "code",
   "execution_count": null,
   "id": "add35fed",
   "metadata": {},
   "outputs": [],
   "source": [
    "projected = gpd.GeoDataFrame(obs_30d, geometry=gpd.points_from_xy(obs_30d.lng, obs_30d.lat), crs=\"EPSG:4326\")\n",
    "projected = projected.to_crs(\"EPSG:3857\")\n",
    "projected.crs"
   ]
  },
  {
   "cell_type": "code",
   "execution_count": null,
   "id": "c9455092",
   "metadata": {},
   "outputs": [],
   "source": [
    "def create_grid(gdf, cell_size):\n",
    "    bounds = gdf.total_bounds  # [minx, miny, maxx, maxy]\n",
    "    xmin, ymin, xmax, ymax = bounds\n",
    "    rows = int((ymax - ymin) / cell_size)\n",
    "    cols = int((xmax - xmin) / cell_size)\n",
    "    \n",
    "    grid_cells = []\n",
    "    for i in range(cols):\n",
    "        for j in range(rows):\n",
    "            x1 = xmin + i * cell_size\n",
    "            y1 = ymin + j * cell_size\n",
    "            x2 = x1 + cell_size\n",
    "            y2 = y1 + cell_size\n",
    "            grid_cells.append(box(x1, y1, x2, y2))\n",
    "    \n",
    "    grid = gpd.GeoDataFrame({'geometry': grid_cells}, crs=gdf.crs)\n",
    "    return grid"
   ]
  },
  {
   "cell_type": "code",
   "execution_count": null,
   "id": "dd354de7",
   "metadata": {},
   "outputs": [],
   "source": [
    "cell_size = 500  # in meters, balanced for the # of data i have\n",
    "grid = create_grid(projected, cell_size)\n",
    "grid"
   ]
  },
  {
   "cell_type": "code",
   "execution_count": null,
   "id": "e18b4815",
   "metadata": {},
   "outputs": [],
   "source": [
    "joined = gpd.sjoin(projected, grid, predicate=\"within\")\n",
    "counts = joined.groupby('index_right').size()\n",
    "grid['count'] = counts\n",
    "grid['count'] = grid['count'].fillna(0)"
   ]
  },
  {
   "cell_type": "code",
   "execution_count": null,
   "id": "56a312d5",
   "metadata": {},
   "outputs": [],
   "source": [
    "# Spatial weights\n",
    "w = libpysal.weights.Queen.from_dataframe(grid)\n",
    "w.transform = 'r'\n",
    "\n",
    "# Gi* statistic\n",
    "gi_star = getisord.G_Local(grid['count'], w)\n",
    "\n",
    "# Add results to grid\n",
    "grid['GiZ'] = gi_star.Zs  # Z-scores\n",
    "grid['pval'] = gi_star.p_sim"
   ]
  },
  {
   "cell_type": "code",
   "execution_count": null,
   "id": "8a3bc712",
   "metadata": {},
   "outputs": [],
   "source": [
    "multipolygon = multipolygon.to_crs(grid.crs)"
   ]
  },
  {
   "cell_type": "code",
   "execution_count": null,
   "id": "d4e9645a",
   "metadata": {},
   "outputs": [],
   "source": [
    "# significant points only filter:\n",
    "# significant = grid[grid['pval'] < 0.05]"
   ]
  },
  {
   "cell_type": "code",
   "execution_count": null,
   "id": "cbac87cf",
   "metadata": {},
   "outputs": [],
   "source": [
    "fig, ax = plt.subplots(figsize=(10, 10))\n",
    "\n",
    "# significant = grid[grid['pval'] < 0.05]\n",
    "\n",
    "# Plot Gi* heatmap\n",
    "grid.plot(column='GiZ', cmap='coolwarm', \n",
    "          vmin=-3, vmax=3,\n",
    "          linewidth=0.1, ax=ax, edgecolor='grey', legend=True)\n",
    "\n",
    "# Overlay Chicago boundary\n",
    "multipolygon.boundary.plot(ax=ax, color='black')\n",
    "\n",
    "# Final touches\n",
    "ax.set_title(\"Getis-Ord Gi* Z-scores of Bird Density in Chicago (as of July 18, 2025)\", fontsize=14)\n",
    "ax.axis('off')\n",
    "plt.tight_layout()\n",
    "plt.show()"
   ]
  },
  {
   "cell_type": "markdown",
   "id": "8fb15e5d",
   "metadata": {},
   "source": [
    "#### Next steps - July 23, 2025.    \n",
    "Hotspot analysis will not work for the next steps, so I will be compiling 30 .shp files for each day (past 30 days). "
   ]
  },
  {
   "cell_type": "code",
   "execution_count": null,
   "id": "c55c6a63",
   "metadata": {},
   "outputs": [],
   "source": [
    "def generate_30d_shps(year_start, month_start, day_start, year_end, month_end, day_end):\n",
    "    \"\"\"Gets the past 30 daily bird migration data in Chicago and creates an .shp file (WGS84) for each day.  \n",
    "    Custom ranges are supported by specifying the start and end date values.  \n",
    "    Ex. generate_30d_shps(2025, 6, 18, 2025, 7, 18) -> June 18, 2025 to July 18, 2025 data.\n",
    "    \n",
    "    Note: this uses the eBird Historic Data api.\"\"\"\n",
    "    load_dotenv()\n",
    "\n",
    "    api_key = os.getenv(\"EBIRD_API_KEY\")\n",
    "    headers = {\"X-eBirdApiToken\": api_key}\n",
    "\n",
    "    # Location details for downtown Chicago\n",
    "    lat = 41.864231\n",
    "    lng = -87.627706\n",
    "    dist = 30  # in km\n",
    "\n",
    "    # custom date range\n",
    "    start_date = datetime(year_start, month_start, day_start)\n",
    "    end_date = datetime(year_end, month_end, day_end)\n",
    "\n",
    "    # create folder to save the .shp files\n",
    "    folder_name = os.path.join(\"30d_bird_chicago\")\n",
    "    os.makedirs(folder_name, exist_ok=True)\n",
    "\n",
    "    for i in range((end_date - start_date).days + 1):\n",
    "        date = start_date + timedelta(days=i)\n",
    "        url = f\"https://api.ebird.org/v2/data/obs/US-IL-031/historic/{date.year}/{date.month:02}/{date.day:02}\"\n",
    "\n",
    "        response = requests.get(url, headers=headers, params={\"maxResults\": 10000})\n",
    "        \n",
    "        if response.status_code == 200:\n",
    "            day_data = response.json()\n",
    "\n",
    "        # Optional: filter by lat/lng radius manually\n",
    "            filtered = [obs for obs in day_data\n",
    "            if abs(obs.get(\"lat\", 0) - lat) <= 0.27 and abs(obs.get(\"lng\", 0) - lng) <= 0.37]\n",
    "\n",
    "        # at each iteration save the shp to the folder created. \n",
    "        \n",
    "            # first create geometry col \n",
    "            df_filtered = pd.DataFrame(filtered)\n",
    "            geometry = [Point(xy) for xy in zip(df_filtered['lng'], df_filtered['lat'])]\n",
    "            gdf = gpd.GeoDataFrame(df_filtered, geometry=geometry, crs=\"epsg:4326\")\n",
    "\n",
    "            path = os.path.join(folder_name, f\"{str(date)[0:10]}_bird_data.shp\")\n",
    "            gdf.to_file(path)\n",
    "\n",
    "            file_base = os.path.splitext(path)[0]\n",
    "            zip_path = f\"{file_base}.zip\"\n",
    "\n",
    "            with zipfile.ZipFile(zip_path, \"w\") as zipf:\n",
    "                for ext in [\".shp\", \".shx\", \".dbf\", \".prj\", \".cpg\"]:\n",
    "                    file_to_zip = f\"{file_base}{ext}\"\n",
    "                    if os.path.exists(file_to_zip):\n",
    "                        zipf.write(file_to_zip, arcname=os.path.basename(file_to_zip))\n",
    "                        os.remove(file_to_zip) #clean up files\n",
    "\n",
    "        else:\n",
    "            print(f\"Failed on {date.strftime('%Y-%m-%d')}: {response.status_code}\")\n"
   ]
  },
  {
   "cell_type": "code",
   "execution_count": null,
   "id": "20bd051b",
   "metadata": {},
   "outputs": [],
   "source": [
    "# UNCOMMENT TO GENERATE FOLDER W/30 shapefiles\n",
    "\n",
    "with warnings.catch_warnings():\n",
    "    warnings.filterwarnings(\"ignore\")\n",
    "    generate_30d_shps(2025, 6, 18, 2025, 7, 18)"
   ]
  }
 ],
 "metadata": {
  "kernelspec": {
   "display_name": "Python 3",
   "language": "python",
   "name": "python3"
  },
  "language_info": {
   "codemirror_mode": {
    "name": "ipython",
    "version": 3
   },
   "file_extension": ".py",
   "mimetype": "text/x-python",
   "name": "python",
   "nbconvert_exporter": "python",
   "pygments_lexer": "ipython3",
   "version": "3.12.4"
  }
 },
 "nbformat": 4,
 "nbformat_minor": 5
}
