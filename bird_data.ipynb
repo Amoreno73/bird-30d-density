{
 "cells": [
  {
   "cell_type": "markdown",
   "id": "d17c328e",
   "metadata": {},
   "source": [
    "#### Identifying bird species infected with H5N1 and finding bird density from past 30 days in Chicago (as of 7/15/2025).   \n",
    "By: Angel Moreno"
   ]
  },
  {
   "cell_type": "code",
   "execution_count": 1,
   "id": "32b5f3ca",
   "metadata": {},
   "outputs": [],
   "source": [
    "import pandas as pd\n",
    "import geopandas as gpd\n",
    "import os\n",
    "import requests\n",
    "import matplotlib.pyplot as plt\n",
    "import imageio.v2 as imageio\n",
    "from datetime import datetime, timedelta\n",
    "import numpy as np\n",
    "from shapely.geometry import box\n",
    "from dotenv import load_dotenv\n",
    "import libpysal\n",
    "from esda import getisord\n",
    "from shapely import Point\n",
    "import zipfile\n",
    "import warnings"
   ]
  },
  {
   "cell_type": "markdown",
   "id": "53fd9d28",
   "metadata": {},
   "source": [
    "#### Bird species infected with H5N1 in Midwestern states of interest:"
   ]
  },
  {
   "cell_type": "code",
   "execution_count": 3,
   "id": "f2c474e9",
   "metadata": {},
   "outputs": [
    {
     "data": {
      "text/plain": [
       "array(['Bald eagle', 'Peregrine falcon', 'Sandhill crane',\n",
       "       'Red-tailed hawk', 'Herring gull', 'Red-breasted merganser',\n",
       "       'Great horned owl', 'Hawk (unidentified)', 'American crow',\n",
       "       'Canada goose', 'Trumpeter swan', 'Bufflehead', 'Snowy owl',\n",
       "       'Tundra swan', 'Chilean flamingo', 'Barred owl', 'Mallard',\n",
       "       'Hooded merganser', 'Common loon', 'European starling',\n",
       "       'Snow goose', 'Canvasback', 'Crow (unidentified)', \"Ross's goose\",\n",
       "       'American white pelican', 'Common tern', 'Swan (unidentified)',\n",
       "       'Blue-winged teal', 'Goose (unidentified)', 'Great blue heron',\n",
       "       'Great egret', 'Pelican (unidentified)', 'Ring-billed gull',\n",
       "       'Caspian tern', 'Double-crested cormorant', 'Wood duck',\n",
       "       'Redhead duck', 'Red-winged blackbird', 'Gadwall',\n",
       "       'Turkey vulture', 'Common raven', 'Ruddy duck',\n",
       "       'Eagle (unidentified)', 'Rough-legged hawk', 'Red-shouldered hawk',\n",
       "       \"Cooper's hawk\", 'Wood Duck', 'Mute swan',\n",
       "       'Cormorant (unidentified)', 'Lesser scaup', 'Black swan'],\n",
       "      dtype=object)"
      ]
     },
     "execution_count": 3,
     "metadata": {},
     "output_type": "execute_result"
    }
   ],
   "source": [
    "df = pd.read_csv(\"HPAI Detections in Wild Birds.csv\")\n",
    "\n",
    "mw_states_of_interest = [\"Illinois\", \"Wisconsin\", \"Michigan\"]\n",
    "dead_birds = df[(df[\"HPAI Strain\"].str.contains(\"H5N1\")) & (df[\"State\"].isin(mw_states_of_interest)) & (df[\"Sampling Method\"]==\"Morbidity/Mortality\")]\n",
    "dead_birds[\"Bird Species\"].unique()"
   ]
  },
  {
   "cell_type": "code",
   "execution_count": 4,
   "id": "73d452ff",
   "metadata": {},
   "outputs": [
    {
     "data": {
      "text/plain": [
       "array(['Chilean flamingo', 'Red-breasted merganser', 'Bufflehead',\n",
       "       'Canada goose', 'Mallard', 'Hooded merganser', 'Sandhill crane',\n",
       "       'Snow goose', 'Crow (unidentified)', 'Bald eagle',\n",
       "       'Red-tailed hawk', 'Great horned owl', \"Ross's goose\",\n",
       "       'American white pelican', 'Common tern', 'Goose (unidentified)',\n",
       "       'Swan (unidentified)', 'Pelican (unidentified)',\n",
       "       'Double-crested cormorant', 'Turkey vulture',\n",
       "       'Cormorant (unidentified)'], dtype=object)"
      ]
     },
     "execution_count": 4,
     "metadata": {},
     "output_type": "execute_result"
    }
   ],
   "source": [
    "# Illinois only\n",
    "dead_birds_il = df[(df[\"HPAI Strain\"].str.contains(\"H5N1\")) & (df[\"State\"] == \"Illinois\") & (df[\"Sampling Method\"]==\"Morbidity/Mortality\")]\n",
    "dead_birds_il[\"Bird Species\"].unique()"
   ]
  },
  {
   "cell_type": "markdown",
   "id": "b6fc42e6",
   "metadata": {},
   "source": [
    "#### Chicago Bird Migration 30-Day Data (eBird):"
   ]
  },
  {
   "cell_type": "code",
   "execution_count": 52,
   "id": "1863a986",
   "metadata": {},
   "outputs": [],
   "source": [
    "# load_dotenv() \n",
    "\n",
    "# api_key = os.getenv(\"EBIRD_API_KEY\")\n",
    "# headers = {\"X-eBirdApiToken\": api_key}\n",
    "\n",
    "# params = {\n",
    "#     # lat and lng corresponds to downtown chicago\n",
    "#     # 300 S Federal St, Chicago, IL 60604\n",
    "#     \"lat\": 41.864231,\n",
    "#     \"lng\": -87.627706,\n",
    "#     \"dist\": 30, # this covers O'Hare and covers Blue Island\n",
    "#     \"back\": 30, # past 30 days\n",
    "#     \"maxResults\": 10000\n",
    "# }\n",
    "\n",
    "# response = requests.get(\n",
    "#     \"https://api.ebird.org/v2/data/obs/geo/recent\",\n",
    "#     headers=headers,\n",
    "#     params=params\n",
    "# )"
   ]
  },
  {
   "cell_type": "code",
   "execution_count": 53,
   "id": "267fb37f",
   "metadata": {},
   "outputs": [],
   "source": [
    "def get_30_day_data():\n",
    "    load_dotenv()\n",
    "\n",
    "    api_key = os.getenv(\"EBIRD_API_KEY\")\n",
    "    headers = {\"X-eBirdApiToken\": api_key}\n",
    "\n",
    "# Location details for downtown Chicago\n",
    "    lat = 41.864231\n",
    "    lng = -87.627706\n",
    "    dist = 30  # in km\n",
    "\n",
    "# Date range: June 18 – July 18, 2025\n",
    "    start_date = datetime(2025, 6, 18)\n",
    "    end_date = datetime(2025, 7, 18)\n",
    "\n",
    "    all_data = []\n",
    "\n",
    "    for i in range((end_date - start_date).days + 1):\n",
    "        date = start_date + timedelta(days=i)\n",
    "        url = f\"https://api.ebird.org/v2/data/obs/US-IL-031/historic/{date.year}/{date.month:02}/{date.day:02}\"\n",
    "\n",
    "        response = requests.get(url, headers=headers, params={\"maxResults\": 10000})\n",
    "    \n",
    "        if response.status_code == 200:\n",
    "            day_data = response.json()\n",
    "\n",
    "        # Optional: filter by lat/lng radius manually\n",
    "            filtered = [\n",
    "            obs for obs in day_data\n",
    "            if abs(obs.get(\"lat\", 0) - lat) <= 0.27 and abs(obs.get(\"lng\", 0) - lng) <= 0.37\n",
    "        ]\n",
    "            all_data.extend(filtered)\n",
    "        else:\n",
    "            print(f\"Failed on {date.strftime('%Y-%m-%d')}: {response.status_code}\")\n",
    "\n",
    "# Convert to DataFrame and save\n",
    "    df = pd.DataFrame(all_data)\n",
    "    df.to_csv(\"ebird_june18_july18_2025.csv\", index=False)\n",
    "\n",
    "    return df"
   ]
  },
  {
   "cell_type": "code",
   "execution_count": 54,
   "id": "5566ba54",
   "metadata": {},
   "outputs": [],
   "source": [
    "# UNCOMMENT TO GET full 30 DAY DATA CSV\n",
    "\n",
    "# df = get_30_day_data()"
   ]
  },
  {
   "cell_type": "code",
   "execution_count": 55,
   "id": "088eb146",
   "metadata": {},
   "outputs": [
    {
     "data": {
      "text/plain": [
       "(13552, 9)"
      ]
     },
     "execution_count": 55,
     "metadata": {},
     "output_type": "execute_result"
    }
   ],
   "source": [
    "df.shape"
   ]
  },
  {
   "cell_type": "code",
   "execution_count": 56,
   "id": "48c957f5",
   "metadata": {},
   "outputs": [
    {
     "data": {
      "text/html": [
       "<div>\n",
       "<style scoped>\n",
       "    .dataframe tbody tr th:only-of-type {\n",
       "        vertical-align: middle;\n",
       "    }\n",
       "\n",
       "    .dataframe tbody tr th {\n",
       "        vertical-align: top;\n",
       "    }\n",
       "\n",
       "    .dataframe thead th {\n",
       "        text-align: right;\n",
       "    }\n",
       "</style>\n",
       "<table border=\"1\" class=\"dataframe\">\n",
       "  <thead>\n",
       "    <tr style=\"text-align: right;\">\n",
       "      <th></th>\n",
       "      <th>State</th>\n",
       "      <th>County</th>\n",
       "      <th>Collection Date</th>\n",
       "      <th>Date Detected</th>\n",
       "      <th>HPAI Strain</th>\n",
       "      <th>Bird Species</th>\n",
       "      <th>WOAH Classification</th>\n",
       "      <th>Sampling Method</th>\n",
       "      <th>Submitting Agency</th>\n",
       "    </tr>\n",
       "  </thead>\n",
       "  <tbody>\n",
       "    <tr>\n",
       "      <th>0</th>\n",
       "      <td>Florida</td>\n",
       "      <td>Hillsborough</td>\n",
       "      <td>3/20/2025</td>\n",
       "      <td>7/3/2025</td>\n",
       "      <td>EA/AM H5N1</td>\n",
       "      <td>Bald eagle</td>\n",
       "      <td>Wild bird</td>\n",
       "      <td>Morbidity/Mortality</td>\n",
       "      <td>Private (non-government) submission</td>\n",
       "    </tr>\n",
       "    <tr>\n",
       "      <th>1</th>\n",
       "      <td>Florida</td>\n",
       "      <td>Hillsborough</td>\n",
       "      <td>3/20/2025</td>\n",
       "      <td>7/3/2025</td>\n",
       "      <td>EA/AM H5N1</td>\n",
       "      <td>Bald eagle</td>\n",
       "      <td>Wild bird</td>\n",
       "      <td>Morbidity/Mortality</td>\n",
       "      <td>Private (non-government) submission</td>\n",
       "    </tr>\n",
       "    <tr>\n",
       "      <th>2</th>\n",
       "      <td>Florida</td>\n",
       "      <td>Brevard</td>\n",
       "      <td>11/26/2024</td>\n",
       "      <td>7/3/2025</td>\n",
       "      <td>EA/AM H5N1</td>\n",
       "      <td>Black vulture</td>\n",
       "      <td>Wild bird</td>\n",
       "      <td>Morbidity/Mortality</td>\n",
       "      <td>FL FWCC</td>\n",
       "    </tr>\n",
       "    <tr>\n",
       "      <th>3</th>\n",
       "      <td>New York</td>\n",
       "      <td>Chautauqua</td>\n",
       "      <td>3/17/2025</td>\n",
       "      <td>7/3/2025</td>\n",
       "      <td>EA H5</td>\n",
       "      <td>Bald eagle</td>\n",
       "      <td>Wild bird</td>\n",
       "      <td>Morbidity/Mortality</td>\n",
       "      <td>NY DEC</td>\n",
       "    </tr>\n",
       "    <tr>\n",
       "      <th>4</th>\n",
       "      <td>New York</td>\n",
       "      <td>Erie</td>\n",
       "      <td>3/17/2025</td>\n",
       "      <td>7/3/2025</td>\n",
       "      <td>EA/AM H5N1</td>\n",
       "      <td>Bald eagle</td>\n",
       "      <td>Wild bird</td>\n",
       "      <td>Morbidity/Mortality</td>\n",
       "      <td>NY DEC</td>\n",
       "    </tr>\n",
       "  </tbody>\n",
       "</table>\n",
       "</div>"
      ],
      "text/plain": [
       "      State        County Collection Date Date Detected HPAI Strain  \\\n",
       "0   Florida  Hillsborough       3/20/2025      7/3/2025  EA/AM H5N1   \n",
       "1   Florida  Hillsborough       3/20/2025      7/3/2025  EA/AM H5N1   \n",
       "2   Florida       Brevard      11/26/2024      7/3/2025  EA/AM H5N1   \n",
       "3  New York    Chautauqua       3/17/2025      7/3/2025       EA H5   \n",
       "4  New York          Erie       3/17/2025      7/3/2025  EA/AM H5N1   \n",
       "\n",
       "    Bird Species WOAH Classification      Sampling Method  \\\n",
       "0     Bald eagle           Wild bird  Morbidity/Mortality   \n",
       "1     Bald eagle           Wild bird  Morbidity/Mortality   \n",
       "2  Black vulture           Wild bird  Morbidity/Mortality   \n",
       "3     Bald eagle           Wild bird  Morbidity/Mortality   \n",
       "4     Bald eagle           Wild bird  Morbidity/Mortality   \n",
       "\n",
       "                     Submitting Agency  \n",
       "0  Private (non-government) submission  \n",
       "1  Private (non-government) submission  \n",
       "2                              FL FWCC  \n",
       "3                               NY DEC  \n",
       "4                               NY DEC  "
      ]
     },
     "execution_count": 56,
     "metadata": {},
     "output_type": "execute_result"
    }
   ],
   "source": [
    "df.head()"
   ]
  },
  {
   "cell_type": "code",
   "execution_count": 57,
   "id": "61499bb7",
   "metadata": {},
   "outputs": [],
   "source": [
    "obs_30d = df"
   ]
  },
  {
   "cell_type": "code",
   "execution_count": 10,
   "id": "e7a395c5",
   "metadata": {},
   "outputs": [],
   "source": [
    "# date_format = \"%Y-%m-%d %H:%M\"\n",
    "\n",
    "# obs_30d[\"date\"] = pd.to_datetime(obs_30d[\"obsDt\"], format='ISO8601')\n",
    "\n",
    "# # will be used for animation\n",
    "# unique_dates = np.unique(obs_30d['date'])\n",
    "# len(unique_dates)"
   ]
  },
  {
   "cell_type": "code",
   "execution_count": 2,
   "id": "b785fe66",
   "metadata": {},
   "outputs": [
    {
     "data": {
      "text/plain": [
       "<Axes: >"
      ]
     },
     "execution_count": 2,
     "metadata": {},
     "output_type": "execute_result"
    },
    {
     "data": {
      "image/png": "[encoded data removed]",
      "text/plain": [
       "<Figure size 800x800 with 1 Axes>"
      ]
     },
     "metadata": {},
     "output_type": "display_data"
    }
   ],
   "source": [
    "# instead of the tract boundaries -> form into chicago multipolygon\n",
    "chicago_boundary = gpd.read_file(\"Chicago_Tracts_2020.zip\")\n",
    "multipolygon = chicago_boundary.dissolve(by=None)\n",
    "fig, ax = plt.subplots(figsize=(8, 8))\n",
    "multipolygon.plot(ax=ax, color='grey', edgecolor='red', alpha=0.5)"
   ]
  },
  {
   "cell_type": "markdown",
   "id": "f297df35",
   "metadata": {},
   "source": [
    "#### Getis-Ord Gi* Heatmaps:"
   ]
  },
  {
   "cell_type": "code",
   "execution_count": null,
   "id": "bb96ee38",
   "metadata": {},
   "outputs": [],
   "source": [
    "type(obs_30d)"
   ]
  },
  {
   "cell_type": "code",
   "execution_count": null,
   "id": "add35fed",
   "metadata": {},
   "outputs": [],
   "source": [
    "projected = gpd.GeoDataFrame(obs_30d, geometry=gpd.points_from_xy(obs_30d.lng, obs_30d.lat), crs=\"EPSG:4326\")\n",
    "projected = projected.to_crs(\"EPSG:3857\")\n",
    "projected.crs"
   ]
  },
  {
   "cell_type": "code",
   "execution_count": null,
   "id": "c9455092",
   "metadata": {},
   "outputs": [],
   "source": [
    "def create_grid(gdf, cell_size):\n",
    "    bounds = gdf.total_bounds  # [minx, miny, maxx, maxy]\n",
    "    xmin, ymin, xmax, ymax = bounds\n",
    "    rows = int((ymax - ymin) / cell_size)\n",
    "    cols = int((xmax - xmin) / cell_size)\n",
    "    \n",
    "    grid_cells = []\n",
    "    for i in range(cols):\n",
    "        for j in range(rows):\n",
    "            x1 = xmin + i * cell_size\n",
    "            y1 = ymin + j * cell_size\n",
    "            x2 = x1 + cell_size\n",
    "            y2 = y1 + cell_size\n",
    "            grid_cells.append(box(x1, y1, x2, y2))\n",
    "    \n",
    "    grid = gpd.GeoDataFrame({'geometry': grid_cells}, crs=gdf.crs)\n",
    "    return grid"
   ]
  },
  {
   "cell_type": "code",
   "execution_count": null,
   "id": "dd354de7",
   "metadata": {},
   "outputs": [],
   "source": [
    "cell_size = 500  # in meters, balanced for the # of data i have\n",
    "grid = create_grid(projected, cell_size)\n",
    "grid"
   ]
  },
  {
   "cell_type": "code",
   "execution_count": null,
   "id": "e18b4815",
   "metadata": {},
   "outputs": [],
   "source": [
    "joined = gpd.sjoin(projected, grid, predicate=\"within\")\n",
    "counts = joined.groupby('index_right').size()\n",
    "grid['count'] = counts\n",
    "grid['count'] = grid['count'].fillna(0)"
   ]
  },
  {
   "cell_type": "code",
   "execution_count": null,
   "id": "56a312d5",
   "metadata": {},
   "outputs": [],
   "source": [
    "# Spatial weights\n",
    "w = libpysal.weights.Queen.from_dataframe(grid)\n",
    "w.transform = 'r'\n",
    "\n",
    "# Gi* statistic\n",
    "gi_star = getisord.G_Local(grid['count'], w)\n",
    "\n",
    "# Add results to grid\n",
    "grid['GiZ'] = gi_star.Zs  # Z-scores\n",
    "grid['pval'] = gi_star.p_sim"
   ]
  },
  {
   "cell_type": "code",
   "execution_count": null,
   "id": "8a3bc712",
   "metadata": {},
   "outputs": [],
   "source": [
    "multipolygon = multipolygon.to_crs(grid.crs)"
   ]
  },
  {
   "cell_type": "code",
   "execution_count": null,
   "id": "d4e9645a",
   "metadata": {},
   "outputs": [],
   "source": [
    "# significant points only filter:\n",
    "# significant = grid[grid['pval'] < 0.05]"
   ]
  },
  {
   "cell_type": "code",
   "execution_count": null,
   "id": "cbac87cf",
   "metadata": {},
   "outputs": [],
   "source": [
    "fig, ax = plt.subplots(figsize=(10, 10))\n",
    "\n",
    "# significant = grid[grid['pval'] < 0.05]\n",
    "\n",
    "# Plot Gi* heatmap\n",
    "grid.plot(column='GiZ', cmap='coolwarm', \n",
    "          vmin=-3, vmax=3,\n",
    "          linewidth=0.1, ax=ax, edgecolor='grey', legend=True)\n",
    "\n",
    "# Overlay Chicago boundary\n",
    "multipolygon.boundary.plot(ax=ax, color='black')\n",
    "\n",
    "# Final touches\n",
    "ax.set_title(\"Getis-Ord Gi* Z-scores of Bird Density in Chicago (as of July 18, 2025)\", fontsize=14)\n",
    "ax.axis('off')\n",
    "plt.tight_layout()\n",
    "plt.show()"
   ]
  },
  {
   "cell_type": "markdown",
   "id": "8fb15e5d",
   "metadata": {},
   "source": [
    "#### Next steps - Compiling 30 .shp files for each day (past 30 days). "
   ]
  },
  {
   "cell_type": "code",
   "execution_count": 2,
   "id": "c55c6a63",
   "metadata": {},
   "outputs": [],
   "source": [
    "def get_cstm_bird_data(fname, year_start, month_start, day_start, year_end, month_end, day_end):\n",
    "    \"\"\"Gets the past 30 daily bird migration data in Chicago and creates an .shp file (WGS84) for each day.  \n",
    "    Custom ranges are supported by specifying the start and end date values.  \n",
    "    Ex. generate_30d_shps(2025, 6, 18, 2025, 7, 18) -> June 18, 2025 to July 18, 2025 data.\n",
    "    \n",
    "    Note: this uses the eBird Historic Data api.\"\"\"\n",
    "    load_dotenv()\n",
    "\n",
    "    api_key = os.getenv(\"EBIRD_API_KEY\")\n",
    "    headers = {\"X-eBirdApiToken\": api_key}\n",
    "\n",
    "    # Location details for downtown Chicago\n",
    "    lat = 41.864231\n",
    "    lng = -87.627706\n",
    "    dist = 30  # in km\n",
    "\n",
    "    # custom date range\n",
    "    start_date = datetime(year_start, month_start, day_start)\n",
    "    end_date = datetime(year_end, month_end, day_end)\n",
    "\n",
    "    # create folder to save the .shp files\n",
    "    folder_name = os.path.join(fname)\n",
    "    os.makedirs(folder_name, exist_ok=True)\n",
    "\n",
    "    # filter for chicago only \n",
    "    chicago_boundary = gpd.read_file(\"Chicago_Tracts_2020.zip\")\n",
    "    multipolygon = chicago_boundary.dissolve(by=None)\n",
    "    multipolygon = multipolygon.to_crs(\"epsg:4326\")\n",
    "\n",
    "    for i in range((end_date - start_date).days + 1):\n",
    "        date = start_date + timedelta(days=i)\n",
    "        url = f\"https://api.ebird.org/v2/data/obs/US-IL-031/historic/{date.year}/{date.month:02}/{date.day:02}\"\n",
    "\n",
    "        response = requests.get(url, headers=headers, params={\"maxResults\": 10000})\n",
    "        \n",
    "        if response.status_code == 200:\n",
    "            day_data = response.json()\n",
    "\n",
    "        # Optional: filter by lat/lng radius manually\n",
    "            filtered = [obs for obs in day_data\n",
    "            if abs(obs.get(\"lat\", 0) - lat) <= 0.27 and abs(obs.get(\"lng\", 0) - lng) <= 0.37]\n",
    "\n",
    "        # at each iteration save the shp to the folder created. \n",
    "        \n",
    "            # first create geometry col \n",
    "            df_filtered = pd.DataFrame(filtered)\n",
    "            geometry = [Point(xy) for xy in zip(df_filtered['lng'], df_filtered['lat'])]\n",
    "            gdf = gpd.GeoDataFrame(df_filtered, geometry=geometry, crs=\"epsg:4326\")\n",
    "\n",
    "            # clip the entries to chicago only\n",
    "            clipped = gpd.clip(gdf, chicago_boundary)\n",
    "\n",
    "            path = os.path.join(folder_name, f\"{str(date)[0:10]}_bird_data.shp\")\n",
    "            clipped.to_file(path)\n",
    "\n",
    "            file_base = os.path.splitext(path)[0]\n",
    "            zip_path = f\"{file_base}.zip\"\n",
    "\n",
    "            with zipfile.ZipFile(zip_path, \"w\") as zipf:\n",
    "                for ext in [\".shp\", \".shx\", \".dbf\", \".prj\", \".cpg\"]:\n",
    "                    file_to_zip = f\"{file_base}{ext}\"\n",
    "                    if os.path.exists(file_to_zip):\n",
    "                        zipf.write(file_to_zip, arcname=os.path.basename(file_to_zip))\n",
    "                        os.remove(file_to_zip) #clean up files\n",
    "\n",
    "        else:\n",
    "            print(f\"Failed on {date.strftime('%Y-%m-%d')}: {response.status_code}\")"
   ]
  },
  {
   "cell_type": "code",
   "execution_count": null,
   "id": "aa0c2a6f",
   "metadata": {},
   "outputs": [
    {
     "data": {
      "text/plain": [
       "<Axes: >"
      ]
     },
     "execution_count": 6,
     "metadata": {},
     "output_type": "execute_result"
    },
    {
     "data": {
      "image/png": "[encoded data removed]",
      "text/plain": [
       "<Figure size 1000x1000 with 1 Axes>"
      ]
     },
     "metadata": {},
     "output_type": "display_data"
    }
   ],
   "source": [
    "test = gpd.read_file(\"30d_bird_chicago/2025-07-15_bird_data.zip\")\n",
    "fig, ax = plt.subplots(figsize=(10, 10))\n",
    "\n",
    "test.plot(ax=ax, edgecolor='grey', legend=True)\n",
    "\n",
    "multipolygon.boundary.plot(ax=ax, color='black')"
   ]
  },
  {
   "cell_type": "code",
   "execution_count": 4,
   "id": "829c3dcd",
   "metadata": {},
   "outputs": [
    {
     "name": "stderr",
     "output_type": "stream",
     "text": [
      "C:\\Users\\ITO\\AppData\\Local\\Temp\\ipykernel_8976\\377590218.py:54: UserWarning: Column names longer than 10 characters will be truncated when saved to ESRI Shapefile.\n",
      "  clipped.to_file(path)\n",
      "c:\\Users\\ITO\\AppData\\Local\\Programs\\Python\\Python312\\Lib\\site-packages\\pyogrio\\raw.py:723: RuntimeWarning: Normalized/laundered field name: 'speciesCode' to 'speciesCod'\n",
      "  ogr_write(\n",
      "c:\\Users\\ITO\\AppData\\Local\\Programs\\Python\\Python312\\Lib\\site-packages\\pyogrio\\raw.py:723: RuntimeWarning: Normalized/laundered field name: 'obsReviewed' to 'obsReviewe'\n",
      "  ogr_write(\n",
      "c:\\Users\\ITO\\AppData\\Local\\Programs\\Python\\Python312\\Lib\\site-packages\\pyogrio\\raw.py:723: RuntimeWarning: Normalized/laundered field name: 'locationPrivate' to 'locationPr'\n",
      "  ogr_write(\n",
      "c:\\Users\\ITO\\AppData\\Local\\Programs\\Python\\Python312\\Lib\\site-packages\\pyogrio\\raw.py:723: RuntimeWarning: Normalized/laundered field name: 'exoticCategory' to 'exoticCate'\n",
      "  ogr_write(\n",
      "C:\\Users\\ITO\\AppData\\Local\\Temp\\ipykernel_8976\\377590218.py:54: UserWarning: Column names longer than 10 characters will be truncated when saved to ESRI Shapefile.\n",
      "  clipped.to_file(path)\n",
      "c:\\Users\\ITO\\AppData\\Local\\Programs\\Python\\Python312\\Lib\\site-packages\\pyogrio\\raw.py:723: RuntimeWarning: Normalized/laundered field name: 'speciesCode' to 'speciesCod'\n",
      "  ogr_write(\n",
      "c:\\Users\\ITO\\AppData\\Local\\Programs\\Python\\Python312\\Lib\\site-packages\\pyogrio\\raw.py:723: RuntimeWarning: Normalized/laundered field name: 'obsReviewed' to 'obsReviewe'\n",
      "  ogr_write(\n",
      "c:\\Users\\ITO\\AppData\\Local\\Programs\\Python\\Python312\\Lib\\site-packages\\pyogrio\\raw.py:723: RuntimeWarning: Normalized/laundered field name: 'locationPrivate' to 'locationPr'\n",
      "  ogr_write(\n",
      "c:\\Users\\ITO\\AppData\\Local\\Programs\\Python\\Python312\\Lib\\site-packages\\pyogrio\\raw.py:723: RuntimeWarning: Normalized/laundered field name: 'exoticCategory' to 'exoticCate'\n",
      "  ogr_write(\n",
      "C:\\Users\\ITO\\AppData\\Local\\Temp\\ipykernel_8976\\377590218.py:54: UserWarning: Column names longer than 10 characters will be truncated when saved to ESRI Shapefile.\n",
      "  clipped.to_file(path)\n",
      "c:\\Users\\ITO\\AppData\\Local\\Programs\\Python\\Python312\\Lib\\site-packages\\pyogrio\\raw.py:723: RuntimeWarning: Normalized/laundered field name: 'speciesCode' to 'speciesCod'\n",
      "  ogr_write(\n",
      "c:\\Users\\ITO\\AppData\\Local\\Programs\\Python\\Python312\\Lib\\site-packages\\pyogrio\\raw.py:723: RuntimeWarning: Normalized/laundered field name: 'obsReviewed' to 'obsReviewe'\n",
      "  ogr_write(\n",
      "c:\\Users\\ITO\\AppData\\Local\\Programs\\Python\\Python312\\Lib\\site-packages\\pyogrio\\raw.py:723: RuntimeWarning: Normalized/laundered field name: 'locationPrivate' to 'locationPr'\n",
      "  ogr_write(\n",
      "c:\\Users\\ITO\\AppData\\Local\\Programs\\Python\\Python312\\Lib\\site-packages\\pyogrio\\raw.py:723: RuntimeWarning: Normalized/laundered field name: 'exoticCategory' to 'exoticCate'\n",
      "  ogr_write(\n",
      "C:\\Users\\ITO\\AppData\\Local\\Temp\\ipykernel_8976\\377590218.py:54: UserWarning: Column names longer than 10 characters will be truncated when saved to ESRI Shapefile.\n",
      "  clipped.to_file(path)\n",
      "c:\\Users\\ITO\\AppData\\Local\\Programs\\Python\\Python312\\Lib\\site-packages\\pyogrio\\raw.py:723: RuntimeWarning: Normalized/laundered field name: 'speciesCode' to 'speciesCod'\n",
      "  ogr_write(\n",
      "c:\\Users\\ITO\\AppData\\Local\\Programs\\Python\\Python312\\Lib\\site-packages\\pyogrio\\raw.py:723: RuntimeWarning: Normalized/laundered field name: 'obsReviewed' to 'obsReviewe'\n",
      "  ogr_write(\n",
      "c:\\Users\\ITO\\AppData\\Local\\Programs\\Python\\Python312\\Lib\\site-packages\\pyogrio\\raw.py:723: RuntimeWarning: Normalized/laundered field name: 'locationPrivate' to 'locationPr'\n",
      "  ogr_write(\n",
      "c:\\Users\\ITO\\AppData\\Local\\Programs\\Python\\Python312\\Lib\\site-packages\\pyogrio\\raw.py:723: RuntimeWarning: Normalized/laundered field name: 'exoticCategory' to 'exoticCate'\n",
      "  ogr_write(\n",
      "C:\\Users\\ITO\\AppData\\Local\\Temp\\ipykernel_8976\\377590218.py:54: UserWarning: Column names longer than 10 characters will be truncated when saved to ESRI Shapefile.\n",
      "  clipped.to_file(path)\n",
      "c:\\Users\\ITO\\AppData\\Local\\Programs\\Python\\Python312\\Lib\\site-packages\\pyogrio\\raw.py:723: RuntimeWarning: Normalized/laundered field name: 'speciesCode' to 'speciesCod'\n",
      "  ogr_write(\n",
      "c:\\Users\\ITO\\AppData\\Local\\Programs\\Python\\Python312\\Lib\\site-packages\\pyogrio\\raw.py:723: RuntimeWarning: Normalized/laundered field name: 'obsReviewed' to 'obsReviewe'\n",
      "  ogr_write(\n",
      "c:\\Users\\ITO\\AppData\\Local\\Programs\\Python\\Python312\\Lib\\site-packages\\pyogrio\\raw.py:723: RuntimeWarning: Normalized/laundered field name: 'locationPrivate' to 'locationPr'\n",
      "  ogr_write(\n",
      "c:\\Users\\ITO\\AppData\\Local\\Programs\\Python\\Python312\\Lib\\site-packages\\pyogrio\\raw.py:723: RuntimeWarning: Normalized/laundered field name: 'exoticCategory' to 'exoticCate'\n",
      "  ogr_write(\n",
      "C:\\Users\\ITO\\AppData\\Local\\Temp\\ipykernel_8976\\377590218.py:54: UserWarning: Column names longer than 10 characters will be truncated when saved to ESRI Shapefile.\n",
      "  clipped.to_file(path)\n",
      "c:\\Users\\ITO\\AppData\\Local\\Programs\\Python\\Python312\\Lib\\site-packages\\pyogrio\\raw.py:723: RuntimeWarning: Normalized/laundered field name: 'speciesCode' to 'speciesCod'\n",
      "  ogr_write(\n",
      "c:\\Users\\ITO\\AppData\\Local\\Programs\\Python\\Python312\\Lib\\site-packages\\pyogrio\\raw.py:723: RuntimeWarning: Normalized/laundered field name: 'obsReviewed' to 'obsReviewe'\n",
      "  ogr_write(\n",
      "c:\\Users\\ITO\\AppData\\Local\\Programs\\Python\\Python312\\Lib\\site-packages\\pyogrio\\raw.py:723: RuntimeWarning: Normalized/laundered field name: 'locationPrivate' to 'locationPr'\n",
      "  ogr_write(\n",
      "c:\\Users\\ITO\\AppData\\Local\\Programs\\Python\\Python312\\Lib\\site-packages\\pyogrio\\raw.py:723: RuntimeWarning: Normalized/laundered field name: 'exoticCategory' to 'exoticCate'\n",
      "  ogr_write(\n"
     ]
    }
   ],
   "source": [
    "get_cstm_bird_data(\"six_day_data\", 2025, 7, 16, 2025, 7, 21)"
   ]
  }
 ],
 "metadata": {
  "kernelspec": {
   "display_name": "Python 3",
   "language": "python",
   "name": "python3"
  },
  "language_info": {
   "codemirror_mode": {
    "name": "ipython",
    "version": 3
   },
   "file_extension": ".py",
   "mimetype": "text/x-python",
   "name": "python",
   "nbconvert_exporter": "python",
   "pygments_lexer": "ipython3",
   "version": "3.12.4"
  }
 },
 "nbformat": 4,
 "nbformat_minor": 5
}
